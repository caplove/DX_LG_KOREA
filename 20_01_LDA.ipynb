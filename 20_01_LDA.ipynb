{
  "cells": [
    {
      "cell_type": "markdown",
      "metadata": {
        "id": "view-in-github",
        "colab_type": "text"
      },
      "source": [
        "<a href=\"https://colab.research.google.com/github/caplove/DX_LG_KOREA/blob/main/20_01_LDA.ipynb\" target=\"_parent\"><img src=\"https://colab.research.google.com/assets/colab-badge.svg\" alt=\"Open In Colab\"/></a>"
      ]
    },
    {
      "cell_type": "markdown",
      "metadata": {
        "id": "ZzwlnW9PAmy4"
      },
      "source": [
        "# <br>[ LG전자_DX_Intensive_Course  ] 자연어 처리 1<br><br> : Topic Modeling - Latent Dirichlet Allocation<br>"
      ]
    },
    {
      "cell_type": "code",
      "execution_count": null,
      "metadata": {
        "id": "QJBgLB3qFK6y",
        "colab": {
          "base_uri": "https://localhost:8080/"
        },
        "outputId": "977f6a69-1775-4e6d-f9a7-edf7ce175a66"
      },
      "outputs": [
        {
          "output_type": "stream",
          "name": "stdout",
          "text": [
            "fatal: destination path 'LG_natural_language_processing_day20' already exists and is not an empty directory.\n"
          ]
        }
      ],
      "source": [
        "# github에서 데이터 불러오기\n",
        "!git clone https://github.com/KU-DIC/LG_natural_language_processing_day20"
      ]
    },
    {
      "cell_type": "code",
      "execution_count": null,
      "metadata": {
        "colab": {
          "base_uri": "https://localhost:8080/"
        },
        "id": "4sJZb6VjuRW5",
        "outputId": "5fb79797-4317-46b6-ea44-458a3094cdd5",
        "scrolled": true
      },
      "outputs": [
        {
          "output_type": "stream",
          "name": "stdout",
          "text": [
            "Collecting pyLDAvis\n",
            "  Downloading pyLDAvis-3.3.1.tar.gz (1.7 MB)\n",
            "\u001b[?25l\r\u001b[K     |▏                               | 10 kB 25.8 MB/s eta 0:00:01\r\u001b[K     |▍                               | 20 kB 29.8 MB/s eta 0:00:01\r\u001b[K     |▋                               | 30 kB 31.4 MB/s eta 0:00:01\r\u001b[K     |▉                               | 40 kB 34.9 MB/s eta 0:00:01\r\u001b[K     |█                               | 51 kB 23.5 MB/s eta 0:00:01\r\u001b[K     |█▏                              | 61 kB 26.1 MB/s eta 0:00:01\r\u001b[K     |█▍                              | 71 kB 27.1 MB/s eta 0:00:01\r\u001b[K     |█▋                              | 81 kB 27.9 MB/s eta 0:00:01\r\u001b[K     |█▉                              | 92 kB 29.9 MB/s eta 0:00:01\r\u001b[K     |██                              | 102 kB 28.2 MB/s eta 0:00:01\r\u001b[K     |██▏                             | 112 kB 28.2 MB/s eta 0:00:01\r\u001b[K     |██▍                             | 122 kB 28.2 MB/s eta 0:00:01\r\u001b[K     |██▋                             | 133 kB 28.2 MB/s eta 0:00:01\r\u001b[K     |██▊                             | 143 kB 28.2 MB/s eta 0:00:01\r\u001b[K     |███                             | 153 kB 28.2 MB/s eta 0:00:01\r\u001b[K     |███▏                            | 163 kB 28.2 MB/s eta 0:00:01\r\u001b[K     |███▍                            | 174 kB 28.2 MB/s eta 0:00:01\r\u001b[K     |███▋                            | 184 kB 28.2 MB/s eta 0:00:01\r\u001b[K     |███▊                            | 194 kB 28.2 MB/s eta 0:00:01\r\u001b[K     |████                            | 204 kB 28.2 MB/s eta 0:00:01\r\u001b[K     |████▏                           | 215 kB 28.2 MB/s eta 0:00:01\r\u001b[K     |████▍                           | 225 kB 28.2 MB/s eta 0:00:01\r\u001b[K     |████▋                           | 235 kB 28.2 MB/s eta 0:00:01\r\u001b[K     |████▊                           | 245 kB 28.2 MB/s eta 0:00:01\r\u001b[K     |█████                           | 256 kB 28.2 MB/s eta 0:00:01\r\u001b[K     |█████▏                          | 266 kB 28.2 MB/s eta 0:00:01\r\u001b[K     |█████▍                          | 276 kB 28.2 MB/s eta 0:00:01\r\u001b[K     |█████▌                          | 286 kB 28.2 MB/s eta 0:00:01\r\u001b[K     |█████▊                          | 296 kB 28.2 MB/s eta 0:00:01\r\u001b[K     |██████                          | 307 kB 28.2 MB/s eta 0:00:01\r\u001b[K     |██████▏                         | 317 kB 28.2 MB/s eta 0:00:01\r\u001b[K     |██████▍                         | 327 kB 28.2 MB/s eta 0:00:01\r\u001b[K     |██████▌                         | 337 kB 28.2 MB/s eta 0:00:01\r\u001b[K     |██████▊                         | 348 kB 28.2 MB/s eta 0:00:01\r\u001b[K     |███████                         | 358 kB 28.2 MB/s eta 0:00:01\r\u001b[K     |███████▏                        | 368 kB 28.2 MB/s eta 0:00:01\r\u001b[K     |███████▎                        | 378 kB 28.2 MB/s eta 0:00:01\r\u001b[K     |███████▌                        | 389 kB 28.2 MB/s eta 0:00:01\r\u001b[K     |███████▊                        | 399 kB 28.2 MB/s eta 0:00:01\r\u001b[K     |████████                        | 409 kB 28.2 MB/s eta 0:00:01\r\u001b[K     |████████▏                       | 419 kB 28.2 MB/s eta 0:00:01\r\u001b[K     |████████▎                       | 430 kB 28.2 MB/s eta 0:00:01\r\u001b[K     |████████▌                       | 440 kB 28.2 MB/s eta 0:00:01\r\u001b[K     |████████▊                       | 450 kB 28.2 MB/s eta 0:00:01\r\u001b[K     |█████████                       | 460 kB 28.2 MB/s eta 0:00:01\r\u001b[K     |█████████▏                      | 471 kB 28.2 MB/s eta 0:00:01\r\u001b[K     |█████████▎                      | 481 kB 28.2 MB/s eta 0:00:01\r\u001b[K     |█████████▌                      | 491 kB 28.2 MB/s eta 0:00:01\r\u001b[K     |█████████▊                      | 501 kB 28.2 MB/s eta 0:00:01\r\u001b[K     |██████████                      | 512 kB 28.2 MB/s eta 0:00:01\r\u001b[K     |██████████                      | 522 kB 28.2 MB/s eta 0:00:01\r\u001b[K     |██████████▎                     | 532 kB 28.2 MB/s eta 0:00:01\r\u001b[K     |██████████▌                     | 542 kB 28.2 MB/s eta 0:00:01\r\u001b[K     |██████████▊                     | 552 kB 28.2 MB/s eta 0:00:01\r\u001b[K     |███████████                     | 563 kB 28.2 MB/s eta 0:00:01\r\u001b[K     |███████████                     | 573 kB 28.2 MB/s eta 0:00:01\r\u001b[K     |███████████▎                    | 583 kB 28.2 MB/s eta 0:00:01\r\u001b[K     |███████████▌                    | 593 kB 28.2 MB/s eta 0:00:01\r\u001b[K     |███████████▊                    | 604 kB 28.2 MB/s eta 0:00:01\r\u001b[K     |███████████▉                    | 614 kB 28.2 MB/s eta 0:00:01\r\u001b[K     |████████████                    | 624 kB 28.2 MB/s eta 0:00:01\r\u001b[K     |████████████▎                   | 634 kB 28.2 MB/s eta 0:00:01\r\u001b[K     |████████████▌                   | 645 kB 28.2 MB/s eta 0:00:01\r\u001b[K     |████████████▊                   | 655 kB 28.2 MB/s eta 0:00:01\r\u001b[K     |████████████▉                   | 665 kB 28.2 MB/s eta 0:00:01\r\u001b[K     |█████████████                   | 675 kB 28.2 MB/s eta 0:00:01\r\u001b[K     |█████████████▎                  | 686 kB 28.2 MB/s eta 0:00:01\r\u001b[K     |█████████████▌                  | 696 kB 28.2 MB/s eta 0:00:01\r\u001b[K     |█████████████▊                  | 706 kB 28.2 MB/s eta 0:00:01\r\u001b[K     |█████████████▉                  | 716 kB 28.2 MB/s eta 0:00:01\r\u001b[K     |██████████████                  | 727 kB 28.2 MB/s eta 0:00:01\r\u001b[K     |██████████████▎                 | 737 kB 28.2 MB/s eta 0:00:01\r\u001b[K     |██████████████▌                 | 747 kB 28.2 MB/s eta 0:00:01\r\u001b[K     |██████████████▋                 | 757 kB 28.2 MB/s eta 0:00:01\r\u001b[K     |██████████████▉                 | 768 kB 28.2 MB/s eta 0:00:01\r\u001b[K     |███████████████                 | 778 kB 28.2 MB/s eta 0:00:01\r\u001b[K     |███████████████▎                | 788 kB 28.2 MB/s eta 0:00:01\r\u001b[K     |███████████████▌                | 798 kB 28.2 MB/s eta 0:00:01\r\u001b[K     |███████████████▋                | 808 kB 28.2 MB/s eta 0:00:01\r\u001b[K     |███████████████▉                | 819 kB 28.2 MB/s eta 0:00:01\r\u001b[K     |████████████████                | 829 kB 28.2 MB/s eta 0:00:01\r\u001b[K     |████████████████▎               | 839 kB 28.2 MB/s eta 0:00:01\r\u001b[K     |████████████████▍               | 849 kB 28.2 MB/s eta 0:00:01\r\u001b[K     |████████████████▋               | 860 kB 28.2 MB/s eta 0:00:01\r\u001b[K     |████████████████▉               | 870 kB 28.2 MB/s eta 0:00:01\r\u001b[K     |█████████████████               | 880 kB 28.2 MB/s eta 0:00:01\r\u001b[K     |█████████████████▎              | 890 kB 28.2 MB/s eta 0:00:01\r\u001b[K     |█████████████████▍              | 901 kB 28.2 MB/s eta 0:00:01\r\u001b[K     |█████████████████▋              | 911 kB 28.2 MB/s eta 0:00:01\r\u001b[K     |█████████████████▉              | 921 kB 28.2 MB/s eta 0:00:01\r\u001b[K     |██████████████████              | 931 kB 28.2 MB/s eta 0:00:01\r\u001b[K     |██████████████████▎             | 942 kB 28.2 MB/s eta 0:00:01\r\u001b[K     |██████████████████▍             | 952 kB 28.2 MB/s eta 0:00:01\r\u001b[K     |██████████████████▋             | 962 kB 28.2 MB/s eta 0:00:01\r\u001b[K     |██████████████████▉             | 972 kB 28.2 MB/s eta 0:00:01\r\u001b[K     |███████████████████             | 983 kB 28.2 MB/s eta 0:00:01\r\u001b[K     |███████████████████▏            | 993 kB 28.2 MB/s eta 0:00:01\r\u001b[K     |███████████████████▍            | 1.0 MB 28.2 MB/s eta 0:00:01\r\u001b[K     |███████████████████▋            | 1.0 MB 28.2 MB/s eta 0:00:01\r\u001b[K     |███████████████████▉            | 1.0 MB 28.2 MB/s eta 0:00:01\r\u001b[K     |████████████████████            | 1.0 MB 28.2 MB/s eta 0:00:01\r\u001b[K     |████████████████████▏           | 1.0 MB 28.2 MB/s eta 0:00:01\r\u001b[K     |████████████████████▍           | 1.1 MB 28.2 MB/s eta 0:00:01\r\u001b[K     |████████████████████▋           | 1.1 MB 28.2 MB/s eta 0:00:01\r\u001b[K     |████████████████████▉           | 1.1 MB 28.2 MB/s eta 0:00:01\r\u001b[K     |█████████████████████           | 1.1 MB 28.2 MB/s eta 0:00:01\r\u001b[K     |█████████████████████▏          | 1.1 MB 28.2 MB/s eta 0:00:01\r\u001b[K     |█████████████████████▍          | 1.1 MB 28.2 MB/s eta 0:00:01\r\u001b[K     |█████████████████████▋          | 1.1 MB 28.2 MB/s eta 0:00:01\r\u001b[K     |█████████████████████▉          | 1.1 MB 28.2 MB/s eta 0:00:01\r\u001b[K     |██████████████████████          | 1.1 MB 28.2 MB/s eta 0:00:01\r\u001b[K     |██████████████████████▏         | 1.1 MB 28.2 MB/s eta 0:00:01\r\u001b[K     |██████████████████████▍         | 1.2 MB 28.2 MB/s eta 0:00:01\r\u001b[K     |██████████████████████▋         | 1.2 MB 28.2 MB/s eta 0:00:01\r\u001b[K     |██████████████████████▉         | 1.2 MB 28.2 MB/s eta 0:00:01\r\u001b[K     |███████████████████████         | 1.2 MB 28.2 MB/s eta 0:00:01\r\u001b[K     |███████████████████████▏        | 1.2 MB 28.2 MB/s eta 0:00:01\r\u001b[K     |███████████████████████▍        | 1.2 MB 28.2 MB/s eta 0:00:01\r\u001b[K     |███████████████████████▋        | 1.2 MB 28.2 MB/s eta 0:00:01\r\u001b[K     |███████████████████████▊        | 1.2 MB 28.2 MB/s eta 0:00:01\r\u001b[K     |████████████████████████        | 1.2 MB 28.2 MB/s eta 0:00:01\r\u001b[K     |████████████████████████▏       | 1.2 MB 28.2 MB/s eta 0:00:01\r\u001b[K     |████████████████████████▍       | 1.3 MB 28.2 MB/s eta 0:00:01\r\u001b[K     |████████████████████████▋       | 1.3 MB 28.2 MB/s eta 0:00:01\r\u001b[K     |████████████████████████▊       | 1.3 MB 28.2 MB/s eta 0:00:01\r\u001b[K     |█████████████████████████       | 1.3 MB 28.2 MB/s eta 0:00:01\r\u001b[K     |█████████████████████████▏      | 1.3 MB 28.2 MB/s eta 0:00:01\r\u001b[K     |█████████████████████████▍      | 1.3 MB 28.2 MB/s eta 0:00:01\r\u001b[K     |█████████████████████████▌      | 1.3 MB 28.2 MB/s eta 0:00:01\r\u001b[K     |█████████████████████████▊      | 1.3 MB 28.2 MB/s eta 0:00:01\r\u001b[K     |██████████████████████████      | 1.3 MB 28.2 MB/s eta 0:00:01\r\u001b[K     |██████████████████████████▏     | 1.4 MB 28.2 MB/s eta 0:00:01\r\u001b[K     |██████████████████████████▍     | 1.4 MB 28.2 MB/s eta 0:00:01\r\u001b[K     |██████████████████████████▌     | 1.4 MB 28.2 MB/s eta 0:00:01\r\u001b[K     |██████████████████████████▊     | 1.4 MB 28.2 MB/s eta 0:00:01\r\u001b[K     |███████████████████████████     | 1.4 MB 28.2 MB/s eta 0:00:01\r\u001b[K     |███████████████████████████▏    | 1.4 MB 28.2 MB/s eta 0:00:01\r\u001b[K     |███████████████████████████▍    | 1.4 MB 28.2 MB/s eta 0:00:01\r\u001b[K     |███████████████████████████▌    | 1.4 MB 28.2 MB/s eta 0:00:01\r\u001b[K     |███████████████████████████▊    | 1.4 MB 28.2 MB/s eta 0:00:01\r\u001b[K     |████████████████████████████    | 1.4 MB 28.2 MB/s eta 0:00:01\r\u001b[K     |████████████████████████████▏   | 1.5 MB 28.2 MB/s eta 0:00:01\r\u001b[K     |████████████████████████████▎   | 1.5 MB 28.2 MB/s eta 0:00:01\r\u001b[K     |████████████████████████████▌   | 1.5 MB 28.2 MB/s eta 0:00:01\r\u001b[K     |████████████████████████████▊   | 1.5 MB 28.2 MB/s eta 0:00:01\r\u001b[K     |█████████████████████████████   | 1.5 MB 28.2 MB/s eta 0:00:01\r\u001b[K     |█████████████████████████████▏  | 1.5 MB 28.2 MB/s eta 0:00:01\r\u001b[K     |█████████████████████████████▎  | 1.5 MB 28.2 MB/s eta 0:00:01\r\u001b[K     |█████████████████████████████▌  | 1.5 MB 28.2 MB/s eta 0:00:01\r\u001b[K     |█████████████████████████████▊  | 1.5 MB 28.2 MB/s eta 0:00:01\r\u001b[K     |██████████████████████████████  | 1.5 MB 28.2 MB/s eta 0:00:01\r\u001b[K     |██████████████████████████████▏ | 1.6 MB 28.2 MB/s eta 0:00:01\r\u001b[K     |██████████████████████████████▎ | 1.6 MB 28.2 MB/s eta 0:00:01\r\u001b[K     |██████████████████████████████▌ | 1.6 MB 28.2 MB/s eta 0:00:01\r\u001b[K     |██████████████████████████████▊ | 1.6 MB 28.2 MB/s eta 0:00:01\r\u001b[K     |███████████████████████████████ | 1.6 MB 28.2 MB/s eta 0:00:01\r\u001b[K     |███████████████████████████████ | 1.6 MB 28.2 MB/s eta 0:00:01\r\u001b[K     |███████████████████████████████▎| 1.6 MB 28.2 MB/s eta 0:00:01\r\u001b[K     |███████████████████████████████▌| 1.6 MB 28.2 MB/s eta 0:00:01\r\u001b[K     |███████████████████████████████▊| 1.6 MB 28.2 MB/s eta 0:00:01\r\u001b[K     |████████████████████████████████| 1.6 MB 28.2 MB/s eta 0:00:01\r\u001b[K     |████████████████████████████████| 1.7 MB 28.2 MB/s \n",
            "\u001b[?25h  Installing build dependencies ... \u001b[?25l\u001b[?25hdone\n",
            "  Getting requirements to build wheel ... \u001b[?25l\u001b[?25hdone\n",
            "  Installing backend dependencies ... \u001b[?25l\u001b[?25hdone\n",
            "    Preparing wheel metadata ... \u001b[?25l\u001b[?25hdone\n",
            "Requirement already satisfied: future in /usr/local/lib/python3.7/dist-packages (from pyLDAvis) (0.16.0)\n",
            "Requirement already satisfied: sklearn in /usr/local/lib/python3.7/dist-packages (from pyLDAvis) (0.0)\n",
            "Requirement already satisfied: joblib in /usr/local/lib/python3.7/dist-packages (from pyLDAvis) (1.1.0)\n",
            "Collecting funcy\n",
            "  Downloading funcy-1.17-py2.py3-none-any.whl (33 kB)\n",
            "Requirement already satisfied: scikit-learn in /usr/local/lib/python3.7/dist-packages (from pyLDAvis) (1.0.2)\n",
            "Requirement already satisfied: jinja2 in /usr/local/lib/python3.7/dist-packages (from pyLDAvis) (2.11.3)\n",
            "Requirement already satisfied: numexpr in /usr/local/lib/python3.7/dist-packages (from pyLDAvis) (2.8.1)\n",
            "Requirement already satisfied: numpy>=1.20.0 in /usr/local/lib/python3.7/dist-packages (from pyLDAvis) (1.21.5)\n",
            "Requirement already satisfied: gensim in /usr/local/lib/python3.7/dist-packages (from pyLDAvis) (3.6.0)\n",
            "Requirement already satisfied: setuptools in /usr/local/lib/python3.7/dist-packages (from pyLDAvis) (57.4.0)\n",
            "Requirement already satisfied: pandas>=1.2.0 in /usr/local/lib/python3.7/dist-packages (from pyLDAvis) (1.3.5)\n",
            "Requirement already satisfied: scipy in /usr/local/lib/python3.7/dist-packages (from pyLDAvis) (1.4.1)\n",
            "Requirement already satisfied: python-dateutil>=2.7.3 in /usr/local/lib/python3.7/dist-packages (from pandas>=1.2.0->pyLDAvis) (2.8.2)\n",
            "Requirement already satisfied: pytz>=2017.3 in /usr/local/lib/python3.7/dist-packages (from pandas>=1.2.0->pyLDAvis) (2018.9)\n",
            "Requirement already satisfied: six>=1.5 in /usr/local/lib/python3.7/dist-packages (from python-dateutil>=2.7.3->pandas>=1.2.0->pyLDAvis) (1.15.0)\n",
            "Requirement already satisfied: smart-open>=1.2.1 in /usr/local/lib/python3.7/dist-packages (from gensim->pyLDAvis) (5.2.1)\n",
            "Requirement already satisfied: MarkupSafe>=0.23 in /usr/local/lib/python3.7/dist-packages (from jinja2->pyLDAvis) (2.0.1)\n",
            "Requirement already satisfied: packaging in /usr/local/lib/python3.7/dist-packages (from numexpr->pyLDAvis) (21.3)\n",
            "Requirement already satisfied: pyparsing!=3.0.5,>=2.0.2 in /usr/local/lib/python3.7/dist-packages (from packaging->numexpr->pyLDAvis) (3.0.7)\n",
            "Requirement already satisfied: threadpoolctl>=2.0.0 in /usr/local/lib/python3.7/dist-packages (from scikit-learn->pyLDAvis) (3.1.0)\n",
            "Building wheels for collected packages: pyLDAvis\n",
            "  Building wheel for pyLDAvis (PEP 517) ... \u001b[?25l\u001b[?25hdone\n",
            "  Created wheel for pyLDAvis: filename=pyLDAvis-3.3.1-py2.py3-none-any.whl size=136898 sha256=f25c510bce1e19ff2d0a551ac5b2e32050ba963a103a4341167f348f62b2155d\n",
            "  Stored in directory: /root/.cache/pip/wheels/c9/21/f6/17bcf2667e8a68532ba2fbf6d5c72fdf4c7f7d9abfa4852d2f\n",
            "Successfully built pyLDAvis\n",
            "Installing collected packages: funcy, pyLDAvis\n",
            "Successfully installed funcy-1.17 pyLDAvis-3.3.1\n"
          ]
        }
      ],
      "source": [
        "! pip install pyLDAvis   # LDA Visualize tool "
      ]
    },
    {
      "cell_type": "code",
      "execution_count": null,
      "metadata": {
        "colab": {
          "base_uri": "https://localhost:8080/"
        },
        "id": "4eXIZA29D_H0",
        "outputId": "45ccf91b-3c59-4316-95ea-843c6f6b1146"
      },
      "outputs": [
        {
          "output_type": "stream",
          "name": "stdout",
          "text": [
            "Requirement already satisfied: numpy in /usr/local/lib/python3.7/dist-packages (1.21.5)\n"
          ]
        }
      ],
      "source": [
        "# local에서 \n",
        "! pip install numpy --upgrade"
      ]
    },
    {
      "cell_type": "code",
      "execution_count": null,
      "metadata": {
        "colab": {
          "base_uri": "https://localhost:8080/"
        },
        "id": "bVrz5ORswPpf",
        "outputId": "a98ff6d2-a339-487c-c47f-d539412ecd75"
      },
      "outputs": [
        {
          "output_type": "stream",
          "name": "stdout",
          "text": [
            "Requirement already satisfied: pandas in /usr/local/lib/python3.7/dist-packages (1.3.5)\n",
            "Requirement already satisfied: python-dateutil>=2.7.3 in /usr/local/lib/python3.7/dist-packages (from pandas) (2.8.2)\n",
            "Requirement already satisfied: pytz>=2017.3 in /usr/local/lib/python3.7/dist-packages (from pandas) (2018.9)\n",
            "Requirement already satisfied: numpy>=1.17.3 in /usr/local/lib/python3.7/dist-packages (from pandas) (1.21.5)\n",
            "Requirement already satisfied: six>=1.5 in /usr/local/lib/python3.7/dist-packages (from python-dateutil>=2.7.3->pandas) (1.15.0)\n"
          ]
        }
      ],
      "source": [
        "! pip install pandas --upgrade"
      ]
    },
    {
      "cell_type": "code",
      "execution_count": null,
      "metadata": {
        "colab": {
          "base_uri": "https://localhost:8080/",
          "height": 550
        },
        "id": "3UIUSePHAxq5",
        "outputId": "f8579667-d17a-483c-b34d-39d260a21832"
      },
      "outputs": [
        {
          "output_type": "stream",
          "name": "stdout",
          "text": [
            "Requirement already satisfied: matplotlib in /usr/local/lib/python3.7/dist-packages (3.2.2)\n",
            "Collecting matplotlib\n",
            "  Downloading matplotlib-3.5.1-cp37-cp37m-manylinux_2_5_x86_64.manylinux1_x86_64.whl (11.2 MB)\n",
            "\u001b[K     |████████████████████████████████| 11.2 MB 29.7 MB/s \n",
            "\u001b[?25hRequirement already satisfied: python-dateutil>=2.7 in /usr/local/lib/python3.7/dist-packages (from matplotlib) (2.8.2)\n",
            "Requirement already satisfied: pillow>=6.2.0 in /usr/local/lib/python3.7/dist-packages (from matplotlib) (7.1.2)\n",
            "Requirement already satisfied: cycler>=0.10 in /usr/local/lib/python3.7/dist-packages (from matplotlib) (0.11.0)\n",
            "Requirement already satisfied: kiwisolver>=1.0.1 in /usr/local/lib/python3.7/dist-packages (from matplotlib) (1.4.0)\n",
            "Requirement already satisfied: pyparsing>=2.2.1 in /usr/local/lib/python3.7/dist-packages (from matplotlib) (3.0.7)\n",
            "Requirement already satisfied: packaging>=20.0 in /usr/local/lib/python3.7/dist-packages (from matplotlib) (21.3)\n",
            "Requirement already satisfied: numpy>=1.17 in /usr/local/lib/python3.7/dist-packages (from matplotlib) (1.21.5)\n",
            "Collecting fonttools>=4.22.0\n",
            "  Downloading fonttools-4.31.2-py3-none-any.whl (899 kB)\n",
            "\u001b[K     |████████████████████████████████| 899 kB 57.8 MB/s \n",
            "\u001b[?25hRequirement already satisfied: typing-extensions in /usr/local/lib/python3.7/dist-packages (from kiwisolver>=1.0.1->matplotlib) (3.10.0.2)\n",
            "Requirement already satisfied: six>=1.5 in /usr/local/lib/python3.7/dist-packages (from python-dateutil>=2.7->matplotlib) (1.15.0)\n",
            "Installing collected packages: fonttools, matplotlib\n",
            "  Attempting uninstall: matplotlib\n",
            "    Found existing installation: matplotlib 3.2.2\n",
            "    Uninstalling matplotlib-3.2.2:\n",
            "      Successfully uninstalled matplotlib-3.2.2\n",
            "\u001b[31mERROR: pip's dependency resolver does not currently take into account all the packages that are installed. This behaviour is the source of the following dependency conflicts.\n",
            "albumentations 0.1.12 requires imgaug<0.2.7,>=0.2.5, but you have imgaug 0.2.9 which is incompatible.\u001b[0m\n",
            "Successfully installed fonttools-4.31.2 matplotlib-3.5.1\n"
          ]
        },
        {
          "output_type": "display_data",
          "data": {
            "application/vnd.colab-display-data+json": {
              "pip_warning": {
                "packages": [
                  "matplotlib",
                  "mpl_toolkits"
                ]
              }
            }
          },
          "metadata": {}
        }
      ],
      "source": [
        "! pip install matplotlib --upgrade"
      ]
    },
    {
      "cell_type": "code",
      "execution_count": null,
      "metadata": {
        "execution": {
          "iopub.execute_input": "2022-01-10T12:03:13.281616Z",
          "iopub.status.busy": "2022-01-10T12:03:13.281313Z",
          "iopub.status.idle": "2022-01-10T12:03:15.398626Z",
          "shell.execute_reply": "2022-01-10T12:03:15.397938Z",
          "shell.execute_reply.started": "2022-01-10T12:03:13.281533Z"
        },
        "id": "QU0SmjH1AmzC"
      },
      "outputs": [],
      "source": [
        "# 모듈 불러오기\n",
        "import random\n",
        "import numpy as np\n",
        "import pandas as pd\n",
        "from collections import Counter    # list가 주어졌을때, 요소를 세는 모듈\n",
        "\n",
        "import gensim   # word2vec 패키지  -- 안에 LDA tool 있음.\n",
        "import nltk     # 영어단어 모음 툴?\n",
        "import pyLDAvis\n",
        "import pyLDAvis.gensim_models as gensimvis\n",
        "from gensim.utils import simple_preprocess  # 전처리\n",
        "from gensim.parsing.preprocessing import STOPWORDS  # 전처리\n",
        "from gensim.models import LdaModel   # 모델\n",
        "from nltk.stem import WordNetLemmatizer, SnowballStemmer   # 전처리"
      ]
    },
    {
      "cell_type": "code",
      "execution_count": null,
      "metadata": {
        "id": "iE4jdGSiHBLZ"
      },
      "outputs": [],
      "source": [
        "import warnings\n",
        "warnings.filterwarnings('ignore')"
      ]
    },
    {
      "cell_type": "markdown",
      "metadata": {
        "id": "3ZOEtC_MAmzG"
      },
      "source": [
        "# <br>__1. Data: IMDB Dataset__\n",
        "- 데이터 description\n",
        "    - IMDB Dataset은 영화 사이트 IMDB의 리뷰 데이터로 구성된 데이터셋이다. 해당 데이터를 활용한 토픽 모델링 task는 텍스트 데이터를 input으로 받아 input을 관통하는 주요 주제와 해당 주제에 빈번하게 사용되는 단어들을 찾아내는 것을 목표로 한다. <br><br>\n",
        "\n",
        "- 데이터 출처\n",
        "    - https://www.imdb.com/interfaces/\n",
        "    - https://www.kaggle.com/lakshmi25npathi/imdb-dataset-of-50k-movie-reviews"
      ]
    },
    {
      "cell_type": "code",
      "execution_count": null,
      "metadata": {
        "colab": {
          "base_uri": "https://localhost:8080/",
          "height": 206
        },
        "id": "ZaCZTRxA_02q",
        "outputId": "e6a4d79b-b58e-47c2-b8bd-894625ce3ba8"
      },
      "outputs": [
        {
          "output_type": "execute_result",
          "data": {
            "text/plain": [
              "                                              review sentiment\n",
              "0  One of the other reviewers has mentioned that ...  positive\n",
              "1  A wonderful little production. <br /><br />The...  positive\n",
              "2  I thought this was a wonderful way to spend ti...  positive\n",
              "3  Basically there's a family where a little boy ...  negative\n",
              "4  Petter Mattei's \"Love in the Time of Money\" is...  positive"
            ],
            "text/html": [
              "\n",
              "  <div id=\"df-4014f077-f446-46a3-9ae4-9ae76d973177\">\n",
              "    <div class=\"colab-df-container\">\n",
              "      <div>\n",
              "<style scoped>\n",
              "    .dataframe tbody tr th:only-of-type {\n",
              "        vertical-align: middle;\n",
              "    }\n",
              "\n",
              "    .dataframe tbody tr th {\n",
              "        vertical-align: top;\n",
              "    }\n",
              "\n",
              "    .dataframe thead th {\n",
              "        text-align: right;\n",
              "    }\n",
              "</style>\n",
              "<table border=\"1\" class=\"dataframe\">\n",
              "  <thead>\n",
              "    <tr style=\"text-align: right;\">\n",
              "      <th></th>\n",
              "      <th>review</th>\n",
              "      <th>sentiment</th>\n",
              "    </tr>\n",
              "  </thead>\n",
              "  <tbody>\n",
              "    <tr>\n",
              "      <th>0</th>\n",
              "      <td>One of the other reviewers has mentioned that ...</td>\n",
              "      <td>positive</td>\n",
              "    </tr>\n",
              "    <tr>\n",
              "      <th>1</th>\n",
              "      <td>A wonderful little production. &lt;br /&gt;&lt;br /&gt;The...</td>\n",
              "      <td>positive</td>\n",
              "    </tr>\n",
              "    <tr>\n",
              "      <th>2</th>\n",
              "      <td>I thought this was a wonderful way to spend ti...</td>\n",
              "      <td>positive</td>\n",
              "    </tr>\n",
              "    <tr>\n",
              "      <th>3</th>\n",
              "      <td>Basically there's a family where a little boy ...</td>\n",
              "      <td>negative</td>\n",
              "    </tr>\n",
              "    <tr>\n",
              "      <th>4</th>\n",
              "      <td>Petter Mattei's \"Love in the Time of Money\" is...</td>\n",
              "      <td>positive</td>\n",
              "    </tr>\n",
              "  </tbody>\n",
              "</table>\n",
              "</div>\n",
              "      <button class=\"colab-df-convert\" onclick=\"convertToInteractive('df-4014f077-f446-46a3-9ae4-9ae76d973177')\"\n",
              "              title=\"Convert this dataframe to an interactive table.\"\n",
              "              style=\"display:none;\">\n",
              "        \n",
              "  <svg xmlns=\"http://www.w3.org/2000/svg\" height=\"24px\"viewBox=\"0 0 24 24\"\n",
              "       width=\"24px\">\n",
              "    <path d=\"M0 0h24v24H0V0z\" fill=\"none\"/>\n",
              "    <path d=\"M18.56 5.44l.94 2.06.94-2.06 2.06-.94-2.06-.94-.94-2.06-.94 2.06-2.06.94zm-11 1L8.5 8.5l.94-2.06 2.06-.94-2.06-.94L8.5 2.5l-.94 2.06-2.06.94zm10 10l.94 2.06.94-2.06 2.06-.94-2.06-.94-.94-2.06-.94 2.06-2.06.94z\"/><path d=\"M17.41 7.96l-1.37-1.37c-.4-.4-.92-.59-1.43-.59-.52 0-1.04.2-1.43.59L10.3 9.45l-7.72 7.72c-.78.78-.78 2.05 0 2.83L4 21.41c.39.39.9.59 1.41.59.51 0 1.02-.2 1.41-.59l7.78-7.78 2.81-2.81c.8-.78.8-2.07 0-2.86zM5.41 20L4 18.59l7.72-7.72 1.47 1.35L5.41 20z\"/>\n",
              "  </svg>\n",
              "      </button>\n",
              "      \n",
              "  <style>\n",
              "    .colab-df-container {\n",
              "      display:flex;\n",
              "      flex-wrap:wrap;\n",
              "      gap: 12px;\n",
              "    }\n",
              "\n",
              "    .colab-df-convert {\n",
              "      background-color: #E8F0FE;\n",
              "      border: none;\n",
              "      border-radius: 50%;\n",
              "      cursor: pointer;\n",
              "      display: none;\n",
              "      fill: #1967D2;\n",
              "      height: 32px;\n",
              "      padding: 0 0 0 0;\n",
              "      width: 32px;\n",
              "    }\n",
              "\n",
              "    .colab-df-convert:hover {\n",
              "      background-color: #E2EBFA;\n",
              "      box-shadow: 0px 1px 2px rgba(60, 64, 67, 0.3), 0px 1px 3px 1px rgba(60, 64, 67, 0.15);\n",
              "      fill: #174EA6;\n",
              "    }\n",
              "\n",
              "    [theme=dark] .colab-df-convert {\n",
              "      background-color: #3B4455;\n",
              "      fill: #D2E3FC;\n",
              "    }\n",
              "\n",
              "    [theme=dark] .colab-df-convert:hover {\n",
              "      background-color: #434B5C;\n",
              "      box-shadow: 0px 1px 3px 1px rgba(0, 0, 0, 0.15);\n",
              "      filter: drop-shadow(0px 1px 2px rgba(0, 0, 0, 0.3));\n",
              "      fill: #FFFFFF;\n",
              "    }\n",
              "  </style>\n",
              "\n",
              "      <script>\n",
              "        const buttonEl =\n",
              "          document.querySelector('#df-4014f077-f446-46a3-9ae4-9ae76d973177 button.colab-df-convert');\n",
              "        buttonEl.style.display =\n",
              "          google.colab.kernel.accessAllowed ? 'block' : 'none';\n",
              "\n",
              "        async function convertToInteractive(key) {\n",
              "          const element = document.querySelector('#df-4014f077-f446-46a3-9ae4-9ae76d973177');\n",
              "          const dataTable =\n",
              "            await google.colab.kernel.invokeFunction('convertToInteractive',\n",
              "                                                     [key], {});\n",
              "          if (!dataTable) return;\n",
              "\n",
              "          const docLinkHtml = 'Like what you see? Visit the ' +\n",
              "            '<a target=\"_blank\" href=https://colab.research.google.com/notebooks/data_table.ipynb>data table notebook</a>'\n",
              "            + ' to learn more about interactive tables.';\n",
              "          element.innerHTML = '';\n",
              "          dataTable['output_type'] = 'display_data';\n",
              "          await google.colab.output.renderOutput(dataTable, element);\n",
              "          const docLink = document.createElement('div');\n",
              "          docLink.innerHTML = docLinkHtml;\n",
              "          element.appendChild(docLink);\n",
              "        }\n",
              "      </script>\n",
              "    </div>\n",
              "  </div>\n",
              "  "
            ]
          },
          "metadata": {},
          "execution_count": 53
        }
      ],
      "source": [
        "# 데이터 불러오기\n",
        "# 각 리뷰를 하나의 문서로 고려하여 토픽 모델링을 진행함\n",
        "corpus_path = '/content/LG_natural_language_processing_day20/input/imdb-data/IMDB_Dataset.csv'\n",
        "documents = pd.read_csv(corpus_path, encoding='utf-8')   # 한글은 다른 encoding 옵션 사용해야 함\n",
        "documents.head()"
      ]
    },
    {
      "cell_type": "code",
      "execution_count": null,
      "metadata": {
        "colab": {
          "base_uri": "https://localhost:8080/"
        },
        "id": "2zr-K8anERDM",
        "outputId": "da6d30f0-c4f6-4715-feef-b8a2ab7d15a7"
      },
      "outputs": [
        {
          "output_type": "stream",
          "name": "stdout",
          "text": [
            "[nltk_data] Downloading package wordnet to /root/nltk_data...\n",
            "[nltk_data]   Package wordnet is already up-to-date!\n"
          ]
        },
        {
          "output_type": "execute_result",
          "data": {
            "text/plain": [
              "True"
            ]
          },
          "metadata": {},
          "execution_count": 54
        }
      ],
      "source": [
        "nltk.download('wordnet')"
      ]
    },
    {
      "cell_type": "code",
      "execution_count": null,
      "metadata": {
        "id": "uloIUxrWDKp3"
      },
      "outputs": [],
      "source": [
        "# 방식 2가지\n",
        "\n",
        "# Stemming :  love   --> love\n",
        "#             loving  --> love 로 통일하여, 단어수가 대폭적으로 준다.\n",
        "\n",
        "# 문맥/맥락이 중요한 task는 Lenmatization 방식을 쓴다.\n",
        "# Lenmatization  : 단어를 통일하되, 품사도 유지, 명사 --> 명사, 동사 --> 동사로 유지함.\n",
        "# 한글은 형태소 분석기를 통해서 유사하게 작동한다. \n",
        "# KoNLPy 한국어 NLP 형태소 분석기\n",
        "\n",
        "\n",
        "# Lemmatization 함수\n",
        "stemmer = SnowballStemmer('english')\n",
        "\n",
        "def lemmatize_stemming(text):\n",
        "    return stemmer.stem(WordNetLemmatizer().lemmatize(text))   # 2개를 다 사용함... 그 때 순서는 Lemnatization --> Stemming 순으로..."
      ]
    },
    {
      "cell_type": "code",
      "source": [
        "stemmer.stem('living')\n",
        "# 'live'"
      ],
      "metadata": {
        "colab": {
          "base_uri": "https://localhost:8080/",
          "height": 35
        },
        "id": "aF1IfF-IKxgw",
        "outputId": "4d7cbdd6-61ba-40de-853a-11a54e905b0d"
      },
      "execution_count": null,
      "outputs": [
        {
          "output_type": "execute_result",
          "data": {
            "text/plain": [
              "'live'"
            ],
            "application/vnd.google.colaboratory.intrinsic+json": {
              "type": "string"
            }
          },
          "metadata": {},
          "execution_count": 56
        }
      ]
    },
    {
      "cell_type": "code",
      "source": [
        "lemmatizer=WordNetLemmatizer()\n",
        "lemmatizer.lemmatize('living')\n",
        "# 'living'"
      ],
      "metadata": {
        "colab": {
          "base_uri": "https://localhost:8080/",
          "height": 35
        },
        "id": "lgbphPvBLCbu",
        "outputId": "ba699cd1-de7e-4e77-afae-3168d9f98443"
      },
      "execution_count": null,
      "outputs": [
        {
          "output_type": "execute_result",
          "data": {
            "text/plain": [
              "'living'"
            ],
            "application/vnd.google.colaboratory.intrinsic+json": {
              "type": "string"
            }
          },
          "metadata": {},
          "execution_count": 57
        }
      ]
    },
    {
      "cell_type": "code",
      "source": [
        "# 둘다 적용\n",
        "stemmer.stem(lemmatizer.lemmatize('living'))"
      ],
      "metadata": {
        "colab": {
          "base_uri": "https://localhost:8080/",
          "height": 35
        },
        "id": "g87N8RjULbxR",
        "outputId": "5747cb15-aefd-424f-8a1e-c0e69c9d2fc3"
      },
      "execution_count": null,
      "outputs": [
        {
          "output_type": "execute_result",
          "data": {
            "text/plain": [
              "'live'"
            ],
            "application/vnd.google.colaboratory.intrinsic+json": {
              "type": "string"
            }
          },
          "metadata": {},
          "execution_count": 58
        }
      ]
    },
    {
      "cell_type": "code",
      "execution_count": null,
      "metadata": {
        "id": "HJiyDgJJDMe8"
      },
      "outputs": [],
      "source": [
        "# KoNLP? \n",
        "\n",
        "# Tokenization & stopword 제거 & stemming & lemmatization\n",
        "\n",
        "# 공백 --> 분리,  대문자 --> 소문자,  전치사,관사 (STOPWORDS) -->제거\n",
        "# 여기서 text는 문장\n",
        "def preprocess(text):\n",
        "    result = []  # 빈 list\n",
        "    for token in gensim.utils.simple_preprocess(text):    # 문장을 token으로 나누고, 대문자--> 소문자로 바꿈, token은 각각의 단어임\n",
        "        if token not in gensim.parsing.preprocessing.STOPWORDS and len(token) > 3:  # token이 stopwords 가 아니고 4글자 이상이면...\n",
        "            result.append(lemmatize_stemming(token))      # result에 append\n",
        "    return result"
      ]
    },
    {
      "cell_type": "code",
      "source": [
        "# gensim.utils.simple_preprocess(documents['revies'][0][4])"
      ],
      "metadata": {
        "id": "TWKlZ99oNj3-"
      },
      "execution_count": null,
      "outputs": []
    },
    {
      "cell_type": "code",
      "execution_count": null,
      "metadata": {
        "colab": {
          "base_uri": "https://localhost:8080/"
        },
        "id": "7rcpcg05DPvL",
        "outputId": "8fd526d1-7fed-4893-d678-6a969d596078"
      },
      "outputs": [
        {
          "output_type": "execute_result",
          "data": {
            "text/plain": [
              "0    [review, mention, watch, episod, hook, right, ...\n",
              "1    [wonder, littl, product, film, techniqu, unass...\n",
              "2    [thought, wonder, spend, time, summer, weekend...\n",
              "3    [basic, famili, littl, jake, think, zombi, clo...\n",
              "4    [petter, mattei, love, time, money, visual, st...\n",
              "5    [probabl, time, favorit, movi, stori, selfless...\n",
              "6    [sure, like, resurrect, date, seahunt, seri, t...\n",
              "7    [amaz, fresh, innov, idea, air, year, brillian...\n",
              "8    [encourag, posit, comment, film, look, forward...\n",
              "9    [like, origin, wrench, laughter, like, movi, y...\n",
              "Name: review, dtype: object"
            ]
          },
          "metadata": {},
          "execution_count": 61
        }
      ],
      "source": [
        "processed_docs = documents['review'].map(preprocess)   # .map 은 각각의 문장에 preprocess 수행하라 \n",
        "processed_docs[:10]"
      ]
    },
    {
      "cell_type": "code",
      "execution_count": null,
      "metadata": {
        "colab": {
          "base_uri": "https://localhost:8080/"
        },
        "execution": {
          "iopub.execute_input": "2022-01-10T12:03:22.696335Z",
          "iopub.status.busy": "2022-01-10T12:03:22.695989Z",
          "iopub.status.idle": "2022-01-10T12:03:22.703243Z",
          "shell.execute_reply": "2022-01-10T12:03:22.702547Z",
          "shell.execute_reply.started": "2022-01-10T12:03:22.696270Z"
        },
        "id": "qF1dQpNMAmzN",
        "outputId": "5e1862d0-11fa-4a06-e22e-1e60f8820dac"
      },
      "outputs": [
        {
          "output_type": "stream",
          "name": "stdout",
          "text": [
            "dictionary size : 65896\n"
          ]
        }
      ],
      "source": [
        "# 문장들  --> 단어(token) 조합\n",
        "# token --> index(숫자)\n",
        "\n",
        "# Dictionary 학습\n",
        "# Dictionary는 단어를 int 형식의 idx로 변환하는 encoder인 token2id를 학습함\n",
        "dictionary = gensim.corpora.Dictionary(processed_docs)\n",
        "print('dictionary size : %d' % len(dictionary))  # dictionary size : 65896   (유니크 단어의 숫자)"
      ]
    },
    {
      "cell_type": "code",
      "execution_count": null,
      "metadata": {
        "colab": {
          "base_uri": "https://localhost:8080/"
        },
        "id": "so-055kzXa1A",
        "outputId": "11ae2390-b9ce-40dd-fa7a-64f4c099d6a4"
      },
      "outputs": [
        {
          "output_type": "stream",
          "name": "stdout",
          "text": [
            "dictionary size : 5000\n"
          ]
        }
      ],
      "source": [
        "# 빈도수를 기준으로 keep_n의 단어만 사용\n",
        "dictionary.filter_extremes(no_below=50, no_above=0.1, keep_n=5000)   # 최소의 document(문장)의 수치 50 , 10% 아래의 문장개수에 등장, 상우 5000개 \n",
        "print('dictionary size : %d' % len(dictionary))  # dictionary size : 5000"
      ]
    },
    {
      "cell_type": "code",
      "execution_count": null,
      "metadata": {
        "colab": {
          "base_uri": "https://localhost:8080/"
        },
        "id": "_Q0zGo20Xh5I",
        "outputId": "974cf58f-43f5-4acd-e7bd-c24a6781e3f8"
      },
      "outputs": [
        {
          "output_type": "stream",
          "name": "stdout",
          "text": [
            "[(0, 1), (1, 1), (2, 1), (3, 2), (4, 1), (5, 1), (6, 1), (7, 1), (8, 1), (9, 1), (10, 2), (11, 1), (12, 1), (13, 1), (14, 1), (15, 1), (16, 1), (17, 1), (18, 1), (19, 1), (20, 1), (21, 1), (22, 1), (23, 2), (24, 1), (25, 1), (26, 1), (27, 1), (28, 1), (29, 1), (30, 3), (31, 1), (32, 1), (33, 1), (34, 1), (35, 1), (36, 1), (37, 1), (38, 1), (39, 1), (40, 2), (41, 1), (42, 1), (43, 1), (44, 1), (45, 2), (46, 1), (47, 1), (48, 1), (49, 1), (50, 1), (51, 1), (52, 1), (53, 1), (54, 1), (55, 1), (56, 1), (57, 3), (58, 1), (59, 1), (60, 1), (61, 1), (62, 1), (63, 1), (64, 1), (65, 1), (66, 1), (67, 1), (68, 1), (69, 1), (70, 1), (71, 2), (72, 1), (73, 1), (74, 1), (75, 1), (76, 1), (77, 1), (78, 1), (79, 4), (80, 2), (81, 1)]\n",
            "[(13, 1), (34, 1), (37, 1), (82, 1), (83, 1), (84, 1), (85, 1), (86, 1), (87, 1), (88, 1), (89, 1), (90, 1), (91, 1), (92, 1), (93, 1), (94, 1), (95, 1), (96, 1), (97, 1), (98, 2), (99, 1), (100, 2), (101, 2), (102, 2), (103, 2), (104, 1), (105, 1), (106, 1), (107, 1), (108, 1), (109, 1), (110, 1), (111, 1), (112, 1), (113, 2), (114, 1), (115, 1), (116, 1), (117, 1), (118, 1), (119, 1), (120, 1), (121, 1)]\n",
            "[(16, 1), (36, 1), (122, 1), (123, 1), (124, 1), (125, 1), (126, 1), (127, 1), (128, 1), (129, 1), (130, 1), (131, 1), (132, 1), (133, 1), (134, 1), (135, 1), (136, 1), (137, 1), (138, 1), (139, 1), (140, 1), (141, 1), (142, 1), (143, 1), (144, 1), (145, 1), (146, 1), (147, 1), (148, 1), (149, 1), (150, 1), (151, 1), (152, 1), (153, 1), (154, 1), (155, 1), (156, 1), (157, 1), (158, 1), (159, 1), (160, 1), (161, 1), (162, 1), (163, 1), (164, 2)]\n",
            "[(165, 1), (166, 1), (167, 2), (168, 2), (169, 1), (170, 1), (171, 1), (172, 3), (173, 1), (174, 1), (175, 1), (176, 1), (177, 1), (178, 4), (179, 1), (180, 1), (181, 3), (182, 1), (183, 1), (184, 1), (185, 1), (186, 1), (187, 1), (188, 1), (189, 1), (190, 2), (191, 1), (192, 1), (193, 2)]\n",
            "[(10, 1), (24, 1), (56, 1), (99, 1), (194, 1), (195, 1), (196, 1), (197, 1), (198, 1), (199, 1), (200, 1), (201, 2), (202, 1), (203, 1), (204, 3), (205, 1), (206, 2), (207, 1), (208, 2), (209, 1), (210, 1), (211, 2), (212, 1), (213, 1), (214, 1), (215, 1), (216, 2), (217, 1), (218, 1), (219, 1), (220, 1), (221, 1), (222, 2), (223, 1), (224, 1), (225, 1), (226, 1), (227, 1), (228, 1), (229, 1), (230, 1), (231, 1), (232, 1), (233, 1), (234, 1), (235, 1), (236, 1), (237, 1), (238, 1), (239, 1), (240, 1)]\n"
          ]
        }
      ],
      "source": [
        "# LDA의 학습 데이터 형식: list of list of (int, int) = (단어 index, 빈도수)\n",
        "# Dictionary의 doc2bow 함수를 사용하여 단어의 list를 (단어, 빈도수)의 list로 변환함\n",
        "corpus = [dictionary.doc2bow(doc) for doc in processed_docs]   #  doc2bow 하면 (인덱스, 빈도) 로 mapping 한다.\n",
        "for i, doc in enumerate(corpus):\n",
        "    if i >= 5: break   # 5개 문장만 봄\n",
        "    print(doc)  "
      ]
    },
    {
      "cell_type": "markdown",
      "metadata": {
        "id": "0QQ4W8KvAmzM"
      },
      "source": [
        "---"
      ]
    },
    {
      "cell_type": "markdown",
      "metadata": {
        "id": "H70iAJ79AmzJ"
      },
      "source": [
        "# <br>__2. Model: Latent Dirichlet Allocation__"
      ]
    },
    {
      "cell_type": "markdown",
      "metadata": {
        "id": "O8T3qP6uAmzK"
      },
      "source": [
        "- LDA 설명 - **gensim.models.LdaModel()**\n",
        "    - corpus: 문서 corpus\n",
        "    - id2word: dictionary\n",
        "    - num_topics: topic 개수<br><br>"
      ]
    },
    {
      "cell_type": "code",
      "execution_count": null,
      "metadata": {
        "id": "oYXssxvGtmYh"
      },
      "outputs": [],
      "source": [
        "# LDA 모델 구축\n",
        "# LDA 모델은 (topic, term) 행렬 정보와 topic probability 정보를 가지고 있음\n",
        "num_topics = 10      # 모수\n",
        "lda_model = LdaModel(corpus, id2word=dictionary, num_topics=num_topics, random_state=1234)"
      ]
    },
    {
      "cell_type": "code",
      "execution_count": null,
      "metadata": {
        "colab": {
          "base_uri": "https://localhost:8080/"
        },
        "id": "O_MMUT0PtzL7",
        "outputId": "eecc6301-3008-4e41-a5ce-2e7192b436a4"
      },
      "outputs": [
        {
          "output_type": "stream",
          "name": "stdout",
          "text": [
            "Topic: 1 \n",
            "Keywords: ['horror', 'killer', 'blood', 'hous', 'dead', 'zombi', 'gore', 'night', 'flick', 'scari']\n",
            "Topic: 2 \n",
            "Keywords: ['school', 'kid', 'child', 'famili', 'home', 'wife', 'jack', 'mari', 'christma', 'help']\n",
            "Topic: 3 \n",
            "Keywords: ['game', 'space', 'human', 'team', 'earth', 'guy', 'alien', 'fight', 'special', 'monster']\n",
            "Topic: 4 \n",
            "Keywords: ['famili', 'father', 'mother', 'wife', 'child', 'relationship', 'live', 'husband', 'emot', 'daughter']\n",
            "Topic: 5 \n",
            "Keywords: ['murder', 'mysteri', 'style', 'lead', 'thriller', 'viewer', 'crime', 'audienc', 'shot', 'element']\n",
            "Topic: 6 \n",
            "Keywords: ['seri', 'book', 'anim', 'episod', 'version', 'laugh', 'read', 'joke', 'cartoon', 'voic']\n",
            "Topic: 7 \n",
            "Keywords: ['worst', 'wast', 'bore', 'poor', 'terribl', 'review', 'aw', 'money', 'hour', 'mayb']\n",
            "Topic: 8 \n",
            "Keywords: ['american', 'documentari', 'countri', 'polit', 'french', 'histori', 'differ', 'john', 'citi', 'live']\n",
            "Topic: 9 \n",
            "Keywords: ['beauti', 'excel', 'perfect', 'song', 'danc', 'episod', 'screen', 'amaz', 'seri', 'brilliant']\n",
            "Topic: 10 \n",
            "Keywords: ['black', 'fight', 'white', 'soldier', 'western', 'american', 'indian', 'hero', 'german', 'hand']\n"
          ]
        }
      ],
      "source": [
        "# 토픽별 키워드 확인: get_topic_terms() 사용\n",
        "for i in range(num_topics):\n",
        "    keywords_idx = lda_model.get_topic_terms(i, 10)   # (몇번째 Topic, 몇개 Keyword)      (272,00082) (175,0.00806), ...\n",
        "\n",
        "    keywords = []\n",
        "    for idx, prob in keywords_idx:\n",
        "        keywords.append(dictionary[idx])     #  단어형태로 바꿔서 keywords 배열에 append함.\n",
        "\n",
        "    print('Topic: {} \\nKeywords: {}'.format(i + 1, keywords)) # 확률값이 높은 상위 10개 idx를 찾고 이를 키워드로 단어반환함."
      ]
    },
    {
      "cell_type": "code",
      "source": [
        "keywords_idx"
      ],
      "metadata": {
        "colab": {
          "base_uri": "https://localhost:8080/"
        },
        "id": "Wv7-7nAiWjnm",
        "outputId": "1fefdfc8-bcdc-4f3b-963b-4e403b191078"
      },
      "execution_count": null,
      "outputs": [
        {
          "output_type": "execute_result",
          "data": {
            "text/plain": [
              "[(272, 0.008498382),\n",
              " (175, 0.008067945),\n",
              " (300, 0.0073948624),\n",
              " (459, 0.006714058),\n",
              " (1604, 0.006499561),\n",
              " (1426, 0.005469366),\n",
              " (1112, 0.0046627056),\n",
              " (279, 0.004618133),\n",
              " (431, 0.0045944797),\n",
              " (321, 0.0034566047)]"
            ]
          },
          "metadata": {},
          "execution_count": 67
        }
      ]
    },
    {
      "cell_type": "code",
      "execution_count": null,
      "metadata": {
        "colab": {
          "base_uri": "https://localhost:8080/"
        },
        "id": "QIuoiHWaSArO",
        "outputId": "0bdb0433-f2bc-46b6-930d-d7e19ab87738"
      },
      "outputs": [
        {
          "output_type": "stream",
          "name": "stdout",
          "text": [
            "Topic: 1 \n",
            "Words: 0.025*\"horror\" + 0.008*\"killer\" + 0.007*\"blood\" + 0.007*\"hous\" + 0.007*\"dead\" + 0.006*\"zombi\" + 0.006*\"gore\" + 0.006*\"night\" + 0.005*\"flick\" + 0.005*\"scari\"\n",
            "Topic: 2 \n",
            "Words: 0.012*\"school\" + 0.009*\"kid\" + 0.009*\"child\" + 0.007*\"famili\" + 0.004*\"home\" + 0.004*\"wife\" + 0.004*\"jack\" + 0.004*\"mari\" + 0.004*\"christma\" + 0.004*\"help\"\n",
            "Topic: 3 \n",
            "Words: 0.011*\"game\" + 0.007*\"space\" + 0.005*\"human\" + 0.005*\"team\" + 0.005*\"earth\" + 0.004*\"guy\" + 0.004*\"alien\" + 0.004*\"fight\" + 0.004*\"special\" + 0.004*\"monster\"\n",
            "Topic: 4 \n",
            "Words: 0.010*\"famili\" + 0.007*\"father\" + 0.007*\"mother\" + 0.006*\"wife\" + 0.006*\"child\" + 0.005*\"relationship\" + 0.005*\"live\" + 0.005*\"husband\" + 0.004*\"emot\" + 0.004*\"daughter\"\n",
            "Topic: 5 \n",
            "Words: 0.005*\"murder\" + 0.004*\"mysteri\" + 0.004*\"style\" + 0.004*\"lead\" + 0.004*\"thriller\" + 0.004*\"viewer\" + 0.004*\"crime\" + 0.003*\"audienc\" + 0.003*\"shot\" + 0.003*\"element\"\n",
            "Topic: 6 \n",
            "Words: 0.017*\"seri\" + 0.017*\"book\" + 0.015*\"anim\" + 0.012*\"episod\" + 0.012*\"version\" + 0.007*\"laugh\" + 0.007*\"read\" + 0.006*\"joke\" + 0.006*\"cartoon\" + 0.005*\"voic\"\n",
            "Topic: 7 \n",
            "Words: 0.009*\"worst\" + 0.008*\"wast\" + 0.007*\"bore\" + 0.007*\"poor\" + 0.006*\"terribl\" + 0.006*\"review\" + 0.006*\"aw\" + 0.006*\"money\" + 0.005*\"hour\" + 0.005*\"mayb\"\n",
            "Topic: 8 \n",
            "Words: 0.011*\"american\" + 0.008*\"documentari\" + 0.005*\"countri\" + 0.005*\"polit\" + 0.005*\"french\" + 0.005*\"histori\" + 0.004*\"differ\" + 0.004*\"john\" + 0.004*\"citi\" + 0.004*\"live\"\n",
            "Topic: 9 \n",
            "Words: 0.010*\"beauti\" + 0.007*\"excel\" + 0.007*\"perfect\" + 0.006*\"song\" + 0.005*\"danc\" + 0.005*\"episod\" + 0.005*\"screen\" + 0.004*\"amaz\" + 0.004*\"seri\" + 0.004*\"brilliant\"\n",
            "Topic: 10 \n",
            "Words: 0.008*\"black\" + 0.008*\"fight\" + 0.007*\"white\" + 0.007*\"soldier\" + 0.006*\"western\" + 0.005*\"american\" + 0.005*\"indian\" + 0.005*\"hero\" + 0.005*\"german\" + 0.003*\"hand\"\n"
          ]
        }
      ],
      "source": [
        "# 토픽별 단어의 분포 확인: print_topics() 사용\n",
        "for i, topic in lda_model.print_topics(-1):\n",
        "    print('Topic: {} \\nWords: {}'.format(i + 1, topic))"
      ]
    },
    {
      "cell_type": "markdown",
      "metadata": {
        "id": "jcgGG3k92bN5",
        "outputId": "c24c3bf4-8bec-4c29-d2fd-1136bfa30936"
      },
      "source": [
        "### 토픽 해석\n",
        "- 토픽의 키워드들을 기반으로 아래와 같이 토픽의 이름을 유추할 수 있음<br>\n",
        "  - Topic 1: Horror movies\n",
        "  - Topic 2: Movies about families\n",
        "  - Topic 3: SF Movies\n",
        "  - Topic 4: Movies about families\n",
        "  - Topic 5: Crime movies\n",
        "  - Topic 6: Movies based on books\n",
        "  - Topic 7: Generally bad movies \n",
        "  - Topic 8: Historical movies\n",
        "  - Topic 9: Music movies\n",
        "  - Topic 10: War movies"
      ]
    },
    {
      "cell_type": "code",
      "execution_count": null,
      "metadata": {
        "colab": {
          "base_uri": "https://localhost:8080/"
        },
        "id": "SGCk9Fv0t4Pl",
        "outputId": "82dab6ca-08b4-41f4-a36d-5bc4ad5b4546"
      },
      "outputs": [
        {
          "output_type": "execute_result",
          "data": {
            "text/plain": [
              "array([[3.5015776e-07, 2.1638040e-04, 4.3846460e-04, ..., 3.4923252e-07,\n",
              "        3.4919597e-07, 3.4929204e-07],\n",
              "       [6.4221531e-05, 3.9156640e-04, 6.1038736e-04, ..., 2.5567062e-05,\n",
              "        4.2081126e-07, 4.2076846e-07],\n",
              "       [1.1954862e-04, 2.6300072e-04, 5.1240041e-04, ..., 2.1219596e-04,\n",
              "        5.0889660e-04, 1.8055709e-04],\n",
              "       ...,\n",
              "       [4.3152829e-07, 2.4948348e-04, 1.5067502e-03, ..., 3.3525866e-06,\n",
              "        4.3139343e-07, 4.3135248e-07],\n",
              "       [2.6871123e-07, 5.1779969e-04, 1.9291530e-03, ..., 2.7111170e-07,\n",
              "        3.9131476e-07, 4.9830805e-06],\n",
              "       [1.0616987e-04, 2.2683846e-04, 1.2145453e-03, ..., 4.3234164e-07,\n",
              "        4.0943840e-07, 4.0942695e-07]], dtype=float32)"
            ]
          },
          "metadata": {},
          "execution_count": 69
        }
      ],
      "source": [
        "# 토픽별 단어의 분포 확인: get_topics() 사용\n",
        "topic_term_prob = lda_model.get_topics()   # vs get_topic_terms는 상위 10만\n",
        "topic_term_prob  "
      ]
    },
    {
      "cell_type": "code",
      "execution_count": null,
      "metadata": {
        "colab": {
          "base_uri": "https://localhost:8080/"
        },
        "id": "u5kFPb-kOjBt",
        "outputId": "a95a96fe-617a-4698-bac4-501b47528b53"
      },
      "outputs": [
        {
          "output_type": "stream",
          "name": "stdout",
          "text": [
            "(10, 5000)\n",
            "1.0\n"
          ]
        }
      ],
      "source": [
        "print(topic_term_prob.shape)     # (n_topics, n_terms)\n",
        "print(topic_term_prob[0].sum())  # 1.0"
      ]
    },
    {
      "cell_type": "code",
      "execution_count": null,
      "metadata": {
        "id": "mDjbalKAfxW6"
      },
      "outputs": [],
      "source": [
        "# 문서별 토픽의 분포 확인: get_document_topics() 사용\n",
        "sorted_doc_topic_list = []\n",
        "for doc in corpus:  # 5만개의 문장에 대해서 ... 각문장 마다 ...\n",
        "    doc_topic_dist = lda_model.get_document_topics(doc, minimum_probability=0)\n",
        "    sorted_doc_topic = sorted (doc_topic_dist, key=lambda x:x[1], reverse=True)     # 확률로 소팅 x[1], 내림차순 reverse\n",
        "    sorted_doc_topic_list.append (sorted_doc_topic)  # 누적"
      ]
    },
    {
      "cell_type": "code",
      "execution_count": null,
      "metadata": {
        "colab": {
          "base_uri": "https://localhost:8080/"
        },
        "id": "B86KhUeqhMpb",
        "outputId": "99931199-a360-4089-e5f3-443117a13d48",
        "scrolled": false
      },
      "outputs": [
        {
          "output_type": "stream",
          "name": "stdout",
          "text": [
            "[(4, 0.394905), (2, 0.24910812), (6, 0.119198635), (7, 0.08669371), (3, 0.063256115), (9, 0.046804816), (5, 0.036939755), (1, 0.0010312811), (8, 0.0010312736), (0, 0.0010312537)]\n",
            "[(4, 0.54356545), (8, 0.28023818), (3, 0.16219209), (6, 0.0020010713), (9, 0.0020009154), (5, 0.002000587), (0, 0.0020005438), (2, 0.002000439), (7, 0.0020004348), (1, 0.0020003144)]\n",
            "[(4, 0.22247426), (3, 0.2079549), (7, 0.18493468), (0, 0.15906505), (5, 0.14440322), (2, 0.07265487), (8, 0.0021283284), (6, 0.0021283117), (1, 0.002128284), (9, 0.0021280604)]\n",
            "[(0, 0.51285285), (3, 0.34446386), (4, 0.12560618), (9, 0.0024398742), (6, 0.0024398018), (2, 0.0024396968), (1, 0.0024395972), (5, 0.002439472), (8, 0.0024393972), (7, 0.002439327)]\n",
            "[(3, 0.33971903), (8, 0.2746204), (7, 0.23721251), (4, 0.13844553), (1, 0.0016672943), (5, 0.0016670953), (2, 0.0016670538), (6, 0.0016670531), (0, 0.001667045), (9, 0.0016669746)]\n"
          ]
        }
      ],
      "source": [
        "# 문장마다 topic 확인\n",
        "for i, doc in enumerate(sorted_doc_topic_list):\n",
        "    if i >= 5: break\n",
        "    print(doc)"
      ]
    },
    {
      "cell_type": "markdown",
      "metadata": {
        "id": "zCpWgpleAmzO"
      },
      "source": [
        "---"
      ]
    },
    {
      "cell_type": "markdown",
      "metadata": {
        "id": "D8UnZ7KbAmzO"
      },
      "source": [
        "# <br>__3. Visualization__"
      ]
    },
    {
      "cell_type": "code",
      "execution_count": null,
      "metadata": {
        "execution": {
          "iopub.execute_input": "2022-01-10T12:08:06.439926Z",
          "iopub.status.busy": "2022-01-10T12:08:06.439298Z",
          "iopub.status.idle": "2022-01-10T12:08:06.800502Z",
          "shell.execute_reply": "2022-01-10T12:08:06.799791Z",
          "shell.execute_reply.started": "2022-01-10T12:08:06.439887Z"
        },
        "id": "P88k4fYYAmzP",
        "scrolled": true
      },
      "outputs": [],
      "source": [
        "prepared_data = gensimvis.prepare(lda_model, corpus, dictionary) # 시각화준비 arg는 3가지"
      ]
    },
    {
      "cell_type": "code",
      "execution_count": null,
      "metadata": {
        "colab": {
          "base_uri": "https://localhost:8080/",
          "height": 860
        },
        "execution": {
          "iopub.execute_input": "2022-01-10T12:08:21.143667Z",
          "iopub.status.busy": "2022-01-10T12:08:21.143419Z",
          "iopub.status.idle": "2022-01-10T12:08:21.473350Z",
          "shell.execute_reply": "2022-01-10T12:08:21.472610Z",
          "shell.execute_reply.started": "2022-01-10T12:08:21.143638Z"
        },
        "id": "YR-fpGw2AmzQ",
        "outputId": "6d79fba6-3074-4022-80e9-a6fa1bc039ff"
      },
      "outputs": [
        {
          "output_type": "execute_result",
          "data": {
            "text/plain": [
              "<IPython.core.display.HTML object>"
            ],
            "text/html": [
              "\n",
              "<link rel=\"stylesheet\" type=\"text/css\" href=\"https://cdn.jsdelivr.net/gh/bmabey/pyLDAvis@3.3.1/pyLDAvis/js/ldavis.v1.0.0.css\">\n",
              "\n",
              "\n",
              "<div id=\"ldavis_el591406501647193124010592180\"></div>\n",
              "<script type=\"text/javascript\">\n",
              "\n",
              "var ldavis_el591406501647193124010592180_data = {\"mdsDat\": {\"x\": [-0.10624234547816577, 0.0384157148105295, 0.07946310660890882, 0.07075472824771634, -0.1141515270671005, -0.10366788246312775, 0.024536884660404067, 0.09254490740157235, 0.12143731000267761, -0.10309089672341469], \"y\": [0.01583387499411649, -0.03244503301455045, 0.11094839515855805, 0.014815667866298144, -0.062089021655572424, 0.1119463709240816, 0.054314701535693344, -0.10092916175543215, -0.02671150270619507, -0.08568429134699766], \"topics\": [1, 2, 3, 4, 5, 6, 7, 8, 9, 10], \"cluster\": [1, 1, 1, 1, 1, 1, 1, 1, 1, 1], \"Freq\": [15.449624642315744, 12.436913516295183, 11.984997494139419, 11.798301178161806, 9.332329594641779, 8.00467963263333, 7.9527074280371775, 7.8819804045994815, 7.647617399126186, 7.510848710049898]}, \"tinfo\": {\"Term\": [\"horror\", \"seri\", \"book\", \"anim\", \"episod\", \"famili\", \"school\", \"game\", \"version\", \"american\", \"worst\", \"killer\", \"wast\", \"kid\", \"child\", \"documentari\", \"fight\", \"mother\", \"father\", \"zombi\", \"gore\", \"laugh\", \"beauti\", \"song\", \"soldier\", \"blood\", \"western\", \"black\", \"joke\", \"murder\", \"seagal\", \"unintellig\", \"drivel\", \"lowest\", \"tripe\", \"underdevelop\", \"horrend\", \"wast\", \"min\", \"asham\", \"excruci\", \"turd\", \"garbag\", \"scarier\", \"mart\", \"worst\", \"crap\", \"imdb\", \"camcord\", \"preview\", \"cube\", \"dire\", \"ebert\", \"aw\", \"unwatch\", \"rave\", \"pathet\", \"worthless\", \"heather\", \"diaz\", \"horribl\", \"terribl\", \"insult\", \"wors\", \"suck\", \"review\", \"bore\", \"rubbish\", \"rent\", \"whatsoev\", \"money\", \"poor\", \"hour\", \"stupid\", \"comment\", \"sorri\", \"write\", \"couldn\", \"bad\", \"annoy\", \"mayb\", \"wasn\", \"embarrass\", \"avoid\", \"suppos\", \"half\", \"ridicul\", \"rate\", \"video\", \"total\", \"read\", \"expect\", \"laugh\", \"mean\", \"idea\", \"disappoint\", \"hope\", \"holm\", \"ranch\", \"plate\", \"bullock\", \"stylist\", \"arti\", \"dylan\", \"sandra\", \"riddl\", \"wong\", \"tokyo\", \"heist\", \"noir\", \"hammi\", \"lynch\", \"pauli\", \"auteur\", \"linear\", \"payoff\", \"fisher\", \"sutherland\", \"dizzi\", \"filter\", \"fragment\", \"abstract\", \"caper\", \"titil\", \"busey\", \"textur\", \"sensual\", \"crime\", \"thriller\", \"detect\", \"thread\", \"pierr\", \"mysteri\", \"philosoph\", \"psycholog\", \"murder\", \"visual\", \"crimin\", \"pace\", \"suspens\", \"element\", \"gangster\", \"style\", \"narrat\", \"tension\", \"viewer\", \"opera\", \"surreal\", \"intrigu\", \"polic\", \"denni\", \"lead\", \"twist\", \"genr\", \"sequenc\", \"dark\", \"audienc\", \"camera\", \"lack\", \"self\", \"certain\", \"shot\", \"appear\", \"creat\", \"follow\", \"develop\", \"case\", \"particular\", \"main\", \"sens\", \"begin\", \"flynn\", \"sung\", \"whore\", \"randolph\", \"sinatra\", \"cheapli\", \"madonna\", \"errol\", \"matthau\", \"simmon\", \"powel\", \"scorses\", \"broadway\", \"bogart\", \"niro\", \"felix\", \"neill\", \"orchestra\", \"rooney\", \"walsh\", \"lemmon\", \"marion\", \"timeless\", \"carey\", \"standout\", \"dunn\", \"luci\", \"ballet\", \"buffalo\", \"antholog\", \"sullivan\", \"danc\", \"murphi\", \"superb\", \"sing\", \"beauti\", \"oscar\", \"excel\", \"eddi\", \"russel\", \"song\", \"singer\", \"magnific\", \"davi\", \"perfect\", \"fantast\", \"nomin\", \"brilliant\", \"stage\", \"outstand\", \"amaz\", \"greatest\", \"season\", \"delight\", \"terrif\", \"episod\", \"charm\", \"award\", \"talent\", \"classic\", \"tale\", \"screen\", \"support\", \"william\", \"number\", \"fine\", \"romant\", \"especi\", \"seri\", \"pictur\", \"truli\", \"favorit\", \"score\", \"true\", \"entertain\", \"heart\", \"product\", \"recommend\", \"portray\", \"give\", \"differ\", \"view\", \"mine\", \"jacob\", \"diari\", \"maci\", \"ashley\", \"dori\", \"raini\", \"sarandon\", \"screwbal\", \"streep\", \"natali\", \"hamlet\", \"existenti\", \"freeman\", \"meryl\", \"dysfunct\", \"trauma\", \"ritter\", \"neurot\", \"morbid\", \"brooklyn\", \"cooki\", \"bela\", \"betti\", \"ernest\", \"tarantino\", \"funer\", \"quentin\", \"critiqu\", \"loneli\", \"branagh\", \"husband\", \"marriag\", \"mother\", \"relationship\", \"father\", \"famili\", \"guilt\", \"sexual\", \"sister\", \"daughter\", \"abus\", \"wife\", \"wine\", \"marri\", \"divorc\", \"emot\", \"child\", \"parent\", \"happi\", \"live\", \"situat\", \"find\", \"home\", \"touch\", \"moral\", \"dream\", \"heart\", \"moment\", \"human\", \"relat\", \"messag\", \"begin\", \"care\", \"understand\", \"mind\", \"help\", \"problem\", \"main\", \"portray\", \"hope\", \"true\", \"chang\", \"argento\", \"slasher\", \"frankenstein\", \"halloween\", \"carpent\", \"undead\", \"chainsaw\", \"scariest\", \"rat\", \"dracula\", \"carradin\", \"rack\", \"graveyard\", \"horror\", \"mummi\", \"werewolf\", \"gori\", \"gore\", \"zombi\", \"giallo\", \"fulci\", \"fright\", \"grisli\", \"spooki\", \"blair\", \"cush\", \"vampir\", \"ghost\", \"creepi\", \"maniac\", \"demon\", \"killer\", \"blood\", \"scari\", \"scare\", \"witch\", \"metal\", \"serial\", \"nuditi\", \"monster\", \"dead\", \"hous\", \"flick\", \"bloodi\", \"scream\", \"night\", \"haunt\", \"evil\", \"wood\", \"budget\", \"murder\", \"death\", \"victim\", \"dark\", \"genr\", \"head\", \"bodi\", \"shot\", \"fan\", \"muppet\", \"stiller\", \"bronson\", \"austen\", \"laser\", \"conan\", \"dalton\", \"tripl\", \"seinfeld\", \"disney\", \"ranger\", \"frog\", \"cartoon\", \"belushi\", \"ninja\", \"damon\", \"bug\", \"bunni\", \"wizard\", \"costello\", \"wrestl\", \"lion\", \"superhero\", \"hulk\", \"vinc\", \"low\", \"raider\", \"walt\", \"creek\", \"superman\", \"anim\", \"spoof\", \"batman\", \"book\", \"jane\", \"seri\", \"version\", \"episod\", \"duck\", \"match\", \"freddi\", \"king\", \"arnold\", \"joke\", \"novel\", \"sequel\", \"comic\", \"voic\", \"adapt\", \"funniest\", \"adventur\", \"gag\", \"read\", \"laugh\", \"humor\", \"rock\", \"hilari\", \"favorit\", \"song\", \"season\", \"classic\", \"rememb\", \"short\", \"miss\", \"probabl\", \"disappoint\", \"wasn\", \"kid\", \"brando\", \"eugen\", \"sandler\", \"norri\", \"anonym\", \"anxieti\", \"marlon\", \"frost\", \"claus\", \"homicid\", \"lynn\", \"classmat\", \"santa\", \"debbi\", \"bachelor\", \"stanwyck\", \"voight\", \"april\", \"nanci\", \"venic\", \"drew\", \"beatti\", \"patti\", \"wendi\", \"micheal\", \"downey\", \"skate\", \"snipe\", \"bean\", \"dillon\", \"snowman\", \"reunion\", \"christma\", \"margaret\", \"dian\", \"hoffman\", \"school\", \"teacher\", \"mari\", \"florida\", \"anna\", \"adam\", \"holiday\", \"surf\", \"boy\", \"kid\", \"colleg\", \"billi\", \"chuck\", \"student\", \"howard\", \"jack\", \"child\", \"charli\", \"parent\", \"teach\", \"matt\", \"alex\", \"famili\", \"teenag\", \"teen\", \"class\", \"home\", \"girlfriend\", \"wife\", \"town\", \"brother\", \"meet\", \"hous\", \"toni\", \"help\", \"father\", \"robert\", \"later\", \"rememb\", \"learn\", \"laugh\", \"away\", \"eastwood\", \"stan\", \"laurel\", \"akshay\", \"homer\", \"showtim\", \"indian\", \"latin\", \"artwork\", \"kapoor\", \"abort\", \"pill\", \"esteem\", \"kumar\", \"influenti\", \"nod\", \"clint\", \"administr\", \"anguish\", \"mitchum\", \"cari\", \"decay\", \"lampoon\", \"russo\", \"shaw\", \"eastern\", \"surrealist\", \"cattl\", \"specul\", \"outlaw\", \"nazi\", \"kung\", \"western\", \"martial\", \"soldier\", \"india\", \"korean\", \"art\", \"swedish\", \"khan\", \"african\", \"racist\", \"german\", \"bollywood\", \"racism\", \"vietnam\", \"white\", \"armi\", \"hors\", \"fight\", \"black\", \"civil\", \"battl\", \"hero\", \"south\", \"anti\", \"nation\", \"chaplin\", \"american\", \"west\", \"militari\", \"nativ\", \"hand\", \"forc\", \"offic\", \"race\", \"harri\", \"death\", \"english\", \"power\", \"portray\", \"countri\", \"evil\", \"human\", \"polit\", \"elect\", \"conneri\", \"lectur\", \"lincoln\", \"juliett\", \"miranda\", \"beatl\", \"chemic\", \"cassavet\", \"depardieu\", \"corman\", \"danish\", \"lui\", \"democrat\", \"woodi\", \"columbo\", \"spain\", \"victoria\", \"elvi\", \"prophet\", \"republ\", \"economi\", \"juliet\", \"atom\", \"pari\", \"gerard\", \"minist\", \"fascist\", \"presid\", \"aristocrat\", \"hong\", \"ford\", \"documentari\", \"bond\", \"australian\", \"french\", \"chan\", \"kelli\", \"nuclear\", \"allen\", \"document\", \"fonda\", \"polit\", \"govern\", \"kong\", \"american\", \"countri\", \"franc\", \"histor\", \"jacki\", \"china\", \"interview\", \"histori\", \"cultur\", \"news\", \"america\", \"state\", \"citi\", \"inform\", \"sean\", \"york\", \"segment\", \"event\", \"differ\", \"john\", \"live\", \"jame\", \"view\", \"power\", \"releas\", \"shot\", \"true\", \"follow\", \"snake\", \"boll\", \"astronaut\", \"stamp\", \"galaxi\", \"sour\", \"reagan\", \"monitor\", \"scrape\", \"cyborg\", \"spaceship\", \"fart\", \"boggl\", \"sleepwalk\", \"travolta\", \"bag\", \"whini\", \"commando\", \"virus\", \"goat\", \"blah\", \"ape\", \"passeng\", \"wire\", \"robot\", \"missil\", \"outer\", \"godzilla\", \"buster\", \"rocket\", \"planet\", \"dinosaur\", \"footbal\", \"space\", \"game\", \"monkey\", \"plane\", \"ship\", \"scientist\", \"tarzan\", \"keaton\", \"weapon\", \"flight\", \"team\", \"alien\", \"scienc\", \"earth\", \"crash\", \"pilot\", \"machin\", \"guy\", \"monster\", \"human\", \"brain\", \"island\", \"fight\", \"train\", \"giant\", \"stop\", \"special\", \"stupid\", \"head\", \"laugh\", \"entertain\", \"cours\", \"probabl\", \"idea\", \"talk\"], \"Freq\": [7463.0, 6683.0, 5586.0, 4273.0, 5206.0, 6382.0, 3974.0, 3231.0, 4510.0, 5073.0, 5437.0, 2964.0, 4414.0, 4002.0, 5546.0, 2418.0, 3921.0, 3388.0, 4084.0, 1961.0, 1939.0, 6448.0, 6269.0, 3660.0, 1836.0, 2412.0, 1724.0, 4246.0, 3256.0, 4183.0, 414.5805552271426, 122.53472996688684, 214.34259711878047, 186.08005952510018, 161.0045638313141, 88.07897917670142, 221.11106156040566, 3847.48620056663, 178.88439724656132, 284.47257380469443, 162.90134301143445, 99.30440841396265, 812.8148108911507, 87.7047059037649, 64.71414814545574, 4342.933520519168, 1775.002445316724, 1106.8993770478971, 115.55609873845661, 317.0188355885829, 148.83047836428273, 193.12815381644322, 79.1556761740855, 2789.4497673471988, 155.43867182945104, 177.25176913914757, 828.2393301399, 187.429174414712, 102.00345178614754, 108.75451627746632, 2378.019279980164, 2878.6493101605483, 633.2676703900112, 1971.2952159497588, 1077.0615457213687, 2809.1685259624123, 3252.5006086637122, 385.2402872733053, 1714.3656764105147, 503.62224733217215, 2697.2074142063184, 3112.7673986205314, 2439.8188714985986, 2351.2651710843625, 2025.5483840696074, 1002.5164119789634, 2325.4848577571433, 1781.8046841216158, 893.1883878698656, 1469.0063859488869, 2434.9188267110144, 2347.337609177558, 743.9531230781404, 1099.7152554829602, 2037.4739339792563, 1864.8233270235296, 1248.9992538093745, 1957.7172108773373, 1758.7665756150234, 1769.782651658441, 2125.872299670128, 2224.5301956672442, 2298.7403752385644, 2185.5805607369616, 1930.0122784495074, 1687.0769754069106, 1783.930472628048, 610.5920047375539, 151.54866975146194, 149.3717024785107, 152.39955307308017, 113.81665442209491, 143.79649648031736, 143.05362881224875, 203.70884876039588, 171.8237021551577, 167.08375997258162, 107.02857562071469, 253.89309971949388, 766.273811521971, 131.79568548807987, 512.3387295643605, 159.29085930735434, 76.87372684937846, 93.23022256472355, 118.577488657095, 155.98972789848995, 314.96235215440504, 80.14544647527286, 108.25535077490869, 98.61500047707074, 92.3500705563848, 95.14761324111842, 75.75682759997731, 152.07794975607624, 110.09283870707482, 160.7402922257389, 1407.7037624962625, 1557.9243559563024, 844.9328952390897, 213.83244610013088, 176.63233053748402, 1639.5977071316938, 224.6207585409109, 526.9296156943935, 2076.5844173784517, 1113.6222131992163, 593.8564360499331, 1108.595616206721, 1105.6065336883566, 1122.2276253763937, 434.53641812989633, 1591.0140207452387, 914.6490357487197, 693.7340958176059, 1542.128467316804, 557.7663291019047, 369.02574430363154, 592.182077842174, 908.5228431456063, 315.6660995093466, 1585.5148979221533, 998.2587213424564, 932.0144921117429, 1030.735758065158, 1014.3585023862347, 1286.6208236218336, 1047.316254447958, 978.7775539086631, 812.7166018977478, 1054.045300542726, 1186.6403987322267, 1090.3364467138697, 916.1931543546447, 1020.5119052915569, 872.2595236912846, 847.1688952186532, 846.4726989427227, 895.0041662055215, 870.9381068791654, 875.2512479865624, 217.6700931865874, 174.98328585274004, 140.98678641762723, 145.52243922762506, 318.0415975497562, 109.2908797431282, 202.38898507255783, 109.78280998203927, 283.3437135351782, 167.3802502806103, 275.09399590734694, 115.46076647277916, 381.3136954278997, 180.73779617594116, 221.80340612333404, 253.2723668028895, 134.96408840617383, 114.33227366772846, 133.9234039183067, 172.94538613090992, 215.34008601868317, 189.46242972270733, 226.01288041757988, 138.59513946581941, 145.1062566563883, 112.32482788146659, 260.74617203819304, 121.1268532477751, 154.58299951960586, 131.24426375308664, 211.65417332380278, 1897.3305499869684, 305.26592230423273, 992.101009414361, 1224.4112248499418, 3573.9450616440904, 1168.0774478548353, 2528.347466127801, 475.8588347275193, 372.1154824985558, 2110.331167008933, 510.85050216233367, 483.2822546636416, 557.4096159757377, 2450.78694599638, 1055.7203945967556, 493.33020770810293, 1444.4594192984307, 937.026037519135, 504.32952006055666, 1549.3787962325778, 834.215757386419, 1017.5630877626902, 627.7686236360614, 534.7876137419289, 1759.029162119091, 861.0434788837556, 700.1612880456527, 1333.734298147389, 1432.513584626706, 873.4207390056483, 1677.448170906227, 1091.4586130539642, 846.9513789709512, 1016.1558634825691, 983.5070382076609, 796.9614399731321, 1353.5543261602895, 1512.9786740555992, 1159.7312662457928, 1095.7606477946638, 965.2561463078713, 954.7983221138602, 1201.2040318402953, 1247.319627731728, 1018.9568193900623, 1121.1290413088102, 1077.818474578531, 1023.9883059737288, 1047.7155177006507, 1018.0166615296351, 994.7992005263873, 153.6229285831274, 137.49619193082287, 126.43261415649427, 207.47952636625732, 138.0727054686482, 119.99160776328473, 103.1383136857249, 116.06002769421988, 86.00964850680676, 216.30113373465028, 207.73734413928588, 262.9357638679067, 85.76372961398742, 344.45446485058204, 171.44146775932802, 142.1730209526328, 113.39324794675534, 144.48363834276813, 109.5730860890398, 125.75585555503694, 149.86175468004282, 130.41833700211453, 144.1851795501921, 716.7080136032849, 205.03757750056994, 259.4565083218989, 226.72547171102468, 117.12508972653342, 122.83133112990274, 192.59112951563193, 247.19659969286946, 1683.3919630574132, 692.0715779212009, 2538.0295823010115, 1876.4031402740516, 2662.444232000011, 3714.0318240854554, 246.0969948823794, 1240.1999323723571, 1316.709053375129, 1460.647932892416, 549.3261158864527, 2138.263462568681, 249.22990373353863, 947.5158402243935, 285.00943449823865, 1590.8811402348294, 2004.6085570542955, 889.3341065176959, 921.3949839938019, 1705.573021212161, 857.9695145460672, 931.3689501374213, 1174.2186314897715, 857.8715249963669, 597.3696486202805, 800.7809588073037, 967.0607038182785, 1301.3726446276216, 1113.0097474740464, 739.4959720807714, 674.928043057844, 1155.594017580028, 1017.6456159902837, 1009.3096541864113, 1023.635342079849, 1079.8333930523752, 959.4082462732704, 982.7191498327038, 902.1754991689558, 943.0828364354802, 924.307854930289, 894.9938592728059, 292.48261289226684, 1034.535536965104, 269.3291242418715, 518.4179101019835, 340.10267845350455, 132.15445039117864, 134.60181345752358, 106.60737734331781, 111.18741029764719, 364.0662748974325, 139.16601263697322, 112.38641608619099, 90.61561988033839, 7168.393035510191, 299.83625736050175, 621.3992621415491, 439.4317724981245, 1829.4299554609206, 1837.489140383107, 210.24776793147612, 308.6815309748384, 141.93973978616742, 85.38991251291729, 220.7698523470021, 282.6482941348962, 107.8477640458665, 1366.3597859891677, 963.002886641554, 1131.8950316577072, 280.9432022459718, 835.0077054280108, 2399.9645579967105, 1962.4155592681639, 1471.794720621674, 1146.0729752814536, 525.0566311385604, 325.71688865809773, 584.663318565231, 784.2871604305464, 1272.4700107287342, 1889.4327763478057, 1928.3780807874646, 1479.307446208419, 446.16670209484687, 736.9316684097088, 1570.9302411931167, 621.9521309758467, 1024.7128808525588, 702.8090823565731, 1186.7608704822092, 1237.1399279530033, 1144.5654875814819, 728.3309138728573, 906.0131249126867, 829.7796027581822, 938.3006780511246, 785.5520783336129, 903.6757062268447, 764.0422627145492, 257.5028490182768, 153.98396009667945, 141.96893521905446, 178.21298834205345, 111.14257910232885, 118.80238664910223, 172.9287867316857, 73.11187823707745, 90.92538399504778, 1082.8521936230459, 272.4742269579549, 96.97372506871696, 1377.1812102206175, 171.87521950163088, 400.850053531025, 114.11423493226162, 338.7164234784968, 196.43840068673245, 178.52473972991274, 109.58749907809228, 229.2732380030473, 327.3524746972328, 160.42451252802698, 130.5068786926065, 129.7375887143752, 140.11806544401082, 70.81044821719952, 120.5358360191286, 107.11217718895233, 254.84438983761416, 3596.5206653465198, 402.652181156526, 602.397651674346, 4041.575257682308, 815.8249018764751, 4209.4735995350675, 2865.420387989496, 2873.345861505121, 201.77062181593732, 986.1401742235299, 334.59382947326014, 973.34331959955, 232.5039356870317, 1540.1759784755563, 1043.7869477183676, 1099.32205259965, 1126.6652649546804, 1258.0984711962683, 795.0311608200986, 482.97774166438177, 721.3940717524704, 383.02728818156453, 1591.8845979100734, 1762.7398879325256, 1099.3356550599876, 732.5657724276315, 853.6471662908991, 876.9736287851936, 1005.0120009880584, 734.4758412436021, 1033.611740616762, 1003.6668310145192, 957.2005997940618, 820.5220014617564, 826.1688928401013, 774.9203199495812, 784.2723514930977, 744.017400401154, 322.80791997826447, 203.59442548567773, 219.3187646528075, 237.18881191722474, 111.43827293599199, 103.01413318960651, 102.69330602071427, 171.23953938194103, 120.35018879093654, 242.89149883143216, 114.41616367528594, 124.9904528858348, 307.110200857925, 109.51033258794996, 117.53135670245382, 256.9060314078122, 191.47819364416304, 158.94641303594864, 355.75174118381005, 171.6545643525771, 329.5898238502374, 165.28275841984063, 95.33709329157296, 87.41971280186756, 62.11578871621894, 145.08573053432883, 117.03182610469857, 114.78730287338425, 231.4580268468071, 105.61928696490544, 177.12314688914128, 221.69319962489635, 956.4649537851118, 230.87268143930362, 336.85049440192444, 320.3990239408436, 2796.701496394762, 660.0391472122838, 988.4998925469919, 203.131368997512, 436.00035686483506, 612.0515506482171, 311.3894261690941, 213.1694071491461, 931.1426026020287, 2144.251948350402, 692.7008043681914, 578.1090905641381, 282.3257407313511, 897.6608058765785, 442.74256294095983, 1004.2288912781024, 2085.5465099966514, 525.3150200202163, 902.1821314334908, 421.71846948748083, 363.290943859132, 363.2239643865628, 1578.092344807984, 728.6929658234287, 601.6477437627102, 735.4655787219052, 1078.5710943351633, 601.6890182086062, 1047.9896016816963, 735.670543228128, 812.4927041926244, 796.1521904786623, 891.0732241230053, 514.2503715289316, 942.5555218271012, 814.3627800761865, 642.0152780275714, 730.7978499462624, 713.9470083971637, 627.4586875338415, 663.6145953583359, 633.756165678607, 352.55383710438343, 251.20824670460647, 230.2495938239034, 206.7095070839736, 246.7361164525223, 177.27612161288852, 1117.6233776688966, 149.915520574444, 126.98142662586686, 123.85958850298803, 184.53778036164994, 114.42277922336449, 95.513443448437, 122.489707713308, 88.88386082490112, 85.16207811887175, 240.5096570208856, 107.1436943799215, 110.26190497308278, 136.96330014962575, 171.83163202001737, 96.37491897218491, 173.43487458683433, 118.30604978599266, 178.54849161335355, 214.8457353435595, 62.499504769652596, 134.97142358172374, 94.88106735440789, 137.00507254952697, 549.7189228444589, 408.2006452448153, 1557.9069281864147, 648.465416105692, 1609.3206323790735, 368.5175071323682, 261.67905542614045, 649.937635089519, 239.98768339860615, 262.29827474892477, 469.89736373593854, 250.47319756753356, 1101.2700272370237, 315.06496381400245, 262.3856145028933, 411.46455696428535, 1772.5054473797236, 691.5018705931093, 650.4255099324535, 1933.8394409103346, 2037.0126365899584, 409.863197922514, 804.7453120012262, 1106.9395771447935, 490.7385823180549, 598.212353998198, 589.4558879170993, 335.9534239946711, 1310.9751762658177, 462.9589039329727, 458.8078658690405, 357.6363689916308, 828.5280107190727, 700.2673217862774, 563.3044681018478, 438.38816624010246, 466.21226791218714, 609.4685229035796, 509.61128004283523, 565.0778836685295, 558.042038644685, 512.3390707741274, 498.92742371058256, 521.1913594479187, 476.7816338257393, 247.16318117827225, 268.0518731689977, 147.09768815780149, 277.9207533389708, 121.89598065782486, 127.10783831890433, 106.9919166561574, 95.91111303873852, 148.9696916188655, 107.49305655554605, 205.65808417898756, 163.2900185737998, 94.60284543040592, 78.95509574733366, 338.1947812688513, 388.70110596545504, 173.72522696784196, 253.6892425042459, 222.33009128416154, 106.71757202154562, 98.70698214206212, 92.53960212659244, 133.16633873819407, 115.09476246601095, 747.7769984002325, 137.95453659048985, 186.3271433870209, 74.93599287670747, 604.1336890456644, 91.25748836381743, 272.5747556905052, 630.9747905200509, 1929.3556495956407, 676.0129038426745, 428.44276774455136, 1148.3843853492208, 409.3476718269657, 465.9031968952929, 319.0289941600122, 507.12783045137786, 220.42722303641466, 218.1713726339504, 1179.3608267516247, 627.0168418923369, 369.006475103742, 2451.762632430006, 1262.7346295968177, 485.1267607188524, 714.4232644895169, 399.3390337369427, 280.5051377361747, 602.4145204274291, 1060.9433617017069, 742.6963837684909, 530.9034088231735, 729.3913323119898, 819.3640806987268, 835.5945724452773, 556.6844943956237, 369.74993742155897, 564.5018409286607, 406.9468787617763, 714.862844030379, 1007.6136671061014, 846.8720240117087, 833.5939927807423, 585.4911954429713, 707.8041756135061, 664.5305534116678, 581.3288894381676, 605.736546151979, 575.1400665182656, 565.8886986769439, 666.3660439354733, 238.69478798445834, 186.36003406331483, 116.23601046399368, 127.11063658186794, 100.28814404238878, 121.1789655294594, 95.65117548222095, 80.50481687979436, 158.69635450739202, 156.61169762952088, 143.48962954705516, 123.88845177033231, 88.86127975503554, 178.3860642910138, 77.21007411246194, 99.28013023174665, 104.12951445105611, 261.1957446307888, 128.9245256488811, 310.45224638894564, 225.18322693396277, 219.57317741314935, 194.13994869630113, 734.4242498000042, 204.67800960098327, 254.21154115757128, 172.4970571836629, 204.79791802119973, 298.7303374556845, 811.6756915862109, 314.7375199230589, 476.4664712530425, 1493.812531281946, 2398.751473813193, 361.8219495840384, 658.9617953765124, 798.1505429533379, 791.2200250551103, 352.51089257133725, 308.8126692520199, 538.0518294108894, 328.25681871616075, 1154.7774093777778, 995.7675965242893, 729.1709341445027, 1030.7016696691385, 527.42187284144, 475.55038634489364, 546.9911822865009, 1020.6176095110526, 821.4013161074151, 1205.1661210334435, 584.8877738325025, 566.03996235266, 965.1090117270271, 683.5014477732401, 459.2601248129612, 782.1242687361652, 883.4948658002829, 759.8376023567212, 764.0996892531964, 795.3367168430939, 712.6389678693021, 661.276842875731, 646.591032851917, 612.4996025359089, 563.7795310847588], \"Total\": [7463.0, 6683.0, 5586.0, 4273.0, 5206.0, 6382.0, 3974.0, 3231.0, 4510.0, 5073.0, 5437.0, 2964.0, 4414.0, 4002.0, 5546.0, 2418.0, 3921.0, 3388.0, 4084.0, 1961.0, 1939.0, 6448.0, 6269.0, 3660.0, 1836.0, 2412.0, 1724.0, 4246.0, 3256.0, 4183.0, 415.56703010912923, 123.44163891990209, 218.67345969462815, 193.4149668854762, 172.93685466671062, 99.44403728889057, 250.95986368938162, 4414.567587539801, 207.4080555244194, 332.3065367322033, 191.02574955067607, 118.04314584310436, 973.0615832844273, 106.90246451765724, 79.67025280633996, 5437.431787394478, 2234.698302022443, 1393.573475668084, 145.55629866261313, 404.4036959204188, 191.55367830731927, 250.45657072801495, 103.02355898015594, 3641.2538144755613, 203.16349119499915, 231.68276350920013, 1084.001591973521, 246.53332828928174, 134.62856959910147, 143.59206229409148, 3160.9528667050336, 3885.5806807594986, 859.6871676277485, 2840.624984216906, 1516.3917899724836, 4220.892001197642, 4999.324125747082, 522.1274687002488, 2560.5192173865667, 698.3900989029913, 4522.3202025053615, 5328.877935975729, 4108.946205897573, 3957.308313765846, 3425.0788285347344, 1555.1159574056655, 4188.885286836262, 3126.0003250921754, 1376.403281439977, 2526.9349986377183, 4709.703469369145, 4567.233178733407, 1115.3421215380413, 1860.0284500226428, 4352.614526719664, 4067.692105848593, 2292.0489357913366, 4580.662835004503, 3888.4823033444227, 3940.052870704915, 5353.697468180148, 5858.46833623625, 6448.246877920709, 6031.199055565338, 5041.767608994255, 3776.486359564914, 5109.802730160571, 613.8801411945353, 152.44606413612246, 150.29105960268382, 153.5585362146079, 114.8050781368538, 145.39670743809833, 144.64613767319358, 205.99874406708884, 174.26789660382508, 169.61524546348724, 108.95608976420647, 260.1574632630076, 785.8355727286264, 135.97473519274857, 531.7330078441906, 165.817163542626, 80.17984944310864, 98.62570408437102, 125.63944309710918, 165.67444135197704, 339.4755793944642, 86.44355436532648, 118.53268955454612, 108.88720756667618, 102.45422219818502, 107.93359931556948, 87.4139534025984, 175.53307272927424, 127.19962268897834, 188.5113932483941, 1753.8858627856666, 2024.4511306174065, 1065.7607001629135, 256.22320448904253, 208.98899937667636, 2873.906162080586, 285.4720338980836, 788.1468656949769, 4183.352984554252, 2085.0149426679745, 962.0311066140855, 2160.7834884443237, 2179.9590169555468, 2228.524216515071, 669.7079828443894, 3632.861263519548, 1768.4628175648973, 1243.7745848979223, 3960.5607263711336, 972.5795986531831, 564.3795066630564, 1126.111682696714, 2146.328387135012, 461.9494544175983, 5427.681267440992, 2676.3201816832557, 2583.464213069921, 3226.0346135507953, 3270.041853436728, 5186.535823059961, 3873.5435475951754, 3560.3382566708565, 2463.8242611431947, 4521.364256109583, 6023.351159169861, 5139.923681077224, 3363.75853254858, 4737.623781333831, 3018.2736795023393, 3316.503265475387, 3378.871308053941, 5564.349514769525, 4648.392496004054, 5576.574929033213, 218.75685259249778, 175.98593472583838, 141.89136992440257, 146.48578034840224, 320.63170531125246, 110.20236243706982, 204.34968181721197, 110.8919467045476, 286.2991638887566, 169.25554669329068, 278.86007995258007, 117.8113289999819, 390.8004890067001, 185.26909599642732, 227.49004981001636, 260.79101176983704, 139.47369707544047, 118.8462052883854, 139.4421604764977, 180.10345145028293, 225.5384223995456, 199.1505772718213, 238.0519453656904, 146.85598148503286, 154.01630606873937, 119.46834146400337, 280.5182919678447, 130.501474395901, 167.56555382765254, 142.6260878338674, 235.00393183541547, 2459.421344777676, 349.32085570830606, 1340.2749908354879, 1702.0366849124357, 6269.089033585469, 1736.0338347822208, 4370.837875076553, 616.2733570924246, 461.8824223484229, 3660.8501341603255, 678.5370306771107, 639.0397430150898, 763.8799275131096, 4805.452871531083, 1700.6052907421204, 671.6535647466537, 2858.0469824279267, 1646.7993546098776, 734.6477330766014, 3408.2437407223306, 1475.2984931475494, 2005.0671491057508, 1019.545622641124, 851.1344100595554, 5206.316957312646, 1763.0571446855631, 1282.8884128242591, 3571.01129243142, 4238.322152566678, 1875.65061146009, 5760.291387521471, 2795.7509422464022, 1810.2736690335635, 2705.1085395140685, 2559.791313333798, 1702.7226244351664, 5105.209073578305, 6683.261732249891, 3803.1625807767136, 3456.56059938656, 2661.556042394736, 2608.7617971244367, 4632.500982990115, 5435.011129961269, 3174.082888782294, 4580.872670306543, 4669.4467257103015, 3655.0495720241856, 4741.7897733767595, 5797.9777689713965, 4401.246544420997, 154.52234889932433, 138.39725228983622, 127.33350943257025, 209.0081461360846, 139.11675886768575, 120.9935743709638, 104.10534960759482, 117.36352935756415, 87.33517655890115, 220.42326381542168, 211.92663164018754, 268.8769989084201, 87.89371143576791, 353.6789381310461, 176.2695529059816, 147.4051446017799, 118.04981571161994, 150.4569497302688, 114.19316042908137, 135.41750661723907, 162.8121142749722, 142.47000229436082, 157.51847170905137, 788.3894660461096, 226.7690531768443, 287.1719104763336, 251.58140200182555, 130.263580578019, 137.93994434169684, 216.82962647794, 285.4421870284995, 2171.9698645191393, 847.4455390909534, 3388.749738332027, 2686.387613468963, 4084.7187279195737, 6382.632312367815, 294.36110360267185, 2089.126848943139, 2274.7548461437023, 2589.1758110399433, 797.1035885265815, 4471.554460201576, 304.3770747743918, 1741.9906578209043, 364.3727925402673, 3522.937589998425, 5546.847450888688, 1892.9141421599975, 2223.09858329216, 6012.988954346556, 2334.8432155984187, 2675.636771697206, 3953.41406860138, 2398.1012166401947, 1321.3268854872615, 2229.6569738253643, 3174.082888782294, 5397.494525127275, 4360.798791558086, 2164.6952700526554, 1813.9549335925278, 5576.574929033213, 4274.777700677026, 4208.656150319054, 4707.714688138059, 5571.663514282468, 4638.168313355279, 5564.349514769525, 3655.0495720241856, 5109.802730160571, 4632.500982990115, 3943.8133258360635, 293.6771992428631, 1039.580749931436, 270.7941619234827, 522.6799508463116, 343.0829312831979, 133.6068290159313, 136.3233479497499, 108.0153702121049, 113.16331350518968, 370.924063735505, 142.5842914046254, 115.86709378624757, 93.54186435943782, 7463.16068577501, 313.725078030075, 653.3977187328626, 462.9472677251156, 1939.255715812989, 1961.7116207573617, 224.52779647453173, 333.0898802690874, 153.244429325851, 94.74723479896811, 247.2158043442786, 317.3536813315471, 121.22076958930892, 1541.3128138548739, 1097.6684031831744, 1301.050703906669, 326.06226553090767, 988.7448501810258, 2964.0033464832713, 2412.1772572220398, 1806.127177943193, 1404.0862075743821, 681.6309823701079, 391.395518489674, 795.2217484622422, 1149.494259119565, 2222.1996367226457, 4016.342967240741, 4468.60000145302, 3237.72207922078, 627.1734961163277, 1332.387082634562, 4571.526126790644, 1088.5037393333605, 2606.7823858109487, 1364.931022233372, 3781.2402921912735, 4183.352984554252, 4332.504935428033, 1663.4154782796916, 3270.041853436728, 2583.464213069921, 4250.677836875831, 2278.309973274753, 6023.351159169861, 2740.65167404695, 258.4297010470818, 154.91612331550013, 143.20039508225415, 180.21992273889762, 112.81059696057066, 120.62733112892505, 175.792075778609, 74.4435452682401, 93.12133393056244, 1119.811124045228, 281.83178255951367, 100.71818734641117, 1435.5444250930911, 181.92630720383468, 432.8974448421346, 124.7506391496818, 370.44335566915765, 215.5061934149195, 195.935057556165, 122.17414929377955, 257.56671340149506, 368.2869065916098, 181.60740403391978, 148.0654502407617, 147.6195781908937, 162.00055964262654, 82.35039713874576, 141.58116058761877, 126.29737161758736, 301.13295521108637, 4273.004418472693, 476.7192370766663, 738.1683379642054, 5586.763051582733, 1036.5255304111504, 6683.261732249891, 4510.045517831619, 5206.316957312646, 242.76619784055313, 1583.7524145523503, 442.48108746381706, 1642.9548129898424, 289.51677021198986, 3256.488721101493, 2057.115174380135, 2207.533076387748, 2312.6639704347403, 2919.417204013061, 1562.448979472221, 776.9446793887662, 1511.497951052028, 586.6840284571729, 5353.697468180148, 6448.246877920709, 3345.74161713065, 1791.0212958311022, 2380.505410810303, 2661.556042394736, 3660.8501341603255, 2005.0671491057508, 4238.322152566678, 4065.0364950679405, 4500.269067861978, 4195.365781164772, 5594.062243068765, 3776.486359564914, 4567.233178733407, 4002.3079017887194, 324.28868436579336, 204.5870587481313, 220.39470091354173, 239.0678507094288, 112.3640065115175, 103.91870834316147, 103.63083522050576, 172.88287711628143, 121.54802978429353, 245.3282096941526, 115.95429746719658, 126.73764954135437, 311.7506830026679, 111.18607574497338, 119.72285248180894, 261.80806541053494, 195.67603249673476, 163.95225016546308, 369.3662576957817, 178.2524545882016, 344.4176416139403, 172.8240403260642, 99.70242193306422, 91.82834491946566, 65.26256855562083, 152.84168394360785, 123.60074998450078, 121.24926794234929, 245.57848763845857, 112.72164429613372, 189.56481680222373, 238.93529035418175, 1072.6657009443525, 250.18806361624237, 374.9020164654121, 357.8211641217993, 3974.1696671700442, 814.9078438154488, 1287.6944418010712, 222.3822840830624, 547.445177427701, 827.1894051055067, 375.9906027377732, 240.8114360048405, 1433.8336353388793, 4002.3079017887194, 1027.1599510175004, 827.9224085170963, 341.60754874547405, 1576.1682539096641, 626.2066762072674, 1953.953467845472, 5546.847450888688, 816.0284299435543, 1892.9141421599975, 646.5582977443704, 520.832898438706, 523.4538927333049, 6382.632312367815, 1760.3274006817476, 1301.9559327829254, 1912.5384321936228, 3953.41406860138, 1340.1806183821682, 4471.554460201576, 2519.3448239269273, 3265.4056641601933, 3147.0980236197556, 4468.60000145302, 1094.4814302243321, 5571.663514282468, 4084.7187279195737, 2377.302849502847, 4172.141985874347, 4065.0364950679405, 2738.5072238449648, 6448.246877920709, 5415.689272710311, 353.6619421705167, 252.1838147301504, 231.21716828800515, 207.6569996460892, 247.88091190846313, 178.17958249242795, 1124.6420502754972, 150.8713764135905, 127.88390751210052, 124.77231804528301, 185.9757548564814, 115.32875790793088, 96.41637066121032, 123.66259868876874, 89.78724211671413, 86.06446723556085, 243.13301599453897, 108.32034432502452, 111.49531261226953, 138.50832598752007, 173.90219832112135, 97.71562775797892, 176.27459417932099, 120.54529567503403, 182.01299603183938, 219.32260440866034, 63.848946916032034, 138.89610696809117, 98.97577937679422, 143.33824900903693, 585.9715810909839, 435.503086002797, 1724.3817978157992, 702.258724795107, 1836.313001339342, 396.6417517932781, 277.23381930693813, 740.4327457891617, 256.57351700340297, 287.312731028831, 546.0720590440669, 275.13878269422094, 1430.2160310440606, 365.8912782423941, 297.3877172831686, 504.85497837475253, 2919.585318716913, 943.0710586628231, 917.0326992594248, 3921.6469145530045, 4246.25352249083, 552.4349490742545, 1596.6457134461061, 2787.6163550814226, 805.9645278173309, 1116.2182213246888, 1116.2751197054415, 444.1890260923887, 5073.548753677065, 879.4604565214719, 929.3980785337995, 567.2808244141979, 4344.30514613332, 3191.3037300693168, 2043.6930134581348, 1008.86253730285, 1306.111746881366, 4332.504935428033, 1954.4923272607846, 3837.791633881918, 3655.0495720241856, 2271.718936563465, 2606.7823858109487, 4360.798791558086, 1895.3495122128788, 248.25414830688536, 269.37513091647423, 147.99780449614684, 279.9712380087669, 122.79663190627271, 128.12621073348998, 107.95862464059418, 96.81122259337322, 150.44892161054312, 108.72901966212336, 208.03002488137778, 165.19503549609834, 95.9452649550467, 80.19660856200862, 343.8888769971303, 395.5258916481983, 177.33063531923958, 259.971659063452, 228.28707575683922, 109.64743461206106, 101.90460467272523, 96.07834667479037, 139.6070139128556, 120.82227675251843, 789.8979358368795, 148.2325665769423, 202.1166142128999, 82.14127168150739, 664.8587331706167, 101.06965031837896, 305.58382024396354, 722.5460792192624, 2418.511838318901, 855.8770081724888, 520.1656240519579, 1572.209940450384, 496.3512220178713, 581.6311175284092, 382.7203474849736, 660.8452768832906, 252.46014711539536, 249.98343307511232, 1895.3495122128788, 903.8825921376538, 477.5917770937373, 5073.548753677065, 2271.718936563465, 680.9584715014463, 1175.0951400992801, 559.2790957167982, 348.450502654789, 1014.6636347982286, 2506.20517073407, 1509.7283586255603, 896.1280546493695, 1497.3782965122036, 2234.663085190618, 2410.947072844128, 1235.8000234150693, 527.4337189899642, 1338.2492456298075, 649.9131207033499, 2505.632113643233, 5797.9777689713965, 4091.363136348698, 6012.988954346556, 2003.781268494004, 4401.246544420997, 3837.791633881918, 3966.310563860581, 6023.351159169861, 4632.500982990115, 4737.623781333831, 668.7245909740576, 239.77256783945293, 187.83200816180627, 117.18216814617347, 128.1674590482983, 101.18835422409458, 122.47647572215008, 96.68122806388433, 81.43883079102372, 160.7865911373441, 158.7105546108652, 145.43875813376724, 125.73549554186205, 90.27070091320378, 182.15692267565606, 78.90166507876343, 102.60725546620688, 107.86146679149435, 272.9558654875557, 135.7892857528912, 329.41381337818007, 240.45713971177716, 234.57465215170882, 208.72689694418514, 792.0565293893592, 221.0194016865096, 275.78607099643534, 187.53580330034018, 223.8913241045788, 326.60575144248656, 906.1726391270616, 346.2352901167168, 537.3404915940748, 1886.7249716053373, 3231.449082792982, 421.7195592341566, 817.1986605612046, 1036.0554403115736, 1067.9396913095716, 427.6080587166713, 370.7508164145285, 718.5216667062019, 401.6278094352177, 2028.7948177863502, 1720.651042744251, 1172.984807735842, 1867.4497807306525, 834.0022614894692, 728.6819428505462, 952.2224750608906, 2653.981656373763, 2222.1996367226457, 4360.798791558086, 1275.976491150119, 1269.7841087724908, 3921.6469145530045, 1991.0281567656366, 883.8998189434523, 3055.7421923252737, 4606.088160940512, 3957.308313765846, 4250.677836875831, 6448.246877920709, 5435.011129961269, 4825.93930267883, 5594.062243068765, 5041.767608994255, 4320.936810396823], \"Category\": [\"Default\", \"Default\", \"Default\", \"Default\", \"Default\", \"Default\", \"Default\", \"Default\", \"Default\", \"Default\", \"Default\", \"Default\", \"Default\", \"Default\", \"Default\", \"Default\", \"Default\", \"Default\", \"Default\", \"Default\", \"Default\", \"Default\", \"Default\", \"Default\", \"Default\", \"Default\", \"Default\", \"Default\", \"Default\", \"Default\", \"Topic1\", \"Topic1\", \"Topic1\", \"Topic1\", \"Topic1\", \"Topic1\", \"Topic1\", \"Topic1\", \"Topic1\", \"Topic1\", \"Topic1\", \"Topic1\", \"Topic1\", \"Topic1\", \"Topic1\", \"Topic1\", \"Topic1\", \"Topic1\", \"Topic1\", \"Topic1\", \"Topic1\", \"Topic1\", \"Topic1\", \"Topic1\", \"Topic1\", \"Topic1\", \"Topic1\", \"Topic1\", \"Topic1\", \"Topic1\", \"Topic1\", \"Topic1\", \"Topic1\", \"Topic1\", \"Topic1\", \"Topic1\", \"Topic1\", \"Topic1\", \"Topic1\", \"Topic1\", \"Topic1\", \"Topic1\", \"Topic1\", \"Topic1\", \"Topic1\", \"Topic1\", \"Topic1\", \"Topic1\", \"Topic1\", \"Topic1\", \"Topic1\", \"Topic1\", \"Topic1\", \"Topic1\", \"Topic1\", \"Topic1\", \"Topic1\", \"Topic1\", \"Topic1\", \"Topic1\", \"Topic1\", \"Topic1\", \"Topic1\", \"Topic1\", \"Topic1\", \"Topic1\", \"Topic1\", \"Topic2\", \"Topic2\", \"Topic2\", \"Topic2\", \"Topic2\", \"Topic2\", \"Topic2\", \"Topic2\", \"Topic2\", \"Topic2\", \"Topic2\", \"Topic2\", \"Topic2\", \"Topic2\", \"Topic2\", \"Topic2\", \"Topic2\", \"Topic2\", \"Topic2\", \"Topic2\", \"Topic2\", \"Topic2\", \"Topic2\", \"Topic2\", \"Topic2\", \"Topic2\", \"Topic2\", \"Topic2\", \"Topic2\", \"Topic2\", \"Topic2\", \"Topic2\", \"Topic2\", \"Topic2\", \"Topic2\", \"Topic2\", \"Topic2\", \"Topic2\", \"Topic2\", \"Topic2\", \"Topic2\", \"Topic2\", \"Topic2\", \"Topic2\", \"Topic2\", \"Topic2\", \"Topic2\", \"Topic2\", \"Topic2\", \"Topic2\", \"Topic2\", \"Topic2\", \"Topic2\", \"Topic2\", \"Topic2\", \"Topic2\", \"Topic2\", \"Topic2\", \"Topic2\", \"Topic2\", \"Topic2\", \"Topic2\", \"Topic2\", \"Topic2\", \"Topic2\", \"Topic2\", \"Topic2\", \"Topic2\", \"Topic2\", \"Topic2\", \"Topic2\", \"Topic2\", \"Topic2\", \"Topic2\", \"Topic3\", \"Topic3\", \"Topic3\", \"Topic3\", \"Topic3\", \"Topic3\", \"Topic3\", \"Topic3\", \"Topic3\", \"Topic3\", \"Topic3\", \"Topic3\", \"Topic3\", \"Topic3\", \"Topic3\", \"Topic3\", \"Topic3\", \"Topic3\", \"Topic3\", \"Topic3\", \"Topic3\", \"Topic3\", \"Topic3\", \"Topic3\", \"Topic3\", \"Topic3\", \"Topic3\", \"Topic3\", \"Topic3\", \"Topic3\", \"Topic3\", \"Topic3\", \"Topic3\", \"Topic3\", \"Topic3\", \"Topic3\", \"Topic3\", \"Topic3\", \"Topic3\", \"Topic3\", \"Topic3\", \"Topic3\", \"Topic3\", \"Topic3\", \"Topic3\", \"Topic3\", \"Topic3\", \"Topic3\", \"Topic3\", \"Topic3\", \"Topic3\", \"Topic3\", \"Topic3\", \"Topic3\", \"Topic3\", \"Topic3\", \"Topic3\", \"Topic3\", \"Topic3\", \"Topic3\", \"Topic3\", \"Topic3\", \"Topic3\", \"Topic3\", \"Topic3\", \"Topic3\", \"Topic3\", \"Topic3\", \"Topic3\", \"Topic3\", \"Topic3\", \"Topic3\", \"Topic3\", \"Topic3\", \"Topic3\", \"Topic3\", \"Topic3\", \"Topic3\", \"Topic3\", \"Topic3\", \"Topic3\", \"Topic3\", \"Topic4\", \"Topic4\", \"Topic4\", \"Topic4\", \"Topic4\", \"Topic4\", \"Topic4\", \"Topic4\", \"Topic4\", \"Topic4\", \"Topic4\", \"Topic4\", \"Topic4\", \"Topic4\", \"Topic4\", \"Topic4\", \"Topic4\", \"Topic4\", \"Topic4\", \"Topic4\", \"Topic4\", \"Topic4\", \"Topic4\", \"Topic4\", \"Topic4\", \"Topic4\", \"Topic4\", \"Topic4\", \"Topic4\", \"Topic4\", \"Topic4\", \"Topic4\", \"Topic4\", \"Topic4\", \"Topic4\", \"Topic4\", \"Topic4\", \"Topic4\", \"Topic4\", \"Topic4\", \"Topic4\", \"Topic4\", \"Topic4\", \"Topic4\", \"Topic4\", \"Topic4\", \"Topic4\", \"Topic4\", \"Topic4\", \"Topic4\", \"Topic4\", \"Topic4\", \"Topic4\", \"Topic4\", \"Topic4\", \"Topic4\", \"Topic4\", \"Topic4\", \"Topic4\", \"Topic4\", \"Topic4\", \"Topic4\", \"Topic4\", \"Topic4\", \"Topic4\", \"Topic4\", \"Topic4\", \"Topic4\", \"Topic4\", \"Topic4\", \"Topic4\", \"Topic4\", \"Topic4\", \"Topic5\", \"Topic5\", \"Topic5\", \"Topic5\", \"Topic5\", \"Topic5\", \"Topic5\", \"Topic5\", \"Topic5\", \"Topic5\", \"Topic5\", \"Topic5\", \"Topic5\", \"Topic5\", \"Topic5\", \"Topic5\", \"Topic5\", \"Topic5\", \"Topic5\", \"Topic5\", \"Topic5\", \"Topic5\", \"Topic5\", \"Topic5\", \"Topic5\", \"Topic5\", \"Topic5\", \"Topic5\", \"Topic5\", \"Topic5\", \"Topic5\", \"Topic5\", \"Topic5\", \"Topic5\", \"Topic5\", \"Topic5\", \"Topic5\", \"Topic5\", \"Topic5\", \"Topic5\", \"Topic5\", \"Topic5\", \"Topic5\", \"Topic5\", \"Topic5\", \"Topic5\", \"Topic5\", \"Topic5\", \"Topic5\", \"Topic5\", \"Topic5\", \"Topic5\", \"Topic5\", \"Topic5\", \"Topic5\", \"Topic5\", \"Topic5\", \"Topic5\", \"Topic5\", \"Topic6\", \"Topic6\", \"Topic6\", \"Topic6\", \"Topic6\", \"Topic6\", \"Topic6\", \"Topic6\", \"Topic6\", \"Topic6\", \"Topic6\", \"Topic6\", \"Topic6\", \"Topic6\", \"Topic6\", \"Topic6\", \"Topic6\", \"Topic6\", \"Topic6\", \"Topic6\", \"Topic6\", \"Topic6\", \"Topic6\", \"Topic6\", \"Topic6\", \"Topic6\", \"Topic6\", \"Topic6\", \"Topic6\", \"Topic6\", \"Topic6\", \"Topic6\", \"Topic6\", \"Topic6\", \"Topic6\", \"Topic6\", \"Topic6\", \"Topic6\", \"Topic6\", \"Topic6\", \"Topic6\", \"Topic6\", \"Topic6\", \"Topic6\", \"Topic6\", \"Topic6\", \"Topic6\", \"Topic6\", \"Topic6\", \"Topic6\", \"Topic6\", \"Topic6\", \"Topic6\", \"Topic6\", \"Topic6\", \"Topic6\", \"Topic6\", \"Topic6\", \"Topic6\", \"Topic6\", \"Topic6\", \"Topic6\", \"Topic6\", \"Topic6\", \"Topic6\", \"Topic6\", \"Topic6\", \"Topic6\", \"Topic7\", \"Topic7\", \"Topic7\", \"Topic7\", \"Topic7\", \"Topic7\", \"Topic7\", \"Topic7\", \"Topic7\", \"Topic7\", \"Topic7\", \"Topic7\", \"Topic7\", \"Topic7\", \"Topic7\", \"Topic7\", \"Topic7\", \"Topic7\", \"Topic7\", \"Topic7\", \"Topic7\", \"Topic7\", \"Topic7\", \"Topic7\", \"Topic7\", \"Topic7\", \"Topic7\", \"Topic7\", \"Topic7\", \"Topic7\", \"Topic7\", \"Topic7\", \"Topic7\", \"Topic7\", \"Topic7\", \"Topic7\", \"Topic7\", \"Topic7\", \"Topic7\", \"Topic7\", \"Topic7\", \"Topic7\", \"Topic7\", \"Topic7\", \"Topic7\", \"Topic7\", \"Topic7\", \"Topic7\", \"Topic7\", \"Topic7\", \"Topic7\", \"Topic7\", \"Topic7\", \"Topic7\", \"Topic7\", \"Topic7\", \"Topic7\", \"Topic7\", \"Topic7\", \"Topic7\", \"Topic7\", \"Topic7\", \"Topic7\", \"Topic7\", \"Topic7\", \"Topic7\", \"Topic7\", \"Topic7\", \"Topic7\", \"Topic7\", \"Topic7\", \"Topic7\", \"Topic7\", \"Topic7\", \"Topic7\", \"Topic7\", \"Topic7\", \"Topic7\", \"Topic8\", \"Topic8\", \"Topic8\", \"Topic8\", \"Topic8\", \"Topic8\", \"Topic8\", \"Topic8\", \"Topic8\", \"Topic8\", \"Topic8\", \"Topic8\", \"Topic8\", \"Topic8\", \"Topic8\", \"Topic8\", \"Topic8\", \"Topic8\", \"Topic8\", \"Topic8\", \"Topic8\", \"Topic8\", \"Topic8\", \"Topic8\", \"Topic8\", \"Topic8\", \"Topic8\", \"Topic8\", \"Topic8\", \"Topic8\", \"Topic8\", \"Topic8\", \"Topic8\", \"Topic8\", \"Topic8\", \"Topic8\", \"Topic8\", \"Topic8\", \"Topic8\", \"Topic8\", \"Topic8\", \"Topic8\", \"Topic8\", \"Topic8\", \"Topic8\", \"Topic8\", \"Topic8\", \"Topic8\", \"Topic8\", \"Topic8\", \"Topic8\", \"Topic8\", \"Topic8\", \"Topic8\", \"Topic8\", \"Topic8\", \"Topic8\", \"Topic8\", \"Topic8\", \"Topic8\", \"Topic8\", \"Topic8\", \"Topic8\", \"Topic8\", \"Topic8\", \"Topic8\", \"Topic8\", \"Topic8\", \"Topic8\", \"Topic8\", \"Topic8\", \"Topic8\", \"Topic8\", \"Topic8\", \"Topic8\", \"Topic9\", \"Topic9\", \"Topic9\", \"Topic9\", \"Topic9\", \"Topic9\", \"Topic9\", \"Topic9\", \"Topic9\", \"Topic9\", \"Topic9\", \"Topic9\", \"Topic9\", \"Topic9\", \"Topic9\", \"Topic9\", \"Topic9\", \"Topic9\", \"Topic9\", \"Topic9\", \"Topic9\", \"Topic9\", \"Topic9\", \"Topic9\", \"Topic9\", \"Topic9\", \"Topic9\", \"Topic9\", \"Topic9\", \"Topic9\", \"Topic9\", \"Topic9\", \"Topic9\", \"Topic9\", \"Topic9\", \"Topic9\", \"Topic9\", \"Topic9\", \"Topic9\", \"Topic9\", \"Topic9\", \"Topic9\", \"Topic9\", \"Topic9\", \"Topic9\", \"Topic9\", \"Topic9\", \"Topic9\", \"Topic9\", \"Topic9\", \"Topic9\", \"Topic9\", \"Topic9\", \"Topic9\", \"Topic9\", \"Topic9\", \"Topic9\", \"Topic9\", \"Topic9\", \"Topic9\", \"Topic9\", \"Topic9\", \"Topic9\", \"Topic9\", \"Topic9\", \"Topic9\", \"Topic9\", \"Topic9\", \"Topic9\", \"Topic9\", \"Topic9\", \"Topic9\", \"Topic9\", \"Topic10\", \"Topic10\", \"Topic10\", \"Topic10\", \"Topic10\", \"Topic10\", \"Topic10\", \"Topic10\", \"Topic10\", \"Topic10\", \"Topic10\", \"Topic10\", \"Topic10\", \"Topic10\", \"Topic10\", \"Topic10\", \"Topic10\", \"Topic10\", \"Topic10\", \"Topic10\", \"Topic10\", \"Topic10\", \"Topic10\", \"Topic10\", \"Topic10\", \"Topic10\", \"Topic10\", \"Topic10\", \"Topic10\", \"Topic10\", \"Topic10\", \"Topic10\", \"Topic10\", \"Topic10\", \"Topic10\", \"Topic10\", \"Topic10\", \"Topic10\", \"Topic10\", \"Topic10\", \"Topic10\", \"Topic10\", \"Topic10\", \"Topic10\", \"Topic10\", \"Topic10\", \"Topic10\", \"Topic10\", \"Topic10\", \"Topic10\", \"Topic10\", \"Topic10\", \"Topic10\", \"Topic10\", \"Topic10\", \"Topic10\", \"Topic10\", \"Topic10\", \"Topic10\", \"Topic10\", \"Topic10\", \"Topic10\", \"Topic10\", \"Topic10\", \"Topic10\", \"Topic10\", \"Topic10\", \"Topic10\"], \"logprob\": [30.0, 29.0, 28.0, 27.0, 26.0, 25.0, 24.0, 23.0, 22.0, 21.0, 20.0, 19.0, 18.0, 17.0, 16.0, 15.0, 14.0, 13.0, 12.0, 11.0, 10.0, 9.0, 8.0, 7.0, 6.0, 5.0, 4.0, 3.0, 2.0, 1.0, -7.0329, -8.2517, -7.6925, -7.8339, -7.9787, -8.5819, -7.6615, -4.8049, -7.8734, -7.4095, -7.967, -8.4619, -6.3596, -8.5861, -8.8901, -4.6838, -5.5786, -6.0508, -8.3104, -7.3012, -8.0573, -7.7968, -8.6887, -5.1265, -8.0139, -7.8826, -6.3408, -7.8267, -8.4351, -8.371, -5.2861, -5.095, -6.6092, -5.4737, -6.0781, -5.1195, -4.9729, -7.1063, -5.6133, -6.8383, -5.1602, -5.0169, -5.2604, -5.2974, -5.4465, -6.1499, -5.3084, -5.5747, -6.2653, -5.7678, -5.2625, -5.2991, -6.4481, -6.0573, -5.4407, -5.5292, -5.93, -5.4806, -5.5878, -5.5815, -5.3982, -5.3528, -5.32, -5.3705, -5.4948, -5.6294, -5.5736, -6.4288, -7.8223, -7.8368, -7.8167, -8.1086, -7.8748, -7.88, -7.5265, -7.6967, -7.7247, -8.1701, -7.3063, -6.2017, -7.962, -6.6042, -7.7725, -8.501, -8.3081, -8.0676, -7.7934, -7.0908, -8.4594, -8.1587, -8.252, -8.3176, -8.2878, -8.5157, -7.8188, -8.1419, -7.7634, -5.5935, -5.4921, -6.104, -7.478, -7.6691, -5.441, -7.4288, -6.5761, -5.2047, -5.8278, -6.4566, -5.8324, -5.8351, -5.8201, -6.7689, -5.4711, -6.0247, -6.3011, -5.5023, -6.5193, -6.9323, -6.4594, -6.0314, -7.0885, -5.4745, -5.9372, -6.0059, -5.9052, -5.9212, -5.6834, -5.8892, -5.9569, -6.1428, -5.8828, -5.7643, -5.849, -6.023, -5.9151, -6.0721, -6.1013, -6.1021, -6.0464, -6.0736, -6.0687, -7.4232, -7.6415, -7.8575, -7.8259, -7.044, -8.1122, -7.496, -8.1077, -7.1595, -7.6859, -7.1891, -8.0573, -6.8626, -7.6091, -7.4044, -7.2717, -7.9012, -8.0671, -7.9089, -7.6532, -7.434, -7.562, -7.3856, -7.8746, -7.8287, -8.0848, -7.2426, -8.0094, -7.7655, -7.9291, -7.4512, -5.258, -7.085, -5.9064, -5.696, -4.6248, -5.7431, -4.9709, -6.6411, -6.887, -5.1516, -6.5701, -6.6256, -6.4829, -5.002, -5.8442, -6.605, -5.5307, -5.9635, -6.583, -5.4606, -6.0797, -5.881, -6.364, -6.5243, -5.3337, -6.0481, -6.2549, -5.6105, -5.539, -6.0338, -5.3812, -5.8109, -6.0646, -5.8824, -5.9151, -6.1254, -5.5957, -5.4844, -5.7503, -5.807, -5.9338, -5.9447, -5.7151, -5.6774, -5.8797, -5.7841, -5.8235, -5.8747, -5.8518, -5.8806, -5.9037, -7.756, -7.8669, -7.9508, -7.4555, -7.8627, -8.0031, -8.1544, -8.0364, -8.336, -7.4138, -7.4542, -7.2186, -8.3389, -6.9485, -7.6463, -7.8335, -8.0596, -7.8173, -8.0939, -7.9562, -7.7808, -7.9197, -7.8194, -6.2158, -7.4673, -7.2319, -7.3668, -8.0273, -7.9797, -7.5299, -7.2803, -5.3619, -6.2508, -4.9514, -5.2534, -4.9035, -4.5706, -7.2848, -5.6675, -5.6076, -5.5039, -6.4818, -5.1227, -7.2721, -5.9367, -7.138, -5.4185, -5.1873, -6.0, -5.9646, -5.3488, -6.0359, -5.9538, -5.7221, -6.036, -6.398, -6.1049, -5.9162, -5.6193, -5.7757, -6.1845, -6.2759, -5.7381, -5.8652, -5.8735, -5.8594, -5.8059, -5.9242, -5.9002, -5.9857, -5.9413, -5.9615, -5.9937, -6.8776, -5.6143, -6.9601, -6.3052, -6.7268, -7.6721, -7.6537, -7.8869, -7.8448, -6.6587, -7.6204, -7.8341, -8.0494, -3.6786, -6.8528, -6.1241, -6.4705, -5.0443, -5.0399, -7.2077, -6.8237, -7.6006, -8.1088, -7.1589, -6.9118, -7.8753, -5.3361, -5.686, -5.5244, -6.9179, -5.8286, -4.7728, -4.9741, -5.2618, -5.5119, -6.2925, -6.77, -6.185, -5.8912, -5.4073, -5.012, -4.9916, -5.2567, -6.4553, -5.9535, -5.1966, -6.1232, -5.6239, -6.0009, -5.477, -5.4355, -5.5132, -5.9653, -5.747, -5.8349, -5.712, -5.8896, -5.7496, -5.9174, -6.8515, -7.3657, -7.447, -7.2196, -7.6918, -7.6251, -7.2497, -8.1106, -7.8925, -5.4152, -6.795, -7.8281, -5.1748, -7.2558, -6.409, -7.6654, -6.5774, -7.1222, -7.2178, -7.7058, -6.9677, -6.6115, -7.3247, -7.5311, -7.5371, -7.4601, -8.1426, -7.6106, -7.7287, -6.8619, -4.2148, -6.4045, -6.0016, -4.0982, -5.6984, -4.0575, -4.4421, -4.4393, -7.0954, -5.5088, -6.5896, -5.5218, -6.9537, -5.0629, -5.452, -5.4001, -5.3755, -5.2652, -5.7242, -6.2226, -5.8214, -6.4545, -5.0299, -4.9279, -5.4001, -5.806, -5.653, -5.6261, -5.4898, -5.8034, -5.4618, -5.4912, -5.5386, -5.6926, -5.6858, -5.7498, -5.7378, -5.7905, -6.619, -7.0799, -7.0055, -6.9272, -7.6826, -7.7612, -7.7643, -7.253, -7.6056, -6.9034, -7.6562, -7.5678, -6.6688, -7.7, -7.6293, -6.8473, -7.1413, -7.3275, -6.5218, -7.2506, -6.5982, -7.2884, -7.8386, -7.9253, -8.2671, -7.4187, -7.6336, -7.653, -6.9517, -7.7362, -7.2192, -6.9948, -5.5328, -6.9542, -6.5764, -6.6265, -4.4599, -5.9038, -5.4999, -7.0822, -6.3184, -5.9792, -6.655, -7.034, -5.5596, -4.7255, -5.8555, -6.0363, -6.753, -5.5963, -6.3031, -5.4841, -4.7533, -6.1321, -5.5912, -6.3517, -6.5008, -6.501, -5.0321, -5.8048, -5.9964, -5.7955, -5.4127, -5.9963, -5.4414, -5.7953, -5.6959, -5.7163, -5.6036, -6.1533, -5.5475, -5.6936, -5.9314, -5.8019, -5.8252, -5.9544, -5.8984, -5.9444, -6.5219, -6.8608, -6.948, -7.0558, -6.8788, -7.2094, -5.3682, -7.377, -7.5431, -7.568, -7.1693, -7.6472, -7.8279, -7.5791, -7.8998, -7.9426, -6.9044, -7.7129, -7.6843, -7.4674, -7.2406, -7.8189, -7.2313, -7.6138, -7.2023, -7.0172, -8.252, -7.4821, -7.8345, -7.4671, -6.0777, -6.3754, -5.036, -5.9125, -5.0036, -6.4776, -6.82, -5.9102, -6.9065, -6.8176, -6.2346, -6.8638, -5.3829, -6.6343, -6.8173, -6.3674, -4.907, -5.8483, -5.9095, -4.8199, -4.7679, -6.3713, -5.6966, -5.3778, -6.1912, -5.9932, -6.0079, -6.5701, -5.2086, -6.2495, -6.2585, -6.5076, -5.6675, -5.8357, -6.0533, -6.304, -6.2425, -5.9745, -6.1535, -6.0502, -6.0627, -6.1481, -6.1747, -6.131, -6.2201, -6.8469, -6.7658, -7.3658, -6.7296, -7.5538, -7.5119, -7.6842, -7.7935, -7.3532, -7.6795, -7.0307, -7.2614, -7.8072, -7.9881, -6.5333, -6.3941, -7.1995, -6.8208, -6.9528, -7.6867, -7.7648, -7.8293, -7.4653, -7.6112, -5.7398, -7.43, -7.1294, -8.0403, -5.9531, -7.8432, -6.749, -5.9097, -4.792, -5.8407, -6.2968, -5.3108, -6.3424, -6.213, -6.5917, -6.1282, -6.9614, -6.9717, -5.2842, -5.916, -6.4461, -4.5524, -5.2159, -6.1725, -5.7855, -6.3671, -6.7203, -5.956, -5.39, -5.7466, -6.0824, -5.7647, -5.6484, -5.6288, -6.0349, -6.4441, -6.021, -6.3483, -5.7848, -5.4416, -5.6154, -5.6312, -5.9845, -5.7948, -5.8579, -5.9916, -5.9505, -6.0023, -6.0185, -5.837, -6.8637, -7.1112, -7.5833, -7.4938, -7.7308, -7.5416, -7.7782, -7.9506, -7.2719, -7.2851, -7.3726, -7.5195, -7.8518, -7.1549, -7.9924, -7.7409, -7.6933, -6.7736, -7.4797, -6.6009, -6.922, -6.9472, -7.0703, -5.7398, -7.0175, -6.8007, -7.1885, -7.0169, -6.6393, -5.6398, -6.5871, -6.1725, -5.0298, -4.5562, -6.4477, -5.8482, -5.6566, -5.6653, -6.4738, -6.6062, -6.0509, -6.5451, -5.2872, -5.4354, -5.747, -5.4009, -6.0709, -6.1744, -6.0345, -5.4107, -5.6279, -5.2445, -5.9675, -6.0002, -5.4666, -5.8117, -6.2093, -5.6769, -5.555, -5.7058, -5.7002, -5.6601, -5.7699, -5.8447, -5.8672, -5.9213, -6.0042], \"loglift\": [30.0, 29.0, 28.0, 27.0, 26.0, 25.0, 24.0, 23.0, 22.0, 21.0, 20.0, 19.0, 18.0, 17.0, 16.0, 15.0, 14.0, 13.0, 12.0, 11.0, 10.0, 9.0, 8.0, 7.0, 6.0, 5.0, 4.0, 3.0, 2.0, 1.0, 1.8652, 1.8602, 1.8476, 1.8289, 1.7961, 1.7462, 1.741, 1.7301, 1.7196, 1.7122, 1.7083, 1.6947, 1.6876, 1.6696, 1.6597, 1.6428, 1.6373, 1.6373, 1.6368, 1.6241, 1.6152, 1.6077, 1.604, 1.6011, 1.5998, 1.5998, 1.5985, 1.5935, 1.5901, 1.5897, 1.583, 1.5676, 1.5619, 1.5023, 1.5255, 1.4604, 1.4377, 1.5635, 1.4664, 1.5406, 1.3508, 1.33, 1.3463, 1.347, 1.3423, 1.4285, 1.2791, 1.3055, 1.4352, 1.3252, 1.2079, 1.202, 1.4626, 1.342, 1.1085, 1.0877, 1.2605, 1.0175, 1.0742, 1.0672, 0.944, 0.8992, 0.8361, 0.8525, 0.9074, 1.0618, 0.8152, 2.0791, 2.0786, 2.0784, 2.0769, 2.0759, 2.0734, 2.0734, 2.0733, 2.0704, 2.0695, 2.0667, 2.0601, 2.0593, 2.0533, 2.0473, 2.0443, 2.0424, 2.0282, 2.0267, 2.0243, 2.0096, 2.0089, 1.9938, 1.9854, 1.9807, 1.9584, 1.9414, 1.9411, 1.9401, 1.9251, 1.8646, 1.8226, 1.8523, 1.9036, 1.9163, 1.5233, 1.8448, 1.6819, 1.3841, 1.4573, 1.6021, 1.4171, 1.4056, 1.3985, 1.6519, 1.2589, 1.4252, 1.5007, 1.1413, 1.5285, 1.6596, 1.4418, 1.2248, 1.7037, 0.8539, 1.0983, 1.065, 0.9435, 0.914, 0.6905, 0.7766, 0.7932, 0.9754, 0.6283, 0.46, 0.5339, 0.7839, 0.5493, 0.8431, 0.7197, 0.7003, 0.2572, 0.4098, 0.2327, 2.1165, 2.1158, 2.1151, 2.1149, 2.1134, 2.1132, 2.1119, 2.1115, 2.1111, 2.1104, 2.1079, 2.1014, 2.0969, 2.0968, 2.0962, 2.0923, 2.0886, 2.0828, 2.0811, 2.081, 2.0752, 2.0716, 2.0696, 2.0636, 2.0619, 2.0599, 2.0484, 2.047, 2.0409, 2.0383, 2.0169, 1.862, 1.9867, 1.8207, 1.7921, 1.5596, 1.7253, 1.5741, 1.8629, 1.9054, 1.5707, 1.8377, 1.8421, 1.8064, 1.4482, 1.6448, 1.813, 1.4391, 1.5576, 1.7454, 1.3332, 1.5514, 1.4432, 1.6366, 1.6568, 1.0364, 1.4049, 1.516, 1.1366, 1.0368, 1.3572, 0.8878, 1.1809, 1.3619, 1.1424, 1.165, 1.3623, 0.794, 0.636, 0.9339, 0.9727, 1.1072, 1.1164, 0.7717, 0.6496, 0.9853, 0.714, 0.6554, 0.8491, 0.6117, 0.3819, 0.6344, 2.1314, 2.1307, 2.1301, 2.1299, 2.1297, 2.1289, 2.1279, 2.126, 2.1219, 2.1183, 2.1172, 2.1149, 2.1127, 2.1108, 2.1094, 2.1011, 2.097, 2.0967, 2.0959, 2.0632, 2.0543, 2.0488, 2.0488, 2.0419, 2.0365, 2.0357, 2.0332, 2.0309, 2.0212, 2.0187, 1.9934, 1.8824, 1.9347, 1.8481, 1.7784, 1.7092, 1.5958, 1.9581, 1.6157, 1.5905, 1.5648, 1.7649, 1.3995, 1.9373, 1.5283, 1.8916, 1.3422, 1.1194, 1.3818, 1.2564, 0.8772, 1.1361, 1.0819, 0.9232, 1.1092, 1.3434, 1.1132, 0.9487, 0.7147, 0.7716, 1.0631, 1.1486, 0.5633, 0.702, 0.7093, 0.6114, 0.4963, 0.5615, 0.4034, 0.7382, 0.4475, 0.5254, 0.6541, 2.3676, 2.3668, 2.3663, 2.3635, 2.363, 2.3608, 2.359, 2.3586, 2.3541, 2.353, 2.3474, 2.3412, 2.3399, 2.3314, 2.3264, 2.3215, 2.3196, 2.3134, 2.3063, 2.306, 2.2956, 2.2951, 2.2677, 2.2585, 2.2559, 2.2548, 2.2512, 2.2408, 2.2324, 2.2227, 2.2027, 2.1606, 2.1653, 2.167, 2.1686, 2.1107, 2.188, 2.0641, 1.9894, 1.8141, 1.6176, 1.5313, 1.5884, 2.0312, 1.7795, 1.3035, 1.812, 1.438, 1.7079, 1.2129, 1.1534, 1.0406, 1.5458, 1.0882, 1.236, 0.8609, 1.3069, 0.4748, 1.0944, 2.5216, 2.5191, 2.5165, 2.5139, 2.5102, 2.5099, 2.5087, 2.5071, 2.5013, 2.4916, 2.4914, 2.4873, 2.4836, 2.4683, 2.4482, 2.436, 2.4356, 2.4325, 2.4321, 2.4164, 2.4088, 2.4073, 2.4011, 2.3989, 2.396, 2.38, 2.3742, 2.3642, 2.3604, 2.3582, 2.3528, 2.3563, 2.3219, 2.2014, 2.2857, 2.0629, 2.0716, 1.9307, 2.3402, 2.0514, 2.2457, 2.0016, 2.3058, 1.7764, 1.8467, 1.828, 1.806, 1.6834, 1.8495, 2.0497, 1.7855, 2.0988, 1.3123, 1.2282, 1.4122, 1.6312, 1.4996, 1.415, 1.2324, 1.5209, 1.114, 1.1264, 0.9773, 0.8933, 0.6125, 0.9414, 0.7632, 0.8426, 2.5271, 2.5268, 2.5268, 2.5238, 2.5234, 2.5229, 2.5226, 2.5221, 2.5218, 2.5217, 2.5183, 2.5178, 2.5167, 2.5165, 2.5132, 2.5128, 2.51, 2.5006, 2.4941, 2.4939, 2.4877, 2.487, 2.4869, 2.4825, 2.4822, 2.4796, 2.477, 2.4769, 2.4724, 2.4666, 2.4638, 2.4568, 2.417, 2.4513, 2.4246, 2.4212, 2.1803, 2.3209, 2.2672, 2.4411, 2.304, 2.2304, 2.3431, 2.4097, 2.1, 1.9076, 2.1377, 2.1725, 2.3411, 1.9687, 2.185, 1.866, 1.5535, 2.0912, 1.7906, 2.1043, 2.1714, 2.1662, 1.1343, 1.6497, 1.7597, 1.576, 1.2327, 1.7308, 1.0808, 1.3007, 1.1406, 1.1572, 0.9193, 1.7763, 0.7548, 0.9191, 1.2225, 0.7896, 0.7923, 1.0582, 0.2578, 0.3863, 2.5375, 2.5367, 2.5364, 2.536, 2.536, 2.5355, 2.5343, 2.5342, 2.5335, 2.5332, 2.5328, 2.5327, 2.5312, 2.5311, 2.5305, 2.5301, 2.5297, 2.5297, 2.5295, 2.5294, 2.5286, 2.5268, 2.5244, 2.5218, 2.5214, 2.52, 2.5192, 2.5119, 2.4983, 2.4954, 2.4767, 2.4758, 2.4391, 2.4609, 2.4086, 2.467, 2.4828, 2.4102, 2.4738, 2.4495, 2.3904, 2.4467, 2.2792, 2.391, 2.4154, 2.336, 2.0415, 2.2303, 2.1971, 1.8336, 1.806, 2.2421, 1.8555, 1.617, 2.0445, 1.9168, 1.902, 2.2613, 1.1873, 1.8989, 1.8347, 2.0793, 0.8836, 1.0239, 1.2519, 1.7071, 1.5104, 0.5793, 1.1964, 0.6249, 0.6612, 1.0513, 0.8872, 0.4163, 1.1605, 2.5664, 2.5659, 2.5647, 2.5634, 2.5634, 2.5628, 2.5618, 2.5614, 2.5609, 2.5593, 2.5593, 2.5592, 2.5567, 2.5552, 2.5541, 2.5534, 2.5502, 2.5463, 2.5443, 2.5437, 2.5389, 2.5332, 2.5235, 2.5222, 2.516, 2.4989, 2.4894, 2.479, 2.475, 2.4687, 2.4565, 2.4353, 2.3448, 2.3349, 2.3768, 2.2566, 2.3781, 2.3489, 2.3888, 2.306, 2.4351, 2.4347, 2.0963, 2.205, 2.3128, 1.8435, 1.9835, 2.2317, 2.0731, 2.2339, 2.3539, 2.0494, 1.7112, 1.8614, 2.0473, 1.8515, 1.5675, 1.5111, 1.7733, 2.2156, 1.7076, 2.1026, 1.3166, 0.8209, 0.9957, 0.5948, 1.3404, 0.7433, 0.8172, 0.6505, 0.2738, 0.4845, 0.4459, 2.5853, 2.5843, 2.581, 2.5807, 2.5805, 2.5799, 2.5782, 2.5781, 2.5773, 2.5757, 2.5755, 2.5753, 2.574, 2.5731, 2.5679, 2.5671, 2.5559, 2.5536, 2.5448, 2.5369, 2.5295, 2.5232, 2.5227, 2.5164, 2.5133, 2.512, 2.5074, 2.5052, 2.4997, 2.4996, 2.4787, 2.4934, 2.4686, 2.3553, 2.2908, 2.4356, 2.3736, 2.3279, 2.2889, 2.3957, 2.406, 2.2996, 2.3871, 2.0253, 2.0419, 2.1134, 1.9945, 2.1306, 2.1621, 2.0345, 1.6332, 1.5936, 1.3028, 1.8088, 1.7809, 1.1868, 1.5196, 1.9341, 1.2261, 0.9376, 0.9386, 0.8727, 0.496, 0.5572, 0.6012, 0.4311, 0.4809, 0.5523]}, \"token.table\": {\"Topic\": [5, 8, 2, 4, 5, 8, 9, 1, 2, 3, 4, 5, 7, 8, 9, 10, 1, 2, 3, 4, 5, 6, 7, 8, 9, 10, 1, 2, 3, 4, 5, 6, 7, 8, 9, 8, 2, 3, 4, 5, 6, 7, 8, 9, 10, 3, 6, 7, 8, 9, 10, 8, 2, 3, 4, 5, 6, 7, 9, 10, 1, 2, 3, 4, 5, 6, 7, 8, 9, 10, 1, 2, 4, 5, 6, 7, 9, 10, 1, 2, 3, 4, 5, 6, 7, 8, 9, 10, 1, 2, 3, 4, 5, 6, 7, 8, 9, 10, 1, 2, 3, 4, 5, 6, 7, 8, 9, 10, 8, 1, 2, 3, 4, 5, 6, 7, 8, 9, 10, 1, 2, 3, 4, 6, 7, 8, 1, 2, 3, 4, 5, 6, 7, 8, 9, 10, 7, 3, 6, 9, 1, 2, 3, 4, 5, 6, 7, 8, 9, 10, 7, 6, 8, 10, 1, 2, 3, 4, 5, 6, 7, 8, 9, 10, 2, 5, 7, 5, 1, 4, 7, 9, 1, 2, 3, 4, 5, 6, 7, 8, 9, 10, 1, 3, 6, 8, 1, 2, 3, 4, 5, 7, 8, 9, 10, 2, 8, 8, 1, 2, 4, 5, 6, 7, 8, 10, 4, 10, 1, 5, 7, 9, 1, 2, 3, 4, 5, 6, 7, 8, 9, 10, 1, 6, 2, 3, 4, 5, 6, 7, 8, 9, 1, 2, 4, 9, 1, 2, 3, 4, 5, 6, 7, 8, 9, 10, 1, 2, 3, 4, 5, 6, 7, 8, 9, 10, 1, 2, 3, 4, 5, 6, 7, 8, 9, 10, 1, 2, 3, 4, 5, 6, 7, 8, 9, 10, 7, 8, 1, 2, 3, 4, 5, 6, 7, 8, 9, 10, 1, 10, 3, 7, 9, 10, 2, 3, 6, 1, 2, 3, 4, 5, 6, 7, 8, 9, 10, 1, 2, 5, 6, 7, 8, 9, 3, 7, 1, 2, 3, 4, 5, 6, 7, 8, 9, 10, 1, 2, 3, 4, 5, 6, 7, 8, 9, 10, 4, 5, 3, 6, 2, 3, 4, 5, 6, 1, 2, 3, 4, 5, 6, 7, 8, 9, 10, 1, 2, 3, 4, 5, 6, 7, 8, 9, 10, 2, 4, 5, 8, 10, 2, 4, 5, 6, 9, 1, 2, 3, 4, 5, 6, 7, 8, 9, 10, 1, 2, 3, 4, 5, 6, 7, 8, 9, 10, 1, 2, 3, 4, 5, 6, 7, 8, 9, 10, 3, 5, 3, 10, 10, 1, 2, 3, 4, 8, 1, 2, 3, 4, 6, 7, 9, 10, 1, 2, 3, 4, 5, 6, 7, 8, 9, 10, 1, 2, 3, 4, 5, 6, 7, 8, 9, 10, 1, 2, 3, 4, 5, 6, 7, 8, 9, 10, 1, 2, 3, 4, 5, 6, 7, 8, 9, 10, 4, 6, 2, 7, 1, 2, 3, 4, 5, 6, 7, 8, 9, 10, 1, 3, 4, 6, 8, 9, 6, 1, 4, 6, 8, 1, 2, 3, 4, 5, 6, 7, 8, 9, 10, 1, 2, 3, 4, 5, 6, 7, 8, 9, 10, 3, 4, 6, 7, 2, 4, 6, 7, 10, 2, 3, 3, 5, 6, 10, 1, 2, 5, 1, 2, 3, 4, 5, 6, 7, 8, 9, 10, 2, 3, 7, 1, 2, 3, 4, 5, 6, 7, 8, 9, 10, 2, 3, 8, 8, 10, 2, 3, 5, 5, 9, 3, 4, 6, 7, 8, 9, 10, 1, 2, 3, 4, 5, 6, 7, 8, 9, 10, 3, 9, 3, 5, 7, 8, 1, 2, 3, 4, 5, 6, 7, 8, 9, 10, 1, 5, 1, 4, 9, 10, 1, 2, 3, 4, 5, 6, 7, 8, 9, 10, 2, 3, 7, 8, 10, 1, 2, 3, 5, 6, 7, 8, 9, 10, 1, 2, 3, 4, 5, 6, 7, 8, 9, 10, 3, 9, 1, 2, 3, 4, 5, 6, 7, 8, 9, 10, 2, 3, 4, 8, 9, 10, 1, 2, 3, 4, 5, 6, 7, 9, 10, 1, 2, 3, 5, 6, 7, 10, 1, 2, 3, 4, 5, 6, 7, 8, 9, 10, 2, 3, 4, 5, 6, 7, 8, 9, 10, 1, 2, 3, 4, 5, 6, 7, 8, 9, 10, 1, 2, 3, 4, 5, 6, 7, 8, 9, 10, 7, 8, 7, 5, 8, 1, 2, 3, 4, 5, 6, 7, 8, 9, 10, 1, 9, 1, 2, 3, 4, 5, 6, 7, 8, 9, 10, 9, 10, 1, 2, 3, 4, 5, 6, 7, 8, 9, 10, 5, 6, 9, 3, 4, 1, 6, 9, 5, 6, 1, 2, 3, 4, 5, 6, 7, 8, 9, 10, 1, 2, 3, 4, 5, 6, 7, 8, 9, 10, 1, 2, 3, 4, 5, 6, 7, 8, 9, 10, 1, 2, 3, 4, 5, 6, 7, 8, 9, 10, 1, 2, 3, 4, 5, 6, 7, 8, 9, 10, 1, 2, 3, 4, 5, 6, 7, 8, 9, 10, 2, 6, 8, 1, 2, 3, 4, 5, 6, 7, 9, 10, 1, 2, 3, 4, 5, 6, 7, 8, 9, 10, 1, 2, 3, 4, 5, 6, 7, 8, 9, 10, 4, 5, 6, 8, 1, 2, 4, 5, 8, 10, 1, 2, 3, 4, 6, 7, 8, 9, 10, 3, 5, 6, 1, 10, 6, 9, 4, 6, 1, 2, 3, 4, 5, 6, 7, 8, 9, 10, 1, 9, 1, 2, 3, 4, 5, 6, 7, 8, 9, 10, 1, 2, 3, 4, 5, 6, 7, 8, 9, 10, 2, 3, 4, 5, 6, 7, 8, 10, 1, 2, 3, 4, 5, 6, 7, 8, 9, 10, 1, 2, 3, 4, 5, 6, 7, 8, 9, 10, 2, 7, 8, 1, 2, 3, 4, 5, 6, 7, 8, 9, 10, 9, 1, 2, 3, 4, 5, 6, 7, 8, 9, 10, 1, 2, 3, 5, 6, 7, 10, 9, 1, 2, 3, 4, 5, 6, 7, 8, 9, 10, 1, 2, 3, 4, 5, 6, 7, 8, 9, 10, 2, 3, 7, 4, 1, 4, 7, 1, 2, 3, 4, 5, 6, 7, 8, 9, 10, 4, 5, 7, 1, 6, 7, 10, 1, 4, 6, 7, 10, 1, 2, 3, 4, 5, 6, 7, 8, 9, 10, 1, 3, 4, 5, 6, 7, 8, 9, 10, 1, 2, 3, 4, 7, 8, 9, 10, 2, 5, 6, 8, 10, 1, 2, 3, 4, 7, 8, 9, 10, 1, 2, 3, 4, 5, 6, 7, 8, 9, 10, 4, 2, 7, 5, 6, 1, 2, 3, 4, 5, 6, 7, 8, 9, 10, 1, 4, 7, 10, 1, 2, 10, 1, 2, 5, 6, 7, 8, 9, 10, 3, 4, 6, 7, 2, 3, 1, 2, 4, 8, 9, 1, 2, 3, 4, 5, 6, 7, 8, 9, 10, 2, 8, 8, 1, 3, 7, 10, 7, 8, 9, 1, 2, 3, 4, 5, 6, 7, 8, 9, 9, 1, 2, 3, 4, 5, 6, 7, 8, 9, 10, 5, 9, 10, 1, 2, 3, 4, 5, 6, 7, 8, 9, 10, 1, 2, 3, 4, 5, 6, 7, 8, 9, 10, 1, 2, 3, 4, 5, 6, 7, 8, 9, 10, 1, 2, 3, 4, 5, 6, 7, 8, 9, 10, 1, 2, 3, 4, 5, 6, 7, 8, 9, 10, 3, 4, 10, 3, 1, 2, 3, 4, 5, 6, 7, 8, 9, 10, 8, 7, 1, 2, 3, 4, 5, 6, 7, 8, 9, 10, 1, 2, 3, 4, 5, 6, 7, 8, 9, 10, 1, 2, 3, 4, 5, 6, 7, 8, 9, 10, 1, 5, 8, 1, 4, 1, 2, 3, 4, 5, 6, 7, 8, 9, 10, 1, 2, 3, 4, 5, 6, 7, 8, 9, 10, 1, 2, 3, 4, 5, 6, 7, 8, 9, 10, 1, 2, 3, 4, 5, 6, 7, 8, 9, 10, 2, 10, 2, 3, 4, 7, 9, 1, 2, 3, 4, 5, 6, 7, 8, 9, 10, 1, 2, 3, 4, 5, 6, 7, 8, 9, 10, 3, 4, 1, 2, 3, 4, 5, 6, 7, 8, 9, 10, 2, 5, 8, 1, 2, 3, 4, 5, 6, 7, 8, 9, 10, 1, 2, 3, 4, 5, 6, 7, 8, 9, 10, 2, 3, 1, 2, 3, 4, 5, 6, 7, 8, 9, 10, 1, 2, 3, 4, 8, 9, 10, 4, 7, 8, 10, 3, 1, 2, 3, 4, 5, 6, 7, 8, 9, 10, 4, 6, 8, 9, 1, 2, 3, 4, 5, 7, 8, 9, 10, 1, 2, 3, 4, 5, 6, 7, 8, 9, 10, 1, 2, 3, 4, 5, 6, 7, 8, 9, 1, 2, 1, 2, 3, 4, 5, 6, 7, 8, 9, 10, 5, 5, 6, 7, 1, 2, 4, 1, 2, 3, 4, 5, 6, 7, 8, 9, 1, 2, 4, 5, 8, 9, 6, 10, 7, 10, 5, 10, 4, 6, 8, 9, 1, 2, 3, 4, 5, 6, 7, 9, 10, 1, 2, 3, 4, 5, 6, 7, 8, 9, 10, 10, 1, 2, 3, 4, 5, 6, 7, 8, 9, 10, 1, 2, 3, 4, 5, 7, 8, 9, 10, 1, 2, 3, 4, 5, 6, 7, 8, 9, 10, 1, 2, 3, 4, 5, 6, 7, 8, 9, 10, 2, 5, 6, 9, 1, 2, 3, 4, 5, 6, 7, 8, 9, 10, 1, 2, 3, 4, 5, 6, 7, 8, 9, 10, 2, 5, 10, 1, 2, 3, 4, 5, 6, 7, 8, 9, 10, 1, 2, 3, 4, 5, 6, 7, 8, 9, 10, 1, 2, 3, 4, 5, 6, 7, 8, 9, 10, 4, 8, 10, 5, 6, 10, 1, 2, 4, 5, 6, 9, 10, 1, 2, 5, 10, 1, 2, 3, 4, 5, 6, 7, 8, 9, 10, 4, 5, 10, 1, 2, 3, 4, 5, 6, 7, 8, 9, 10, 2, 4, 5, 1, 3, 4, 5, 7, 8, 9, 1, 2, 3, 4, 5, 6, 7, 8, 9, 10, 1, 2, 3, 4, 5, 6, 7, 8, 9, 10, 1, 5, 6, 4, 5, 2, 6, 7, 1, 2, 3, 4, 5, 6, 7, 8, 9, 10, 1, 2, 3, 4, 5, 6, 7, 8, 9, 10, 2, 3, 4, 5, 6, 7, 8, 9, 10, 1, 2, 3, 4, 5, 6, 7, 8, 9, 10, 1, 2, 3, 4, 5, 6, 7, 8, 9, 10, 1, 2, 3, 4, 5, 6, 7, 8, 9, 10, 1, 2, 3, 10, 2, 6, 7, 1, 2, 3, 4, 5, 6, 7, 8, 9, 10, 1, 2, 3, 4, 5, 6, 7, 8, 9, 10, 1, 2, 3, 4, 5, 6, 7, 8, 9, 10, 1, 2, 3, 4, 5, 6, 7, 8, 9, 10, 1, 2, 3, 4, 5, 6, 7, 8, 9, 10, 2, 3, 4, 7, 9, 1, 2, 3, 4, 5, 6, 7, 8, 9, 10, 2, 3, 1, 2, 3, 4, 5, 6, 7, 8, 9, 10, 8, 7, 10, 2, 3, 4, 8, 9, 10, 1, 2, 3, 4, 5, 6, 7, 8, 9, 10, 1, 2, 4, 5, 7, 8, 10, 1, 2, 3, 4, 5, 6, 7, 8, 9, 10, 1, 2, 3, 4, 5, 6, 7, 8, 9, 10, 1, 2, 3, 4, 5, 6, 7, 8, 9, 10, 1, 2, 3, 4, 5, 6, 7, 8, 9, 10, 1, 2, 3, 4, 5, 6, 7, 8, 9, 10, 1, 2, 3, 4, 5, 6, 7, 8, 9, 10, 2, 4, 5, 6, 1, 2, 3, 4, 5, 6, 7, 8, 9, 10, 1, 2, 3, 4, 5, 6, 7, 8, 9, 10, 1, 2, 3, 4, 5, 7, 8, 9, 10, 1, 2, 3, 4, 5, 6, 7, 8, 9, 10, 1, 2, 3, 4, 5, 6, 7, 8, 9, 10, 2, 3, 4, 8, 10, 3, 4, 8, 8, 1, 2, 3, 4, 5, 6, 7, 8, 9, 10, 1, 2, 4, 5, 6, 7, 8, 9, 10, 1, 2, 3, 4, 5, 6, 7, 8, 9, 10, 1, 2, 3, 4, 5, 6, 7, 8, 9, 10, 1, 2, 3, 4, 5, 6, 7, 8, 9, 10, 1, 2, 3, 4, 5, 6, 7, 8, 9, 10, 4, 6, 9, 10, 4, 1, 2, 3, 4, 5, 6, 7, 8, 9, 10, 1, 2, 3, 4, 5, 6, 7, 8, 9, 10, 1, 2, 3, 4, 5, 6, 7, 8, 9, 10, 1, 2, 3, 4, 5, 6, 7, 8, 9, 10, 4, 9, 9, 8, 2, 3, 7, 10, 4, 5, 7, 8, 9, 10, 1, 6, 7, 8, 1, 2, 3, 4, 5, 6, 7, 8, 9, 10, 1, 2, 3, 4, 5, 6, 7, 8, 9, 10, 1, 2, 3, 4, 5, 6, 7, 8, 9, 10, 2, 3, 4, 6, 8, 9, 10, 1, 4, 8, 9, 10, 8, 4, 6, 8, 9, 1, 2, 3, 4, 5, 6, 7, 8, 9, 10, 4, 8, 6, 9, 1, 2, 3, 4, 5, 6, 7, 8, 9, 10, 8, 1, 2, 3, 4, 5, 6, 7, 8, 9, 10, 8, 1, 2, 3, 4, 5, 6, 7, 8, 9, 10, 1, 2, 3, 4, 5, 6, 7, 8, 9, 10, 9, 3, 9, 6, 9, 2, 3, 1, 2, 5, 6, 8, 9, 10, 1, 2, 3, 4, 5, 6, 7, 8, 9, 10, 4, 7, 9, 3, 4, 6, 7, 8, 1, 6, 1, 2, 3, 5, 8, 6, 9, 1, 2, 3, 4, 6, 9, 4, 7, 1, 2, 3, 4, 5, 6, 7, 8, 9, 10, 2, 4, 3, 4, 1, 2, 3, 4, 5, 6, 7, 8, 9, 1, 2, 3, 4, 5, 6, 7, 8, 9, 10, 2, 5, 6, 7, 9, 6, 7, 9, 1, 2, 3, 4, 5, 6, 7, 8, 9, 10, 1, 3, 4, 7, 7, 1, 2, 3, 4, 5, 6, 7, 8, 9, 10, 2, 3, 4, 6, 7, 8, 9, 1, 4, 7, 8, 10, 8, 10, 1, 2, 3, 4, 5, 6, 7, 8, 9, 10, 1, 2, 3, 4, 5, 6, 7, 10, 3, 4, 1, 2, 3, 4, 5, 6, 7, 8, 9, 10, 1, 2, 3, 4, 5, 6, 7, 8, 9, 10, 1, 2, 3, 4, 5, 6, 7, 8, 9, 10, 3, 4, 9, 1, 2, 3, 4, 5, 6, 7, 8, 9, 10, 2, 4, 5, 6, 8, 9, 10, 6, 7, 1, 2, 3, 4, 5, 6, 7, 8, 9, 10, 1, 2, 6, 1, 2, 3, 4, 5, 6, 7, 8, 9, 10, 4, 4, 5, 9, 9, 1, 2, 3, 4, 5, 6, 7, 8, 9, 10, 9, 10, 8, 1, 2, 3, 4, 5, 6, 7, 8, 9, 10, 1, 2, 3, 4, 5, 6, 7, 8, 9, 10, 10, 1, 2, 4, 5, 6, 10, 1, 2, 4, 5, 6, 7, 8, 9, 10, 1, 2, 3, 4, 5, 6, 7, 8, 9, 10, 3, 4, 1, 2, 3, 4, 5, 6, 7, 8, 9, 10, 1, 5, 8, 10, 6, 1, 2, 3, 4, 5, 6, 7, 8, 9, 10, 2, 3, 8, 1, 2, 3, 4, 5, 6, 7, 8, 9, 10, 1, 2, 4, 6, 7, 9, 1, 2, 3, 4, 5, 6, 7, 8, 9, 10, 3, 4, 1, 2, 3, 4, 5, 6, 7, 8, 9, 10, 1, 2, 3, 4, 5, 6, 7, 8, 9, 10, 2, 3, 4, 7, 8, 9, 10, 3, 6, 10, 4, 6, 9, 1, 2, 3, 4, 5, 6, 7, 8, 9, 10, 1, 2, 3, 4, 5, 6, 7, 8, 9, 10, 5, 6, 3, 5, 8, 8, 2, 3, 4, 5, 6, 7, 8, 9, 1, 2, 3, 4, 5, 6, 7, 8, 9, 10, 2, 6, 7, 1, 2, 3, 4, 5, 6, 7, 8, 9, 1, 2, 5, 6, 8, 9, 1, 2, 3, 4, 5, 6, 7, 8, 9, 10, 1, 2, 3, 4, 5, 6, 7, 8, 9, 10, 1, 2, 3, 4, 5, 6, 7, 8, 9, 10, 1, 2, 3, 4, 5, 6, 7, 8, 9, 10, 3, 4, 5, 6, 8, 1, 2, 3, 4, 5, 6, 7, 8, 9, 10, 1, 3, 5, 6, 8, 10, 3, 8, 1, 2, 3, 4, 5, 6, 7, 8, 9, 10, 1, 2, 3, 4, 5, 6, 7, 8, 9, 10, 1, 2, 3, 4, 5, 6, 7, 8, 9, 10, 2, 3, 4, 5, 7, 8, 9, 10, 1, 2, 3, 4, 5, 6, 7, 8, 9, 10, 5, 9, 10, 1, 2, 3, 4, 5, 6, 7, 8, 9, 10, 7, 9, 2, 3, 7, 2, 4, 1, 2, 3, 4, 5, 6, 7, 8, 9, 10, 2, 3, 8, 9, 1, 2, 3, 4, 5, 6, 7, 8, 9, 10, 2, 9, 8, 1, 2, 3, 4, 5, 6, 7, 8, 9, 10, 1, 2, 3, 4, 5, 6, 7, 8, 9, 10, 1, 2, 3, 4, 5, 6, 7, 8, 10, 2, 1, 2, 3, 4, 5, 6, 7, 8, 9, 10, 1, 2, 3, 4, 5, 6, 7, 8, 9, 10, 1, 2, 3, 4, 5, 6, 7, 8, 9, 10, 1, 2, 3, 4, 5, 6, 7, 8, 9, 10, 2, 3, 9, 1, 2, 3, 4, 5, 6, 7, 8, 9, 10, 4, 5, 6, 7, 8, 9, 10, 1, 3, 4, 5, 6, 7, 8, 9, 1, 2, 3, 4, 5, 6, 7, 8, 9, 10, 1, 2, 3, 4, 5, 6, 7, 8, 9, 10, 1, 2, 3, 4, 5, 6, 7, 8, 9, 10, 5, 8, 9, 1, 2, 3, 4, 5, 7, 8, 9, 10, 4, 8, 9, 1, 2, 3, 4, 5, 6, 7, 8, 9, 10, 2, 3, 4, 7, 8, 9, 10, 4, 6, 7, 8, 10, 5, 10, 2, 3, 6, 10, 4, 2, 3, 2, 6, 8, 9, 4, 5, 1, 2, 3, 4, 5, 6, 7, 8, 9, 10, 1, 3, 7, 8, 9, 10, 1, 2, 3, 4, 5, 6, 7, 8, 9, 10, 10, 1, 2, 3, 4, 5, 6, 7, 8, 9, 10, 1, 2, 3, 4, 5, 6, 7, 8, 9, 10, 1, 2, 3, 4, 5, 6, 7, 8, 9, 10, 1, 2, 3, 4, 5, 6, 7, 8, 9, 10, 1, 2, 3, 4, 5, 6, 7, 8, 9, 10, 1, 2, 3, 4, 5, 6, 7, 8, 9, 10, 3, 9, 3, 5, 7, 8, 1, 2, 3, 4, 5, 6, 7, 8, 9, 10, 2, 5, 6, 1, 2, 3, 4, 5, 6, 7, 8, 9, 10, 2, 3, 4, 9, 1, 2, 3, 4, 5, 6, 7, 8, 9, 10, 1, 6, 10, 1, 2, 3, 4, 5, 6, 7, 8, 9, 10, 1, 3, 5, 6, 7, 8, 9, 10, 1, 2, 3, 4, 5, 6, 7, 8, 9, 10, 3, 8, 9, 1, 2, 3, 4, 5, 6, 8, 9, 10, 1, 2, 3, 5, 6, 7, 9, 10, 4, 8, 7, 2, 4, 5, 7, 9, 4, 1, 2, 3, 4, 5, 6, 7, 9, 10, 1, 2, 3, 4, 5, 6, 7, 8, 9, 10, 1, 2, 3, 5, 1, 2, 3, 4, 5, 6, 7, 8, 9, 10, 1, 2, 3, 4, 5, 6, 7, 8, 9, 10, 2, 3, 4, 5, 6, 7, 8, 9, 10, 1, 2, 3, 4, 5, 6, 7, 8, 9, 10, 3, 4, 8, 10, 1, 2, 3, 4, 5, 6, 7, 8, 9, 10, 1, 2, 3, 4, 5, 6, 7, 8, 9, 10, 4, 1, 1, 2, 3, 4, 5, 6, 7, 8, 9, 10, 1, 2, 3, 4, 5, 6, 7, 8, 10, 1, 2, 3, 4, 5, 6, 7, 8, 9, 10, 6, 7, 10, 1, 2, 3, 4, 5, 6, 7, 8, 9, 10, 1, 2, 3, 4, 5, 6, 7, 8, 9, 10, 2, 4, 5, 7, 1, 2, 3, 4, 5, 6, 7, 8, 9, 10, 1, 2, 3, 4, 5, 6, 7, 8, 9, 10, 1, 2, 3, 4, 5, 6, 7, 8, 9, 10, 1, 2, 3, 4, 5, 6, 7, 8, 9, 10, 1, 2, 3, 4, 5, 6, 7, 8, 9, 10, 4, 8, 1, 2, 3, 4, 5, 6, 7, 8, 9, 10, 1, 2, 3, 4, 5, 6, 7, 8, 9, 10, 1, 2, 3, 4, 5, 6, 7, 8, 9, 10, 8, 1, 3, 3, 4, 1, 2, 3, 4, 5, 6, 7, 8, 9, 10, 1, 2, 3, 4, 5, 6, 7, 8, 9, 10, 1, 2, 3, 4, 5, 6, 7, 8, 9, 10, 1, 2, 3, 4, 5, 6, 7, 8, 9, 10, 2, 7, 2, 5, 10, 4, 8, 10, 7, 10, 4, 5, 7, 1, 2, 3, 4, 5, 6, 7, 8, 9, 10, 1, 2, 3, 4, 5, 6, 7, 8, 9, 10, 1, 2, 3, 4, 5, 6, 7, 8, 9, 10, 10, 1, 2, 3, 4, 5, 6, 7, 8, 9, 10, 1, 2, 3, 4, 5, 6, 7, 8, 9, 10, 6, 10, 3, 8, 9, 1, 2, 3, 4, 5, 6, 7, 8, 9, 10, 5, 8, 1, 2, 5, 6, 7, 10, 2, 4, 5, 7, 1, 2, 3, 4, 5, 6, 7, 8, 9, 10, 10, 8, 3, 4, 5, 7, 2, 4, 5, 7, 8, 1, 2, 3, 4, 5, 6, 7, 8, 9, 10, 6, 1, 2, 3, 4, 5, 6, 7, 8, 9, 10, 3, 4, 9, 1, 2, 3, 4, 5, 6, 7, 8, 9, 10, 1, 2, 3, 4, 5, 6, 7, 8, 9, 10, 1, 2, 3, 4, 5, 6, 7, 8, 9, 10, 2, 1, 2, 3, 4, 5, 6, 7, 8, 9, 10, 2, 3, 4, 5, 7, 9, 3, 1, 2, 3, 4, 5, 6, 7, 8, 9, 10, 4, 6, 10, 1, 6, 10, 1, 2, 3, 4, 5, 6, 7, 8, 9, 10, 1, 2, 3, 4, 5, 6, 7, 8, 9, 10, 5, 7, 8, 1, 2, 3, 4, 5, 6, 7, 8, 9, 10, 7, 8, 1, 2, 3, 4, 5, 6, 7, 8, 9, 10, 2, 7, 8, 3, 4, 8, 1, 2, 3, 4, 5, 6, 7, 8, 9, 10, 1, 2, 3, 4, 5, 6, 7, 8, 9, 10, 1, 2, 3, 4, 5, 6, 7, 8, 9, 10, 4, 5, 3, 6, 10, 1, 2, 3, 4, 5, 6, 7, 8, 9, 10, 1, 2, 3, 4, 5, 7, 8, 9, 10, 1, 2, 3, 4, 5, 6, 7, 8, 9, 10, 1, 2, 3, 4, 5, 6, 7, 8, 9, 10, 1, 2, 3, 4, 5, 6, 7, 8, 9, 10, 1, 2, 3, 4, 5, 6, 7, 8, 9, 10, 1, 2, 3, 4, 5, 6, 7, 8, 9, 10, 1, 2, 3, 4, 5, 6, 7, 8, 9, 10, 1, 2, 3, 9, 1, 2, 3, 4, 5, 8, 9, 1, 2, 3, 4, 5, 6, 7, 8, 9, 10, 3, 6, 8, 9, 10, 1, 2, 5, 10, 2, 7, 1, 2, 3, 4, 5, 6, 7, 8, 9, 1, 2, 3, 4, 5, 6, 7, 8, 9, 10, 1, 2, 3, 4, 5, 6, 7, 8, 9, 10, 1, 2, 3, 4, 5, 6, 7, 8, 9, 10, 1, 2, 3, 4, 5, 6, 7, 8, 9, 10, 3, 4, 7, 2, 10, 1, 6, 7, 9, 10, 6, 1, 2, 3, 4, 5, 6, 7, 8, 9, 10, 1, 2, 3, 4, 5, 6, 7, 8, 9, 10, 1, 2, 5, 7, 10, 1, 2, 3, 4, 5, 6, 7, 8, 9, 10, 5, 10, 1, 4, 8, 1, 2, 3, 4, 5, 6, 7, 8, 9, 10, 1, 1, 2, 5, 6, 7, 8, 9, 10, 1, 2, 4, 5, 6, 3, 7, 1, 2, 3, 4, 5, 6, 7, 8, 9, 10, 1, 2, 3, 4, 5, 6, 7, 8, 9, 10, 7, 9, 1, 2, 3, 4, 5, 6, 7, 8, 9, 10, 1, 2, 3, 4, 5, 7, 8, 9, 1, 2, 3, 4, 5, 6, 7, 8, 9, 10, 1, 2, 3, 4, 5, 6, 7, 8, 9, 10, 4, 6, 1, 2, 4, 10, 1, 2, 3, 4, 5, 6, 7, 8, 9, 10, 1, 2, 3, 4, 5, 6, 7, 8, 9, 10, 2, 7, 3, 5, 6, 7, 3, 5, 6, 8, 9, 1, 2, 3, 4, 5, 6, 7, 8, 9, 10, 1, 2, 3, 4, 5, 6, 7, 8, 9, 10, 1, 2, 3, 4, 5, 6, 7, 8, 9, 10, 7, 9, 5, 6, 9, 1, 2, 3, 4, 5, 6, 7, 8, 9, 10, 1, 2, 3, 5, 6, 7, 8, 9, 10, 1, 2, 3, 4, 5, 6, 7, 8, 9, 10, 3, 10, 1, 2, 3, 4, 5, 6, 7, 8, 9, 10, 3, 1, 2, 3, 4, 5, 6, 7, 8, 9, 10, 1, 2, 3, 4, 5, 6, 7, 8, 9, 10, 4, 7, 10, 4, 5, 9, 10, 1, 2, 3, 4, 5, 6, 7, 9, 10, 2, 5, 6, 7, 8, 2, 4, 10, 1, 2, 3, 4, 5, 6, 7, 8, 9, 10, 4, 9, 1, 2, 3, 4, 5, 6, 7, 8, 9, 10, 1, 2, 3, 4, 5, 6, 7, 8, 9, 10, 1, 2, 4, 5, 6, 9, 2, 4, 6, 8, 10, 1, 2, 3, 4, 5, 6, 7, 8, 9, 10, 1, 2, 3, 4, 5, 6, 7, 8, 9, 10, 1, 5, 10], \"Freq\": [0.005377044985093385, 0.9947533222422762, 0.8979620168511687, 0.029281370114712022, 0.009760456704904007, 0.03904182681961603, 0.009760456704904007, 0.010036336700964708, 0.02258175757717059, 0.007527252525723531, 0.688743606103703, 0.011290878788585295, 0.11039970371061178, 0.0865634040458206, 0.027599925927652945, 0.03387263636575589, 0.012089129694213765, 0.029013911266113034, 0.08099716895123223, 0.008462390785949635, 0.022969346419006154, 0.09429521161486737, 0.7398547372858824, 0.004835651877685506, 0.006044564847106883, 0.0012089129694213764, 0.02496081504893286, 0.040321316617506923, 0.3270506792308895, 0.03584117032667282, 0.0012800417973811721, 0.5088166144590159, 0.02112068965678934, 0.023680773251551684, 0.016000522467264654, 0.987810744756657, 0.0291101949356764, 0.2414822988982247, 0.0218326462017573, 0.0072775487339191, 0.47701023974142465, 0.0072775487339191, 0.09130015684371234, 0.023817432220098873, 0.10122408693542022, 0.062262845052938824, 0.0018312601486158478, 0.00915630074307924, 0.8606922698494485, 0.060431584904322974, 0.0036625202972316957, 0.9968361305074767, 0.22733616399072124, 0.013372715528865955, 0.007641551730780545, 0.007641551730780545, 0.019103879326951363, 0.6934708195683346, 0.0038207758653902727, 0.02674543105773191, 0.060442238092699684, 0.05695518589504393, 0.004068227563931709, 0.020341137819658548, 0.055211659796216055, 0.21445371015582868, 0.001162350732551917, 0.005230578296483626, 0.0034870521976557507, 0.5788506648108547, 0.0015132135084875644, 0.009079281050925385, 0.05750211332252744, 0.06052854033950257, 0.009079281050925385, 0.08020031594984091, 0.7671992488031951, 0.015132135084875643, 0.13702071668765853, 0.03902303066265222, 0.4544862744093856, 0.09212956111332929, 0.03667578069798141, 0.10826690462044111, 0.029340624558385126, 0.01173624982335405, 0.052519717959509375, 0.03902303066265222, 0.021370685066383423, 0.00667833908324482, 0.1001750862486723, 0.0407378684077934, 0.007346172991569302, 0.011353176441516193, 0.05810155002422993, 0.24175587481346247, 0.4868509191685474, 0.024709854608005833, 0.031733212356206277, 0.018527465599275716, 0.079431581239448, 0.01951296908859889, 0.03429552142844654, 0.019907170484328163, 0.02463758723307941, 0.25839901490053685, 0.4832909111640857, 0.03035350747115383, 0.986588560745423, 0.004446520092013198, 0.0016381916128469676, 0.021764545713538284, 0.00748887594444328, 0.010999286543401068, 0.8417964616300775, 0.007722903317707133, 0.022700655206593694, 0.002106246359374673, 0.07933527953644601, 0.009133334635430835, 0.02374667005212017, 0.14613335416689335, 0.010960001562517002, 0.007306667708344668, 0.7964267802095688, 0.001826666927086167, 0.5813366789379008, 0.032846115964496776, 0.005936045053824719, 0.03680347933371326, 0.07202401331973993, 0.15631585308405094, 0.03601200665986996, 0.011080617433806141, 0.0027701543584515353, 0.0652964955920719, 0.9878608234623808, 0.9184855448926735, 0.05609072029878922, 0.014022680074697305, 0.025980582869883466, 0.14602879337210362, 0.003583528671708064, 0.011646468183051208, 0.028668229373664512, 0.008062939511343145, 0.10929762448709596, 0.5357375364203556, 0.09317174546440966, 0.03762705105293467, 0.9911593556366415, 0.020793726507739495, 0.03742870771393109, 0.9357176928482773, 0.12529368915941388, 0.21206540556484646, 0.12004069287478007, 0.07898949968745657, 0.07860038885155778, 0.09591582104905441, 0.08443705139003979, 0.06634339752074554, 0.06692706377459375, 0.07120728296948056, 0.024397347373781936, 0.006099336843445484, 0.969794558107832, 0.9942889701781851, 0.009894167011065194, 0.01978833402213039, 0.05936500206639117, 0.9003691980069327, 0.004241461937843353, 0.0031810964533825147, 0.026509137111520954, 0.0021207309689216763, 0.039233522925051015, 0.004241461937843353, 0.0222676751736776, 0.7337729152469, 0.029690233564903468, 0.13466641652652644, 0.010362094043130356, 0.027632250781680946, 0.8047893040164575, 0.15543141064695531, 0.0027011231085793987, 0.006752807771448497, 0.048620215954429176, 0.005402246217158797, 0.0013505615542896993, 0.006752807771448497, 0.8778650102883045, 0.004051684662869098, 0.045919092845849774, 0.9903938165952418, 0.006877734837466958, 0.9930882037521658, 0.8546326015514638, 0.0030092697237727602, 0.0030092697237727602, 0.01805561834263656, 0.0300926972377276, 0.03912050640904588, 0.048148315580364164, 0.0030092697237727602, 0.9919725065709165, 0.9902465603187924, 0.008276619402300378, 0.016553238804600755, 0.016553238804600755, 0.9518112312645435, 0.2356100568257605, 0.24814250665691798, 0.13554326509698006, 0.1446051903595093, 0.023908058139438873, 0.037404542572993076, 0.02853542423094317, 0.05610681385948961, 0.067482422167771, 0.022558409696083453, 0.005548776099792245, 0.9876821457630195, 0.005767393809361647, 0.0865109071404247, 0.003844929206241098, 0.017302181428084942, 0.013457252221843843, 0.03844929206241098, 0.013457252221843843, 0.822814850135595, 0.012471961558240976, 0.9603410399845551, 0.012471961558240976, 0.012471961558240976, 0.5913888037500766, 0.041397216262505365, 0.008064392778410137, 0.0709666564500092, 0.07150428263523655, 0.024730804520457752, 0.03279519729886789, 0.03978433770682334, 0.03279519729886789, 0.08709544200682948, 0.7659449580011469, 0.0035701988002921872, 0.0019224147386188702, 0.0071403976005843745, 0.08870570865341358, 0.0617919023127494, 0.006041874892802163, 0.009886704370039903, 0.002197045415564423, 0.05217982861965505, 0.1512212582643193, 0.00311796408792411, 0.5456437153867192, 0.12471856351696439, 0.008574401241791301, 0.01247185635169644, 0.07794910219810275, 0.007015419197829247, 0.06625673686838733, 0.00311796408792411, 0.2333959605787029, 0.07127439935393934, 0.07035115583899193, 0.15879788457095292, 0.10340327367410888, 0.0744134273047605, 0.11706727769533042, 0.06148801809549689, 0.02548152101254826, 0.08419980856320294, 0.9856096605944907, 0.008352624242326193, 0.648792408476209, 0.044318406402070264, 0.005085718767450686, 0.021795937574788656, 0.09299600031909826, 0.055216375189464595, 0.01961634381730979, 0.06902046898683074, 0.0043591875149577314, 0.03777962512963367, 0.012674003761539786, 0.9758982896385634, 0.9271925896631905, 0.007662748674902401, 0.030650994699609604, 0.030650994699609604, 0.18153040859156683, 0.0013547045417281107, 0.8155321341203227, 0.006263130208402081, 0.009394695312603122, 0.08016806666754664, 0.011899947395963954, 0.018789390625206244, 0.17411501979357785, 0.0012526260416804162, 0.5041819817763675, 0.03256827708369082, 0.1609624463559335, 0.01628807164041507, 0.01628807164041507, 0.004072017910103767, 0.01628807164041507, 0.9406361372339703, 0.004072017910103767, 0.9911204441165721, 0.034717392260242855, 0.9547282871566785, 0.008773204480802205, 0.07672566100483383, 0.5700987784434014, 0.14005224607535155, 0.048172868240041196, 0.015472742447960252, 0.03557135634943439, 0.05806266238203641, 0.04115430465539943, 0.006061486732190614, 0.15672702530180502, 0.15690634684105195, 0.07746690495466793, 0.20729569936943548, 0.10490310045944616, 0.07746690495466793, 0.07190793723801352, 0.06814218491382827, 0.028153481661765893, 0.050927317146124286, 0.9141784987984075, 0.07618154156653395, 0.049470580359310984, 0.9454377579779432, 0.03424703292321879, 0.04439430193750584, 0.9094489854054768, 0.01014726901428705, 0.0012684086267858812, 0.0012078426549549666, 0.04469017823333376, 0.19687835275765955, 0.009662741239639732, 0.0012078426549549666, 0.013286269204504632, 0.6981330545639707, 0.016909797169369533, 0.002415685309909933, 0.015701954514414564, 0.04851335392691332, 0.04686484190027063, 0.0694730068370846, 0.02331467009108941, 0.16579320953663582, 0.06735349137425829, 0.04992636423546419, 0.4797169997530215, 0.020488649473987663, 0.028495707889109278, 0.0030356954061667124, 0.02124986784316699, 0.015178477030833562, 0.018214172437000277, 0.9410655759116809, 0.03781270143031147, 0.05356799369294125, 0.8917495420648455, 0.009453175357577868, 0.006302116905051911, 0.022800977762032385, 0.03565243795517791, 0.006218448480554287, 0.016167966049441145, 0.8133730612565007, 0.008291264640739048, 0.0053893220164803815, 0.038554380579436574, 0.012851460193145526, 0.04062719673962134, 0.012755641061905087, 0.05421147451309662, 0.00797227566369068, 0.006377820530952543, 0.7111269892012086, 0.0031889102654762717, 0.006377820530952543, 0.06058929504404916, 0.0223223718583339, 0.11480076955714578, 0.035991590679882966, 0.08207838362363554, 0.020629326365298774, 0.14923342477024645, 0.34499256432180503, 0.03818619986768071, 0.08471191464899283, 0.03774727803012116, 0.028529919441370642, 0.17776334421161707, 0.9769573226799269, 0.02159021707579949, 0.00795320363347248, 0.9861972505505875, 0.9967779139773394, 0.03552967991597716, 0.008199156903687038, 0.0655932552294963, 0.02459747071106111, 0.8609114748871388, 0.0011683921760385289, 0.010515529584346761, 0.08996619755496672, 0.07010353056231174, 0.0011683921760385289, 0.03388337310511734, 0.7898331110020456, 0.003505176528115587, 0.07213479366837114, 0.02846012951183874, 0.022732304704424652, 0.04886550538825142, 0.002684917878475353, 0.7234958709864917, 0.049044499913483114, 0.011634644140059863, 0.040452762702361984, 0.0008949726261584509, 0.6506879566473164, 0.044005948497512944, 0.006000811158751765, 0.03400459656626, 0.115615628325284, 0.08841195107227601, 0.011201514163003294, 0.007000946351877059, 0.012201649356128589, 0.03080416394825906, 0.027897239271100098, 0.04045099694309514, 0.034871549088875124, 0.029292101234655102, 0.03417411810709762, 0.018133205526215064, 0.6493082440348548, 0.05997906443286521, 0.02301522239865758, 0.0829942868315228, 0.21081893112116284, 0.05172509090705111, 0.0047022809915501, 0.03213225344225902, 0.14341957024227808, 0.03213225344225902, 0.027429972450708922, 0.016457983470425354, 0.023511404957750504, 0.4584723966761348, 0.865324087414376, 0.12962344629284175, 0.003083672197676849, 0.9960261198496222, 0.027991142375147226, 0.1882404324728651, 0.5052401198714075, 0.09936855543177266, 0.018544131823535037, 0.05073394555495435, 0.03393926012986601, 0.026241695976700525, 0.039187599325206116, 0.010496678390680211, 0.0025588504316913876, 0.9749220144744187, 0.005117700863382775, 0.0025588504316913876, 0.01023540172676555, 0.0025588504316913876, 0.9916173759048316, 0.006142049100296722, 0.9213073650445082, 0.006142049100296722, 0.06756254010326393, 0.054817078920586654, 0.02633669713503046, 0.08574738602102941, 0.2639794526790262, 0.04562985898976207, 0.06859790881682352, 0.24866741946098528, 0.09095347731516333, 0.06767918682374106, 0.04777354364028781, 0.4093894807999403, 0.10208290671109622, 0.010314076066665163, 0.013223174444442517, 0.3139181613110653, 0.05315716126665891, 0.0007933904666665509, 0.004231415822221605, 0.00766944117777666, 0.08542170691109865, 0.9250111163027177, 0.07161376384279104, 0.9151196662378804, 0.08368350930198908, 0.9898505400414227, 0.004640237870447996, 0.9094866226078072, 0.027841427222687978, 0.05104261657492796, 0.8659336821069074, 0.12533250662073658, 0.0625303372338834, 0.0044664526595630995, 0.013399357978689299, 0.9156227952104354, 0.7969424962424878, 0.01374038786624979, 0.19236543012749707, 0.39395452284185406, 0.2702951411634477, 0.05266495587138809, 0.04930885574232905, 0.08725860335553517, 0.007486684903285562, 0.0061958771613397755, 0.02917225496797478, 0.07589949522641225, 0.027623285677639834, 0.880170777240968, 0.04632477774952463, 0.06485468884933449, 0.2940503782924011, 0.09263639602529104, 0.047721779770604475, 0.23814103826703606, 0.07415590287883146, 0.06854157584699565, 0.07930236932468097, 0.06128973676420771, 0.018948353732445893, 0.025030541350268033, 0.006809392371273057, 0.9465055396069549, 0.04085635422763834, 0.9890616775435535, 0.005750358590369497, 0.0029147471611595554, 0.005829494322319111, 0.9910140347942489, 0.974861947488634, 0.014026790611347251, 0.0013931996565486335, 0.0006965998282743168, 0.9592179635337341, 0.002786399313097267, 0.0041795989696459005, 0.004876198797920217, 0.026470793474424034, 0.22131743624102496, 0.25538946661600564, 0.04281617976325006, 0.13357441996563224, 0.0765866877455318, 0.03980095583626062, 0.043720746941346894, 0.039499433443561674, 0.07568212056743497, 0.07176232946234869, 0.006646774129685236, 0.9903693453231001, 0.014399251668439226, 0.007199625834219613, 0.007199625834219613, 0.9719494876196477, 0.10218154827400013, 0.23311548026146348, 0.1831305670365197, 0.11832711759002178, 0.07475619765500442, 0.0663516547233767, 0.03870513192196974, 0.07475619765500442, 0.06856337654748926, 0.04003216501643728, 0.007335500595016268, 0.9902925803271961, 0.0020147024035411655, 0.06245577450977613, 0.8240132830483368, 0.10879392979122295, 0.12221673800897233, 0.03625932268730922, 0.16456154142701876, 0.22693771891707518, 0.03296302062482656, 0.14985496299440382, 0.06947590500924983, 0.07150439858616224, 0.09686056829756728, 0.029159595168115806, 0.04277458217990309, 0.18010350391538144, 0.006753881396826804, 0.756434716444602, 0.01125646899471134, 0.002450895001462562, 0.001225447500731281, 0.02450895001462562, 0.019607160011700497, 0.06372327003802662, 0.6433599378839227, 0.20955152262504909, 0.026959845016088186, 0.008578132505118968, 0.028359829487499325, 0.04424133400049895, 0.4883562637747384, 0.16391981443774611, 0.01928468405149954, 0.08791547141124792, 0.11117053159099737, 0.01815029087199957, 0.01474711133349965, 0.023822256769499433, 0.9890895039772272, 0.9916205727844124, 0.03713821261967385, 0.008473281520022673, 0.03731849520520625, 0.3614665839924566, 0.03281143056689631, 0.08905959725300427, 0.3760694734205808, 0.021273345092822884, 0.015324019770253772, 0.021093062507290487, 0.002869848062726726, 0.002869848062726726, 0.002869848062726726, 0.18367027601451047, 0.80642730562621, 0.002869848062726726, 0.01957739487849014, 0.0009322568989757208, 0.04101930355493172, 0.0009322568989757208, 0.0055935413938543255, 0.027967706969271627, 0.8912375954207892, 0.0027967706969271628, 0.008390312090781487, 0.008782007338588553, 0.023418686236236143, 0.002927335779529518, 0.09660208072447408, 0.03805536513388373, 0.825508689827324, 0.002927335779529518, 0.005392071914985781, 0.12567675309543783, 0.09042089826668463, 0.09373909636821434, 0.02405693623609041, 0.014102341931501273, 0.10369369067280348, 0.1401938697896303, 0.34675170160985486, 0.05557981820062267, 0.00181016787890729, 0.04887453273049683, 0.00724067151562916, 0.00181016787890729, 0.00362033575781458, 0.016291510910165608, 0.7421688303519889, 0.15205410182821236, 0.02534235030470206, 0.11659896410250216, 0.06274383718520296, 0.09725294763706459, 0.07006395152347664, 0.010980171507410518, 0.010980171507410518, 0.3843060027593681, 0.08261271896051722, 0.14587942145559687, 0.018300285845684196, 0.022650472650330163, 0.06276068463528983, 0.3381054927908659, 0.012504948442369778, 0.15265474796628767, 0.24396446583793113, 0.04011021198495966, 0.04199775137248718, 0.03822267259743215, 0.04742442711162878, 0.9862893974470673, 0.00789031517957654, 0.9872640487300307, 0.008225949864599723, 0.9912269586842666, 0.05354570137349809, 0.016550489515444865, 0.004867791033954372, 0.0759375401296882, 0.12656256688281367, 0.0009735582067908744, 0.6746758373060759, 0.012656256688281367, 0.010709140274699618, 0.023365396962980983, 0.015169676945793268, 0.9835007219855969, 0.033727338254565954, 0.10896524666859769, 0.18852717280757378, 0.023349695714699505, 0.010810044312360882, 0.48731679760122854, 0.026376508122160552, 0.04496978433942127, 0.01643126735478854, 0.05967144460423207, 0.018542303006746374, 0.9641997563508115, 0.5915192325271921, 0.034159797732320564, 0.10656689036151287, 0.07620262571056126, 0.011386599244106855, 0.03941515122960065, 0.02686069565276489, 0.020145521739573666, 0.06510799054963663, 0.028904444235040478, 0.008289995232765383, 0.9865094326990806, 0.994895108127481, 0.07720923578896718, 0.9124727865968848, 0.00480699841559033, 0.00480699841559033, 0.9902416736116081, 0.09822045063841485, 0.9003541308521361, 0.5700575222900703, 0.030390271951490844, 0.04382597113004469, 0.05598207991064103, 0.06941777908919487, 0.09372999665038755, 0.045745356726980956, 0.024632115160682054, 0.006078054390298169, 0.060460646303492314, 0.01716761672066577, 0.007483320109008156, 0.045780311255108716, 0.059426365571535356, 0.011004882513247287, 0.0013205859015896747, 0.05766558436941579, 0.22537999387130445, 0.555966664569253, 0.018928397922785334, 0.07791229363189177, 0.09718315349297138, 0.14836489957562368, 0.09428216383646476, 0.10174185152462462, 0.0845431271324783, 0.10712940374385117, 0.06983096530305193, 0.08226377811665167, 0.13696815449649058, 0.7942906648264746, 0.00044748769849378846, 0.00044748769849378846, 0.0008949753969875769, 0.11634680160838501, 0.02640177421113352, 0.004474876984937885, 0.0008949753969875769, 0.00044748769849378846, 0.05548847461322977, 0.06954417593114927, 0.034772087965574634, 0.02158267528897736, 0.027577862869248845, 0.05995187580271488, 0.02038363777292306, 0.05755380077060629, 0.034772087965574634, 0.04196631306190042, 0.6318927709606149, 0.11683359438474325, 0.2723144337313609, 0.22504588027799147, 0.07521348442580164, 0.052916996947797196, 0.053214283447503924, 0.02199920097829771, 0.016053470984163196, 0.06837589493254694, 0.0978072584035128, 0.007917821148549907, 0.84720686289484, 0.13460295952534843, 0.016909410166675697, 0.053034059159119226, 0.009223314636368562, 0.033818820333351395, 0.8700660140307677, 0.0038430477651535673, 0.008454705083337849, 0.0007686095530307134, 0.0030744382121228537, 0.011403250590226177, 0.8027888415519229, 0.00513146276560178, 0.01539438829680534, 0.012543575649248795, 0.0017104875885339266, 0.057586415480642195, 0.02964845153458806, 0.05416544030357434, 0.00969276300169225, 0.014552543991299481, 0.6174436522022779, 0.016631478847199406, 0.005197337139749815, 0.034302425122348774, 0.0031184022838498886, 0.08627579651984692, 0.09147313365959674, 0.04365763197389844, 0.08835473137574684, 0.8916923998121351, 0.021748595117369148, 0.057996253646317726, 0.021748595117369148, 0.777849850322121, 0.046984219146973746, 0.11485031347038027, 0.02610234397054097, 0.02610234397054097, 0.005220468794108194, 0.0172216411326274, 0.032456169826874715, 0.0741855310328565, 0.0635875980281627, 0.006623708127933616, 0.022520607634974293, 0.28680656193952553, 0.4921415139054676, 0.004636595689553531, 0.02474823423546872, 0.8909364324768738, 0.07424470270640615, 0.006219424100768446, 0.9888884320221829, 0.9841171692964972, 0.01137707710169361, 0.08015990994644541, 0.9138229733894776, 0.014230989770955204, 0.006912195031606814, 0.771319645585772, 0.006912195031606814, 0.015450788894179937, 0.015857388601921513, 0.09799052956572012, 0.024395982464494637, 0.00447259678515735, 0.04228636960512404, 0.006053450680263442, 0.9867124608829411, 0.06238452262792947, 0.3100877742388259, 0.04740000493788759, 0.11009033404928731, 0.2770606740240397, 0.10275097844600148, 0.01590193714045261, 0.045870972520536374, 0.014984517690041882, 0.01345548527269067, 0.012359145278414752, 0.003089786319603688, 0.020856057657324893, 0.5642722266176236, 0.11432209382533645, 0.008883135668860603, 0.1950427614249828, 0.03398764951564057, 0.03784988241514518, 0.009655582248761525, 0.002618212533102169, 0.7291721904689541, 0.002618212533102169, 0.002618212533102169, 0.003927318799653254, 0.2552757219774615, 0.0013091062665510846, 0.0013091062665510846, 0.05975585301294174, 0.05701704308318191, 0.006971516184843203, 0.09137665856562341, 0.47032835975602894, 0.040086218062848414, 0.05427823315342208, 0.04207807982994648, 0.06772330008133397, 0.1100503626321677, 0.035776070035725575, 0.083092807824911, 0.042469657332732294, 0.20242331239568598, 0.26428129155423086, 0.02261970879678133, 0.06947481987582838, 0.14056533323714113, 0.049855684694946605, 0.08955558176684854, 0.008993931958653636, 0.9893325154519, 0.9824426471246936, 0.004904145424162132, 0.07748549770176168, 0.6159606652747638, 0.12456529377371814, 0.014712436272486395, 0.03629067613879977, 0.07846632678659411, 0.011769949017989115, 0.02157823986631338, 0.016674094442151247, 0.9850790627750375, 0.027307348296233012, 0.0212390486748479, 0.01314798251300108, 0.045512247160388354, 0.8445050306427617, 0.008091066161846818, 0.01314798251300108, 0.023261815215309605, 0.0020227665404617045, 0.0010113832702308523, 0.00865895599994374, 0.6840575239955554, 0.010823694999929676, 0.002164738999985935, 0.002164738999985935, 0.2402860289984388, 0.05195373599966244, 0.9840979007490703, 0.0009382969364953491, 0.79286091133857, 0.014074454047430235, 0.01876593872990698, 0.05911270699920699, 0.012197860174439537, 0.08069353653860002, 0.004691484682476745, 0.010321266301448839, 0.007506375491962793, 0.20972253255190917, 0.2889068694869902, 0.12291794561889147, 0.17062733691032103, 0.020541543472698844, 0.042408347814604064, 0.014246554343968553, 0.06261857607000132, 0.02981836955714348, 0.03810124998968334, 0.09069036309954548, 0.008002090861724601, 0.8989015401337301, 0.9895274273165586, 0.7590948849021798, 0.1253551186076994, 0.11142677209573282, 0.1353920334432853, 0.10089724785263936, 0.17557845865638783, 0.13556450737123854, 0.017764814579182657, 0.12245648884679307, 0.04570559090760586, 0.044498273411933256, 0.1738537193768555, 0.04812022589895108, 0.03548564275279293, 0.0266142320645947, 0.9403695329490126, 0.08086986162086808, 0.005776418687204863, 0.0028882093436024313, 0.9097859432347659, 0.7705926797568018, 0.003992708185268403, 0.05989062277902604, 0.15571561922546773, 0.007985416370536806, 0.44671153007801623, 0.07917412418098806, 0.07758534576932943, 0.07440778894601219, 0.03707149627203454, 0.2052172115059055, 0.01641737692047244, 0.025685250988481075, 0.016946969724358645, 0.020918915753505206, 0.0008930077390083249, 0.016074139302149848, 0.0017860154780166499, 0.008930077390083248, 0.9671273813460158, 0.0008930077390083249, 0.0017860154780166499, 0.0008930077390083249, 0.0017860154780166499, 0.0027444420123368257, 0.0027444420123368257, 0.027444420123368257, 0.7821659735159954, 0.1701554047648832, 0.0054888840246736514, 0.008233326037010477, 0.0027444420123368257, 0.9254594004997201, 0.0115682425062465, 0.0115682425062465, 0.0115682425062465, 0.0347047275187395, 0.011883063660850793, 0.01980510610141799, 0.031688169762268785, 0.003961021220283598, 0.011883063660850793, 0.043571233423119575, 0.8714246684623915, 0.003961021220283598, 0.08641677774266143, 0.007856070703878313, 0.05664640454901731, 0.01157736735308383, 0.0012404322164018388, 0.0004134774054672796, 0.02191430248976582, 0.006202161082009194, 0.7975979151463823, 0.01033693513668199, 0.9917882054800901, 0.04579902431971834, 0.9486940751941656, 0.9813329346557511, 0.01617581760421568, 0.039467954502894094, 0.10539737850204672, 0.14038033817506648, 0.3592480858729337, 0.09014839608047401, 0.06503242503317777, 0.11750686454270741, 0.01569748190456015, 0.04978344261160505, 0.017939979319497316, 0.0029034517375881278, 0.008710355212764384, 0.9581390734040821, 0.029034517375881277, 0.9786281348401653, 0.004573028667477407, 0.009146057334954815, 0.004119189610807316, 0.016476758443229263, 0.024715137664843897, 0.8320763013830779, 0.012357568832421948, 0.03295351688645853, 0.016476758443229263, 0.06590703377291705, 0.9374868574177567, 0.033481673479205595, 0.008370418369801399, 0.016740836739602798, 0.9886195532098286, 0.006913423449019781, 0.006784023737445084, 0.013568047474890169, 0.963331370717202, 0.006784023737445084, 0.006784023737445084, 0.07657501769287219, 0.016064689026476682, 0.07336207988757686, 0.02141958536863558, 0.02570350244236269, 0.10495596830631433, 0.03748427439511226, 0.0406972122004076, 0.052477984153157166, 0.552089812876582, 0.013678480647667978, 0.9802911130828718, 0.9981283194723917, 0.766814899252478, 0.06794562398439678, 0.14559776568085026, 0.009706517712056684, 0.02081634488122153, 0.010408172440610765, 0.9679600369768011, 0.00973593930509665, 0.00811328275424721, 0.7723845182043343, 0.0016226565508494417, 0.017849222059343858, 0.14928440267814863, 0.024339848262741624, 0.006490626203397767, 0.00973593930509665, 0.994948127491771, 0.046667655316141664, 0.5034722044683745, 0.11128440883079935, 0.0695527555192496, 0.09557894790709782, 0.041282925856586855, 0.002692364729777404, 0.06327057114976899, 0.045770200406215863, 0.020192735473330527, 0.008760898939939582, 0.9724597823332938, 0.013141348409909374, 0.6670598963607994, 0.02869074823057202, 0.017931717644107514, 0.029587334112777395, 0.03496684940600965, 0.023311232937339766, 0.1102800635112612, 0.006276101175437629, 0.010759030586464506, 0.0699336988120193, 0.06386715468328821, 0.15697127351048168, 0.24326289583812444, 0.4516117471160513, 0.0019869781457023, 0.001135416083258457, 0.013057284957472257, 0.04428122724707983, 0.021856759602725297, 0.0019869781457023, 0.12432896083074617, 0.009209552654129345, 0.20721493471791028, 0.01176776172472083, 0.041442986943582054, 0.06293194313655052, 0.01176776172472083, 0.26093732520033147, 0.2563325488732668, 0.014325970795312315, 0.19999959043464666, 0.08261252631569121, 0.2294383525961402, 0.06844512202547245, 0.08022062689006987, 0.11885900222703012, 0.03348659195869889, 0.030910700269568207, 0.024838955573760167, 0.13118648388215554, 0.04725029267656771, 0.009603718023692623, 0.3378588000735065, 0.0011524461628431148, 0.0017286692442646722, 0.5518296376413782, 0.044561251629933775, 0.000384148720947705, 0.0013445205233169673, 0.004417710290898607, 0.08378568298374903, 0.9040034216667657, 0.008819545577236739, 0.9919566142442783, 0.09421749296995217, 0.1141970860737674, 0.26521930453495896, 0.13398080081381972, 0.0795266156877351, 0.10851661352464347, 0.056217090399950674, 0.04701080730309464, 0.04328911839159965, 0.05739236058252804, 0.9956815356318133, 0.9971305186568323, 0.09937612095733785, 0.2031423516758432, 0.06784715085440736, 0.19077022416709835, 0.026739759454384077, 0.05148401447187382, 0.013170329283502607, 0.035919079864098015, 0.2853571344758898, 0.025941557679626345, 0.02723664253159839, 0.049486294177129464, 0.012659284556940095, 0.02646941316451111, 0.3932050506322302, 0.1123991022782863, 0.04181400050625668, 0.19142372708827599, 0.0034525321518927535, 0.14193743291114652, 0.015100079638356304, 0.13635829491606602, 0.5783788079661324, 0.08625348520697465, 0.01830312683437128, 0.05788363861369917, 0.024709221226401228, 0.0318016828747201, 0.04141082446276502, 0.009837930673474563, 0.8532881058360078, 0.010469792709644267, 0.13087240887055335, 0.011377378240885786, 0.9784545287161776, 0.37979210133095, 0.07391010331519161, 0.07851881645493798, 0.143040800411387, 0.0832982226739342, 0.0945639659044253, 0.020312476430733955, 0.028505744234727484, 0.02116594182698328, 0.07715327182093906, 0.020367772047293897, 0.007207057801350149, 0.05091943011823475, 0.5818915798742272, 0.01927104586013192, 0.013630739754727455, 0.24723341762022902, 0.034938562819588764, 0.02005442170810476, 0.004543579918242485, 0.06750219363952296, 0.09523282454008375, 0.15105896306358113, 0.01568969906215939, 0.27876581589511107, 0.24884592466029548, 0.01897358956354159, 0.014595068895031992, 0.041960823073216975, 0.06750219363952296, 0.04174984071054877, 0.03528155553004121, 0.6209553773287253, 0.07350324068758586, 0.03822168515754465, 0.08585178512310028, 0.02646116664753091, 0.02646116664753091, 0.013524596286515799, 0.03763365923204396, 0.006875746278583116, 0.9832317178373856, 0.01217414801997924, 0.04869659207991696, 0.01217414801997924, 0.01217414801997924, 0.913061101498443, 0.002937778779718287, 0.01615778328845058, 0.03721186454309831, 0.6516972593008401, 0.015178523695211152, 0.011261485322253434, 0.1992793272242238, 0.041128902916056025, 0.021054081254647725, 0.0036722234746478593, 0.02667612436825404, 0.02817900461435286, 0.3625698593713401, 0.0390748863985693, 0.07251397187426803, 0.32950649395716614, 0.08303413359695977, 0.0067629611074446865, 0.02667612436825404, 0.024797524060630516, 0.9701254590142353, 0.026841415862053943, 0.0711435797457051, 0.019634608030176675, 0.01223975565517507, 0.023714526581901697, 0.02320453676293607, 0.0933281368707099, 0.0010199796379312558, 0.4931601549397622, 0.016574669116382907, 0.24607008765091545, 0.9111410565800144, 0.04218245632314882, 0.04218245632314882, 0.029525681824849805, 0.0725061047344413, 0.04522287975704844, 0.34795455416373633, 0.1147390420282138, 0.017192169163836597, 0.20294234469485373, 0.05568767837851419, 0.06577873419207045, 0.04858656502823386, 0.09961749564182067, 0.17735820792700618, 0.3844063361237315, 0.09805486825920387, 0.03633108664584048, 0.03750305718280307, 0.03398714557191528, 0.03633108664584048, 0.08360056496999851, 0.012891675906588556, 0.9416057101322974, 0.05432340635378639, 0.23751266513433253, 0.09234887760099536, 0.009574632794752028, 0.025017588915319813, 0.4568026420463951, 0.025326448037731167, 0.004015168591347624, 0.012354364896454228, 0.0018531547344681342, 0.13497143649376245, 0.004979734851559373, 0.012449337128898431, 0.014939204554678119, 0.037348011386695294, 0.06722642049605153, 0.044817613664034354, 0.8166765156557372, 0.040470849722176586, 0.9128424992890941, 0.0314773275616929, 0.008993522160483686, 0.9965402108161263, 0.1226353182135592, 0.2155088810603166, 0.10912643634493994, 0.08421943539967319, 0.07999790981572967, 0.07113270608944829, 0.06268965492156124, 0.07936468097813815, 0.11946917402560156, 0.05593521398725162, 0.08400556685566499, 0.03200212070691999, 0.004000265088364999, 0.8720577892635698, 0.001861017391474443, 0.001861017391474443, 0.016749156523269988, 0.014888139131795545, 0.001861017391474443, 0.07257967826750328, 0.001861017391474443, 0.001861017391474443, 0.8858442783418349, 0.12346051436208552, 0.13317441270021915, 0.030708452810874066, 0.13850138920822794, 0.0432425151826594, 0.032275210607347234, 0.046062679216311096, 0.21934609150624332, 0.0883651397210866, 0.14445506883482595, 0.002767989554605394, 0.04290383809638361, 0.01383994777302697, 0.001383994777302697, 0.006919973886513485, 0.034599869432567425, 0.005535979109210788, 0.017991932104935063, 0.8733007044780018, 0.08265433746649187, 0.9091977121314105, 0.0014685183338641761, 0.04552406834978946, 0.12629257671231914, 0.0734259166932088, 0.0029370366677283523, 0.0014685183338641761, 0.0014685183338641761, 0.03230740334501188, 0.7122313919241254, 0.0029370366677283523, 0.9933744438552937, 0.23503829417004038, 0.7570945052592647, 0.006779950793366549, 0.005654846201949845, 0.01696453860584953, 0.9726335467353733, 0.010812805314747015, 0.11766876371930575, 0.06805706874576062, 0.04515936337335518, 0.0031802368572785337, 0.005724426343101361, 0.0012720947429114135, 0.017173279029304083, 0.7301823824311514, 0.006525522685549972, 0.039153136113299826, 0.006525522685549972, 0.926624221348096, 0.013051045371099943, 0.006525522685549972, 0.9630832579063124, 0.02978608014143234, 0.9891089438833494, 0.005784262829727189, 0.9276775378176414, 0.07205262429651584, 0.9022924516429589, 0.00397485661516722, 0.00397485661516722, 0.08744684553367885, 0.019306393875817156, 0.0025741858501089543, 0.11969964203006637, 0.02574185850108954, 0.0167322080257082, 0.6216658828013124, 0.13643185005577457, 0.006435464625272385, 0.05277080992723356, 0.008522475058931988, 0.01363596009429118, 0.03579439524751435, 0.003408990023572795, 0.003408990023572795, 0.6528215895141902, 0.047725860330019125, 0.010226970070718384, 0.008522475058931988, 0.21647086649687247, 0.9908911430641817, 0.01856752140069038, 0.19526843339726052, 0.00680809118025314, 0.0021662108300805447, 0.0012378347600460254, 0.002475669520092051, 0.017639145330655862, 0.0006189173800230127, 0.01268780629047176, 0.7423913973376037, 0.022397821713714496, 0.6495368296977203, 0.11049592045432484, 0.001493188114247633, 0.001493188114247633, 0.11198910856857247, 0.07316621759813402, 0.017918257370971597, 0.011945504913981064, 0.8355072422609031, 0.003083052554468277, 0.0010276841848227592, 0.005138420924113795, 0.06371641945901106, 0.02569210462056898, 0.005138420924113795, 0.0010276841848227592, 0.0020553683696455183, 0.05652263016525175, 0.06812558080332759, 0.36075591652671196, 0.0863182074951253, 0.011612314909658111, 0.3212740458338744, 0.039094793529182305, 0.005419080291173785, 0.05419080291173785, 0.02128924400103987, 0.03251448174704271, 0.040476935254882815, 0.013492311751627606, 0.006746155875813803, 0.9309695108623047, 0.006292755642956947, 0.0013983901428793214, 0.12515591778769927, 0.002097585214318982, 0.02027665707175016, 0.0013983901428793214, 0.0006991950714396607, 0.7698137736550664, 0.07061870221540574, 0.002097585214318982, 0.015487373008734687, 0.009110219416902758, 0.039173943492681856, 0.0300637240757791, 0.8773141298477355, 0.00637715359183193, 0.0027330658250708274, 0.011843285241973586, 0.004555109708451379, 0.0027330658250708274, 0.057899289994923164, 0.9352962229949127, 0.004453791538071013, 0.002262699863872187, 0.0011313499319360934, 0.007919449523552655, 0.002262699863872187, 0.09955879401037622, 0.2918882824395121, 0.005656749659680467, 0.05430479673293248, 0.01357619918323312, 0.5192896187586669, 0.11341754828799906, 0.0768553123267362, 0.00820784888926309, 0.05223176565894694, 0.1544567927343145, 0.01716186585936828, 0.44919318466694363, 0.03208522747621026, 0.021638874344420873, 0.07387064000336781, 0.12421470123095668, 0.12400381039694827, 0.22101359404081936, 0.17061068471280808, 0.05166825433206178, 0.04723954681788506, 0.09764245614589634, 0.071070211060836, 0.05820587018632266, 0.03437520594337171, 0.007364351277462318, 0.03682175638731159, 0.9500013147926389, 0.005332315122774138, 0.07465241171883794, 0.9171582011171517, 0.0015469852560121595, 0.0020626470080162126, 0.0005156617520040532, 0.9431453444154132, 0.0010313235040081063, 0.0010313235040081063, 0.05001918994439315, 0.008640292920737319, 0.0021600732301843297, 0.9482721480509206, 0.036721244913133604, 0.0055316918850878164, 0.0011063383770175633, 0.0011063383770175633, 0.0055316918850878164, 0.0011063383770175633, 0.0066380302621053796, 0.0022126767540351267, 0.13718595875017786, 0.6936741623900122, 0.14603666576631835, 0.010690400569283777, 0.9728264518048237, 0.010690400569283777, 0.029824472948607166, 0.03050230187925733, 0.5653093281622358, 0.0074561182371517916, 0.027113157226006514, 0.07252769557956742, 0.06507157734241563, 0.05422631445201303, 0.10099651066687426, 0.0474480251455114, 0.06332638638721882, 0.021108795462406276, 0.8971238071522667, 0.006794375940034512, 0.003397187970017256, 0.835708240624245, 0.003397187970017256, 0.013588751880069024, 0.08153251128041415, 0.057752195490293354, 0.20120711788551873, 0.04257753618176707, 0.014318109512452644, 0.015071694223634361, 0.05086696800476597, 0.11341449903284857, 0.12208072321143833, 0.05162055271594769, 0.004144715911499449, 0.38470499505826705, 0.4584909455950397, 0.10030257683794971, 0.029746597542627245, 0.047201212629623394, 0.0663767052604079, 0.09489410455747203, 0.020650530525460235, 0.06465582771661954, 0.033680031928429194, 0.0843229996456293, 0.0038264333590022825, 0.9910462399815911, 0.0019132166795011413, 0.9781424259706878, 0.018595863611610034, 0.970768575595207, 0.00735430739087278, 0.022062922172618342, 0.1461683695412571, 0.1415646413667293, 0.07158797311390702, 0.10657630724031816, 0.11002910337121401, 0.04051280793584448, 0.047418400197636164, 0.19082453283417658, 0.04949007787617366, 0.09621791884763066, 0.061625697137154545, 0.030587937265157, 0.16958312277888513, 0.4142866209001411, 0.025639888589911015, 0.08636594051338448, 0.13539660465900377, 0.02743917901727319, 0.030138114658316457, 0.019342372094143398, 0.04440661385864416, 0.2794554148000883, 0.009953206554523692, 0.008421944007673893, 0.005359418913974296, 0.2411738511288433, 0.3567841734160031, 0.04823477022576866, 0.006125050187399195, 0.008268230668194055, 0.0881944604607366, 0.15525899810275506, 0.12034869083704682, 0.5714266084018559, 0.003674769185864025, 0.011024307557592075, 0.0146990767434561, 0.024804692004582168, 0.0018373845929320126, 0.1453885765321181, 0.07081223549541674, 0.04140516095413072, 0.05904940567890233, 0.2206706873578103, 0.05105068140367253, 0.09433789512844556, 0.09669046109174843, 0.040699391165139855, 0.17973603959634016, 0.021108459466130672, 0.048202899974895415, 0.3210376148654799, 0.3046549299066919, 0.04788784834107257, 0.04851795160871826, 0.11719920778209865, 0.039066402594032885, 0.03560083462198158, 0.01669773659261083, 0.7576400782072987, 0.007427843903993125, 0.23026316102378688, 0.007427843903993125, 0.9763317831217369, 0.0076876518356042275, 0.01153147775340634, 0.08884240743022459, 0.09781638797873213, 0.09709846953485153, 0.19383797984776274, 0.0895603258741052, 0.050972209515522796, 0.1692492731448521, 0.07053548711126922, 0.08632969287664248, 0.055997638622687015, 0.03336183611868771, 0.11838070880824672, 0.04161261279320188, 0.03981896569004663, 0.039460236269415576, 0.11479341460193622, 0.020088847555338837, 0.3971134686385731, 0.030133271333008256, 0.1650155334902833, 0.020583864156528353, 0.005881104044722386, 0.17475280590032233, 0.05461025184385073, 0.08653624522948654, 0.3587473467280656, 0.1230831060788328, 0.011762208089444772, 0.005881104044722386, 0.1579496514868298, 0.028933827432157916, 0.012764923867128491, 0.15913605087686852, 0.0008509949244752328, 0.0008509949244752328, 0.005105969546851397, 0.0025529847734256984, 0.1710499798195218, 0.6076103760753162, 0.010211939093702794, 0.10773260032853443, 0.038703934192103114, 0.16638701606295875, 0.009177221509467749, 0.010773260032853444, 0.024339587481631855, 0.04229502086972093, 0.1639929582778802, 0.4233492183280557, 0.013167317817931987, 0.025152229388355787, 0.01397346077130877, 0.008384076462785262, 0.8943014893637613, 0.05589384308523508, 0.07712958725254483, 0.005319281879485851, 0.005319281879485851, 0.06383138255383021, 0.005319281879485851, 0.0026596409397429254, 0.8271483322600498, 0.0026596409397429254, 0.0026596409397429254, 0.007978922819228776, 0.9953083004299, 0.0032579649768572833, 0.10016658845454429, 0.026053430835399148, 0.04957740236639061, 0.2969585223374621, 0.08473688669765742, 0.027571106418043757, 0.27292865894558915, 0.053624537253442905, 0.058430509931817504, 0.030353511652892212, 0.9964462293539228, 0.9905098166368427, 0.008152344169850558, 0.006544849129784736, 0.003272424564892368, 0.003272424564892368, 0.08508303868720157, 0.8933719062156165, 0.006544849129784736, 0.34913285193378485, 0.02896393614697318, 0.15343058067045254, 0.18454724180132237, 0.029355340689499847, 0.13366465127285596, 0.03914045425266646, 0.029159638418236513, 0.0254412952642332, 0.027398317976866524, 0.8806189035611544, 0.03187760736872957, 0.003984700921091196, 0.07172461657964153, 0.003984700921091196, 0.003984700921091196, 0.003984700921091196, 0.7523047955089628, 0.008858088424832194, 0.0009490809026605923, 0.008225367823058466, 0.10376617869089141, 0.04650496423036902, 0.015185294442569476, 0.011705331132813971, 0.0022145221062080485, 0.04998492754012453, 0.025190399606206143, 0.005359659490682158, 0.0016078978472046476, 0.002947812719875187, 0.9604509807302428, 0.0005359659490682158, 0.0004019744618011619, 0.0004019744618011619, 0.0021438637962728634, 0.0009379404108693778, 0.023990420426410867, 0.0010904736557459487, 0.02835231504939466, 0.0021809473114918973, 0.07415220859072451, 0.1210425757878003, 0.021809473114918973, 0.7088078762348665, 0.01635710483618923, 0.0010904736557459487, 0.5938262215499114, 0.08128604835970098, 0.04015628137530138, 0.06425005020048222, 0.016305883952395107, 0.06619702141867864, 0.014358912734198676, 0.04891765185718532, 0.017035998159218767, 0.057922393741343815, 0.07407241639268927, 0.0326724253575004, 0.029763236798270917, 0.14769726531472785, 0.4314550417072656, 0.008727565677688464, 0.19939130817488263, 0.016112428943424857, 0.043637828388442323, 0.0163362126787502, 0.0015969168614692495, 0.04151983839820049, 0.07026434190464698, 0.0015969168614692495, 0.012775334891753996, 0.004790750584407749, 0.7074341696308776, 0.004790750584407749, 0.1485132681166402, 0.006387667445876998, 0.03376885013937927, 0.0067537700278758545, 0.0742914703066344, 0.8847438736517369, 0.02912310474994965, 0.07361036712388849, 0.10410936658643419, 0.2552284691865666, 0.02751789425192093, 0.025683367968459537, 0.005044947279518837, 0.11947352421042337, 0.08392957746835884, 0.2763255214463727, 0.09982839030063613, 0.04513199681256304, 0.13449932824936006, 0.17395246453583899, 0.017335468974361962, 0.3284772483245482, 0.05678860526084091, 0.012553270636606937, 0.028693190026530143, 0.10281726426173302, 0.003222880811723305, 0.011049877068765616, 0.003222880811723305, 0.7748726294471888, 0.007826996257042312, 0.16022321749710144, 0.008747819346106113, 0.028545515760977844, 0.0018416461781276027, 0.38280225303462595, 0.11047712691206563, 0.04641229389124481, 0.07973394078752313, 0.07814719569722416, 0.05712282325076284, 0.035503421395439404, 0.02042934303759921, 0.06803169574656824, 0.12138599940787104, 0.7943606988280976, 0.01865707151719109, 0.06529975031016881, 0.015069173148500495, 0.020809810538405447, 0.03516140401316782, 0.015069173148500495, 0.007893376411119308, 0.01865707151719109, 0.007893376411119308, 0.007563500278113791, 0.05042333518742527, 0.007563500278113791, 0.9303105342079963, 0.005042333518742527, 0.0026675154101388145, 0.0017783436067592094, 0.9940940761783981, 0.9912321383511168, 0.10600420579212184, 0.12461563123654018, 0.043696390173851754, 0.09872147409647988, 0.015374655801910803, 0.012947078570030149, 0.07039973972453893, 0.02832173437194095, 0.4507201727191746, 0.04855154463761306, 0.7363143522855212, 0.017448207400130835, 0.018611421226806226, 0.01279535209342928, 0.044202125413664785, 0.020937848880157, 0.055834263680418675, 0.017448207400130835, 0.07677211256057567, 0.1852830766300054, 0.03646528635803298, 0.03547973807808614, 0.00689883795962786, 0.012812127639308883, 0.02759535183851144, 0.09855482799468372, 0.0009855482799468371, 0.593300064527996, 0.002956644839840512, 0.1127774464570614, 0.5257027425400028, 0.11810551479361549, 0.0994572756156762, 0.014208182230810886, 0.011544148062533845, 0.010656136673108165, 0.015984205009662248, 0.0772569908800342, 0.013320170841385206, 0.000787535450389836, 0.002362606351169508, 0.038589237069101966, 0.032288953465983275, 0.14096884561978065, 0.04646459157300032, 0.04646459157300032, 0.13545609746705178, 0.11025496305457703, 0.4457450649206472, 0.013306355769397578, 0.03121875776666355, 0.16428231546063932, 0.0020471316568303967, 0.07472030547430947, 0.08239704918742347, 0.5138300458644295, 0.0020471316568303967, 0.054760771820213106, 0.061925732619119496, 0.030396272863036308, 0.12158509145214523, 0.7134184042559698, 0.13052517170597944, 0.9899040460217372, 0.025950936271144007, 0.030442444471918934, 0.31390651758749194, 0.07685469587992648, 0.013973581069077543, 0.0928245028160151, 0.10180751921756495, 0.03443489620594109, 0.2919480330503701, 0.017966032803099698, 0.0009647615718672534, 0.00289428471560176, 0.1263837659146102, 0.01929523143734507, 0.006753331003070774, 0.7872454426436788, 0.009647615718672535, 0.0009647615718672534, 0.0434142707340264, 0.00289428471560176, 0.008554606089362054, 0.0740584470021915, 0.2072658846794006, 0.027130322169119654, 0.11854239866687416, 0.14860572863806082, 0.10876570599331753, 0.09043440723039885, 0.2070214673625617, 0.009532275356717716, 0.3672667410914472, 0.006755742729106888, 0.006755742729106888, 0.019653069757401855, 0.007984059588944504, 0.47290199103748215, 0.06356539749659663, 0.011054851738538544, 0.005527425869269272, 0.03899906029984431, 0.04297778336370172, 0.9526741978953882, 0.9935125915596712, 0.9938101811573083, 0.04045844091474319, 0.029669523337478337, 0.09440302880106743, 0.8334438828437096, 0.04126326683136541, 0.0017193027846402252, 0.1427021311251387, 0.006877211138560901, 0.801195097642345, 0.005157908353920676, 0.07657161560930749, 0.003480527982241249, 0.003480527982241249, 0.9118983313472073, 0.051970014577599144, 0.002998270071784566, 0.0034979817504153274, 0.07370747259803725, 0.05471842881006833, 0.1858927444506431, 0.5356909194921758, 0.001998846714523044, 0.0022487025538384248, 0.08744954376038318, 0.007085012243631933, 0.1504721647933258, 0.0003373815354110444, 0.0037111968895214885, 0.8097156849865066, 0.0010121446062331333, 0.015519550628908044, 0.002361670747877311, 0.004048578424932533, 0.005398104566576711, 0.00730391359830673, 0.004260616265678926, 0.0870383037131552, 0.012173189330511217, 0.02982431385975248, 0.5922256609293707, 0.037736886924584774, 0.0559966709203516, 0.15033888823181352, 0.023129059727971312, 0.006281515184904844, 0.004187676789936563, 0.006281515184904844, 0.05653363666414359, 0.05443979826917531, 0.7726263677432957, 0.1005042429584775, 0.014428254135803752, 0.028856508271607503, 0.9450506458951458, 0.003607063533950938, 0.007214127067901876, 0.9865553634939119, 0.009184779921339778, 0.04362770462636394, 0.9368475519766574, 0.006888584941004833, 0.3249691227602258, 0.2749738731048065, 0.04437780587391157, 0.09886701055453716, 0.059825776273058, 0.09437305552933092, 0.0053365715924324035, 0.045220422441137734, 0.029772452041991304, 0.022188902936955784, 0.011345934502424302, 0.9814233344597021, 0.9839501163068617, 0.008864415462223978, 0.037151180502673374, 0.0906009434194228, 0.13206645456111632, 0.08724535292240715, 0.1059407856914944, 0.08868346313541386, 0.17520976095131766, 0.09946928973296419, 0.10234551015897762, 0.08101354199937807, 0.994224375528982, 0.3565310143245216, 0.004342265507214704, 0.0375295804552128, 0.058930746169342414, 0.034893204968689584, 0.2734076460435544, 0.10297372488537726, 0.005117670062074473, 0.0029465373084671207, 0.12328932422270321, 0.9947358221838914, 0.08806707255773778, 0.29220580978362365, 0.15255133070670895, 0.15199860849400348, 0.06282609151085478, 0.040717203002636086, 0.043849295541300404, 0.060983684135169886, 0.03390029571260199, 0.07314357281469017, 0.12525071944795363, 0.026656858658019283, 0.08946479960568116, 0.22603555492210872, 0.021179421947467376, 0.024831046421168648, 0.22895685450106973, 0.09713321100045383, 0.11466100847421994, 0.045645305921265894, 0.9932579777143058, 0.9532743809794121, 0.039904508971231205, 0.0035717954712501093, 0.9929591410075304, 0.9429590476782967, 0.04055737839476545, 0.01900692062279108, 0.00271527437468444, 0.00271527437468444, 0.8878947205218118, 0.0135763718734222, 0.05702076186837324, 0.01629164624810664, 0.060036697679121315, 0.012140384849240599, 0.14801291117567306, 0.28371913086033507, 0.08498269394468419, 0.05720948476902419, 0.09363063931674599, 0.0693498696182648, 0.1386997392365296, 0.05222028551591162, 0.8900997669690475, 0.03689532712825067, 0.06917873836547002, 0.006172818181653208, 0.018518454544959623, 0.8641945454314491, 0.09876509090645133, 0.006172818181653208, 0.9616629105550725, 0.036191614913362945, 0.01069448975663906, 0.03564829918879687, 0.9304206088275983, 0.007129659837759373, 0.014259319675518746, 0.010422609187316651, 0.9901478727950819, 0.005641929230917832, 0.9628892554099766, 0.013164501538808274, 0.011283858461835664, 0.005641929230917832, 0.0018806430769726106, 0.008624087436542829, 0.9831459677658825, 0.009451572752916264, 0.1323220185408277, 0.009451572752916264, 0.004200699001296117, 0.035705941511017, 0.09766625178013473, 0.023103844507128646, 0.05880978601814564, 0.053558912266525496, 0.574445588427244, 0.004784502510963869, 0.9903920197695208, 0.9885016614838005, 0.004893572581602972, 0.0031296958003952714, 0.012518783201581085, 0.7558215357954581, 0.06259391600790543, 0.006259391600790543, 0.0031296958003952714, 0.01408363110177872, 0.06259391600790543, 0.07824239500988178, 0.22284725226347699, 0.16084539578694507, 0.09524922879003452, 0.17666036207661118, 0.06757303778311882, 0.11771366954240114, 0.03180964810535115, 0.049242054129187654, 0.03827940704203274, 0.039896846776203136, 0.055204180007434094, 0.8617985878938322, 0.03373588778232083, 0.01533449444650947, 0.03066898889301894, 0.055957905415800625, 0.9233054393607103, 0.015987972975943034, 0.0023297452428263673, 0.00931898097130547, 0.0427119961184834, 0.1071682811700129, 0.010095562718914259, 0.0357227603900043, 0.7672627666374836, 0.0038829087380439454, 0.01630821669978457, 0.0038829087380439454, 0.01004265228551255, 0.949030640980936, 0.005021326142756275, 0.025106630713781376, 0.9939126687615374, 0.002870279457327638, 0.005740558914655276, 0.029850906356207435, 0.5442049851093201, 0.002870279457327638, 0.002870279457327638, 0.30539773425966066, 0.045924471317242206, 0.05510936558069065, 0.005166503023189748, 0.0011800168316098405, 0.033040471285075534, 0.8165716474740096, 0.0011800168316098405, 0.08614122870751835, 0.009440134652878724, 0.05192074059083298, 0.8158628560900897, 0.05020694499015936, 0.10041388998031872, 0.01255173624753984, 0.02510347249507968, 0.9227368448701898, 0.07404678384760782, 0.01452247193984609, 0.05872129958285593, 0.07324377152270202, 0.08271494887477555, 0.0006314118234715692, 0.6225720579429672, 0.0018942354704147074, 0.047355886760367685, 0.04356741581953827, 0.05493282864202652, 0.019200016031968928, 0.017280014428772035, 0.03264002725434718, 0.023040019238362713, 0.024960020841559606, 0.17664014749411414, 0.6969605819604721, 0.007680006412787571, 0.9884765158097405, 0.006985699758372725, 0.5170176882338121, 0.04076689779913426, 0.026328621495274214, 0.09448577875320181, 0.05987638114247845, 0.1144445724673613, 0.03439707001801953, 0.021020431677678603, 0.04331482891158016, 0.048623018729175765, 0.36244865736653986, 0.08538932229815555, 0.0457620445714387, 0.12965912628574297, 0.08339966818635386, 0.07792811937889924, 0.04907813475777484, 0.04029049576398407, 0.050404570832309294, 0.07560685624846394, 0.019382936134235345, 0.07117668350932323, 0.07880275674246501, 0.26691256315996215, 0.08642882997560679, 0.022878219699425325, 0.2529314288992022, 0.0699056713037996, 0.0870643360783686, 0.04416767414194611, 0.005673129496920994, 0.97010514397349, 0.017019388490762982, 0.14608962719661892, 0.0385897128443899, 0.06064097732689842, 0.3721150881423312, 0.004410252896501703, 0.007166660956815267, 0.07111532795608996, 0.2359485299628411, 0.04024355768057804, 0.024256390930759365, 0.030659523252350655, 0.0025549602710292214, 0.8329170483555262, 0.010219841084116886, 0.005109920542058443, 0.0025549602710292214, 0.11497321219631496, 0.030645438024638507, 0.9500085787637937, 0.0010759652113522557, 0.0032278956340567673, 0.005379826056761279, 0.0032278956340567673, 0.0021519304227045114, 0.00753175647946579, 0.004303860845409023, 0.49386803201068535, 0.092533008176294, 0.3873474760868121, 0.8630330174370939, 0.004821413505235162, 0.13017816464134938, 0.2285610049205355, 0.14444375775647225, 0.0813558223834248, 0.21751530579798173, 0.07328396533232782, 0.05544091290358714, 0.038659946928938156, 0.03611093943911806, 0.0501304806331286, 0.07455846907723787, 0.9966195899619371, 0.004947638787114493, 0.06926694301960291, 0.9202608144032958, 0.9912101456287303, 0.13443404685524585, 0.10225568457606465, 0.18806465065388114, 0.12323120961730868, 0.06793209814493806, 0.1956921143052426, 0.051485379646689894, 0.03313179523560137, 0.06697866518851787, 0.0369455270612821, 0.06786734506356035, 0.9275203825353248, 0.9891102143010813, 0.12209368567807126, 0.15247815373756093, 0.16044481304584174, 0.24103776186217105, 0.06521544363988024, 0.0881890658312017, 0.03279299296664433, 0.05113483649036065, 0.023158893338025656, 0.0635480033195424, 0.5963752850817295, 0.0402448282850852, 0.009508393495926724, 0.06346299844955743, 0.024323797315161384, 0.03316881452067461, 0.1273682477593905, 0.028304055057642337, 0.05019547264128758, 0.026977302476815353, 0.9929538745263538, 0.0023712440604272697, 0.0047424881208545395, 0.0023712440604272697, 0.0047424881208545395, 0.12804717926307257, 0.8583903498746717, 0.008100082324982664, 0.00225002286805074, 0.008550086898592813, 0.5724058176321083, 0.0337503430207611, 0.00045000457361014804, 0.0036000365888811843, 0.00045000457361014804, 0.3694537549339315, 0.030272599792934153, 0.14984936897502404, 0.03329985977222757, 0.45181855190954223, 0.0015136299896467075, 0.003027259979293415, 0.06584290454963178, 0.18617648872654502, 0.062058829575515013, 0.01589311489129043, 0.06646112622231867, 0.9304557671124615, 0.006492069848400371, 0.0020656585881273907, 0.018886021377164715, 0.7489487852381883, 0.01357432786483714, 0.0035411290082183844, 0.16849872197439145, 0.012098857444746147, 0.022132056301364902, 0.0035411290082183844, 0.0031875041876764975, 0.9562512563029493, 0.03187504187676497, 0.006375008375352995, 0.9983372613699557, 0.0028685124215686126, 0.4964916916331674, 0.004063725930555535, 0.041354387410947505, 0.2956958221233645, 0.0007171281053921532, 0.08366494562908454, 0.016015861020424755, 0.05139418088643764, 0.007649366457516301, 0.12023330217383678, 0.8731227895957195, 0.0028626976708056376, 0.040363182879993874, 0.5706518958895686, 0.049758061653785546, 0.040015224406890475, 0.18059044754066222, 0.04419072608413122, 0.029924428686892008, 0.003131626257930559, 0.012526505031722236, 0.02888055326758182, 0.0027073398805789735, 0.013536699402894868, 0.005414679761157947, 0.0027073398805789735, 0.9638129974861146, 0.013536699402894868, 0.07294470583081178, 0.5173984948464557, 0.11365803001545093, 0.05258804373849222, 0.00678555403077319, 0.03901693567694584, 0.012440182389750847, 0.03336230731796818, 0.12609821240520178, 0.024880364779501694, 0.014155842410091473, 0.9814717404330088, 0.045687661670232055, 0.017916730066757668, 0.06718773775034126, 0.016125057060081903, 0.0008958365033378834, 0.0008958365033378834, 0.009854201536716718, 0.5276477004660134, 0.2938343730948258, 0.019708403073433436, 0.010576772106118508, 0.003525590702039503, 0.01233956745713826, 0.008813976755098757, 0.11281890246526409, 0.0017627953510197514, 0.0017627953510197514, 0.6310807356650711, 0.16746555834687638, 0.05288386053059254, 0.017065674040678942, 0.023891943656950517, 0.0017065674040678941, 0.0034131348081357883, 0.9386120722373418, 0.013652539232543153, 0.0034131348081357883, 0.9679244390214975, 0.0071698106594185, 0.0215094319782555, 0.9632801087794965, 0.008757091897995423, 0.026271275693986268, 0.0903888675058757, 0.004463647778067936, 0.012275031389686825, 0.15064811250979285, 0.03682509416906047, 0.023434150834856664, 0.0278977986129246, 0.01897050305678873, 0.5925492425385185, 0.04128874194712841, 0.12140365921732739, 0.0774358475007818, 0.07415466752193511, 0.09427923805886144, 0.3436489164512096, 0.09909163536116992, 0.1270910378473283, 0.012905974583463632, 0.033249290452313084, 0.016843390558079655, 0.07161049428532622, 0.926316393819865, 0.9758668574093625, 0.004395796654997128, 0.017583186619988513, 0.9876317454839129, 0.9747586220107699, 0.0012725308381341643, 0.00890771586693915, 0.0025450616762683286, 0.0012725308381341643, 0.0012725308381341643, 0.0025450616762683286, 0.006362654190670822, 0.026799530211366572, 0.004466588368561095, 0.7340093552335399, 0.031266118579927664, 0.00297772557904073, 0.004466588368561095, 0.14441969058347542, 0.013399765105683286, 0.034243844158968396, 0.00297772557904073, 0.004182912913771221, 0.004182912913771221, 0.9913503605637793, 0.03305600038679908, 0.07145929495381566, 0.14632141347686062, 0.08847341279996224, 0.001944470610988181, 0.5075068294679153, 0.05298682414942793, 0.04520894170547521, 0.053472941802174975, 0.020902991054882695, 0.002612873881860337, 0.013064369409301684, 0.06532184704650842, 0.06532184704650842, 0.8335067683134474, 0.013919164774476491, 0.0678559282755729, 0.0008699477984047807, 0.08177509305004939, 0.682039073949348, 0.0034797911936191228, 0.018268903766500394, 0.0017398955968095614, 0.0034797911936191228, 0.127012378567098, 0.11977338257125966, 0.09426608813478769, 0.37558566880370314, 0.04066380272481038, 0.03179170031212448, 0.06912846463217764, 0.05988669128562983, 0.036227751518467424, 0.07245550303693485, 0.10092016494430212, 0.0719286111133008, 0.15951515117643578, 0.098351366216146, 0.06018516440092516, 0.049420338247914156, 0.016636549509198826, 0.09932998677551062, 0.27548168746114526, 0.10030860733487526, 0.06899274943520689, 0.017479289123009986, 0.5737319606258572, 0.21900521077653687, 0.004112773911296467, 0.10693212169370814, 0.013366515211713517, 0.008225547822592934, 0.03187399781254762, 0.023648449989954686, 0.0030845804334723504, 0.9592228857738799, 0.008414235840121754, 0.008414235840121754, 0.008414235840121754, 0.008414235840121754, 0.046658076805375835, 0.007488333314443036, 0.6727979470207281, 0.03801769221178772, 0.005184230756152871, 0.008064358954015577, 0.13075782018296686, 0.03225743581606231, 0.04953820500323854, 0.008640384593588117, 0.014503995744047935, 0.018129994680059918, 0.025381992552083888, 0.018129994680059918, 0.0036259989360119837, 0.9210037297470439, 0.034882524619683115, 0.9557811745793174, 0.0027223932096329777, 0.07622700986972338, 0.6860430888275104, 0.09936735215160368, 0.009528376233715422, 0.0013611966048164888, 0.054447864192659554, 0.029946325305962754, 0.03402991512041222, 0.0040835898144494665, 0.09672417487347218, 0.5132397604530174, 0.13189660210018933, 0.059237772171313104, 0.07451001030922975, 0.0509074604597222, 0.006016336236148987, 0.040725968367777754, 0.006941926426325754, 0.02082577927897726, 0.011094005550635791, 0.0036980018502119306, 0.0031697158716102263, 0.46964623497691516, 0.0031697158716102263, 0.015848579358051132, 0.4765139526987373, 0.0042262878288136345, 0.0031697158716102263, 0.008980861636228974, 0.031649658602428236, 0.008861904408679906, 0.0012659863440971295, 0.0037979590322913884, 0.002531972688194259, 0.002531972688194259, 0.9469577853846528, 0.0012659863440971295, 0.06303880218589243, 0.2503794678369249, 0.23498971331266943, 0.13909970435384716, 0.07961238398124443, 0.03581077495067129, 0.02545228632857629, 0.05297627038157157, 0.06777411127027871, 0.05060861583937843, 0.0042630352036214895, 0.05115642244345787, 0.9378677447967276, 0.763836516598239, 0.02398520462748094, 0.0009225078702877283, 0.0036900314811509132, 0.07195561388244281, 0.01752764953546684, 0.03228777546007049, 0.02859774397891958, 0.0018450157405754566, 0.05442796434697597, 0.9528354292514457, 0.030089539871098286, 0.9588874673949327, 0.012061477577294751, 0.024122955154589502, 0.9471547872750644, 0.04775570356008728, 0.029549764360659907, 0.09239503786009154, 0.5100455806195594, 0.13734397519743338, 0.040786998694995365, 0.0767877679512923, 0.052856620757800114, 0.019769208551145712, 0.021225887075966975, 0.019144917754793742, 0.7881682731847816, 0.0035029701030434737, 0.16814256494608673, 0.03853267113347821, 0.09623569653581636, 0.13515067764866015, 0.30500931142499177, 0.06678652163961027, 0.0799334747182737, 0.03628559049711109, 0.059424227915558736, 0.10070566058256193, 0.08387756064187273, 0.03654852955868436, 0.8469345301806043, 0.1531181071512957, 0.988478520604621, 0.00274468170869743, 0.00274468170869743, 0.15919153910445094, 0.00548936341739486, 0.001372340854348715, 0.11115960920224591, 0.006861704271743574, 0.05214895246525116, 0.006861704271743574, 0.6532342466699883, 0.0183553898506134, 0.00244738531341512, 0.00489477062683024, 0.030592316417689, 0.00244738531341512, 0.014684311880490719, 0.0061184632835378, 0.06852678877562336, 0.04650032095488728, 0.806413460770282, 0.006621254870131532, 0.0011035424783552553, 0.043038156655854955, 0.0011035424783552553, 0.003310627435065766, 0.043038156655854955, 0.003310627435065766, 0.003310627435065766, 0.8960764924244673, 0.9914096047622731, 0.00605685508234498, 0.42351394383473745, 0.0009318238588223046, 0.013045534023512264, 0.08386414729400742, 0.005125031223522676, 0.16959194230565944, 0.1444326981174572, 0.06522767011756132, 0.08852326658811895, 0.05592636045065996, 0.02849078739939281, 0.005803678914691128, 0.016883429570010555, 0.0015828215221884896, 0.0010552143481256597, 0.007386500436879617, 0.25166862202796986, 0.6220488582200764, 0.009496929133130938, 0.5841755126316293, 0.03603009907654122, 0.006192673278780522, 0.0514179538904807, 0.07862818496391026, 0.08613445560485636, 0.021205214560672696, 0.05686000010516661, 0.01632613864405774, 0.06286501661792349, 0.03638801536865173, 0.0850877652605315, 0.2801603589285667, 0.24678187866559295, 0.006839852512904461, 0.023529092644391344, 0.04787896759033122, 0.15266550808802756, 0.10615451100027723, 0.014500487327357457, 0.007172055607027361, 0.9861576459662621, 0.0035860278035136804, 0.028141183863793624, 0.08650808372943966, 0.15712160990618107, 0.20949547987490807, 0.03856384455408756, 0.08442355159138087, 0.02553551869122014, 0.1472200822504018, 0.17327673397613666, 0.04950763827889619, 0.0015040789119684754, 0.0015040789119684754, 0.010528552383779328, 0.027073420415432557, 0.046626446271022734, 0.9084636628289591, 0.003008157823936951, 0.7838701851586968, 0.07418329828000285, 0.022254989484000856, 0.004945553218666857, 0.069237745061336, 0.017309436265334, 0.01978221287466743, 0.004945553218666857, 0.26099101807617353, 0.09241942215437104, 0.09349198798208135, 0.05934864246663672, 0.0759734127961464, 0.1476565622814516, 0.06524775451904338, 0.02895927734817816, 0.06024244732306197, 0.11565834842142758, 0.23802499724322418, 0.1300082186029567, 0.036005592880089164, 0.20676265611979347, 0.03665239993781532, 0.059506249310806045, 0.09486503513316906, 0.07869485869001525, 0.055409804611873746, 0.06424950106746449, 0.29492197169269796, 0.11897296415434522, 0.2447131978293963, 0.030780161368371882, 0.06461650897190126, 0.0764046558789373, 0.008731960671878548, 0.02816057316680832, 0.08077063621487657, 0.05195516599767736, 0.018240280833528986, 0.009120140416764493, 0.9758550245938007, 0.011419191513327818, 0.6686571030581956, 0.019031985855546364, 0.2258462321524835, 0.03425757453998345, 0.006343995285182122, 0.00888159339925497, 0.025375981140728487, 0.0012687990570364243, 0.8981789037337644, 0.06909068490259726, 0.023030228300865756, 0.040639828008295076, 0.010903368490030386, 0.08821816323751858, 0.0019824306345509793, 0.03271010547009116, 0.038657397373744094, 0.09416545514117151, 0.43415230896666446, 0.09317423982389603, 0.16454174266773128, 0.003362613658478078, 0.013450454633912312, 0.006725227316956156, 0.08070272780347387, 0.8810047785212565, 0.003362613658478078, 0.010087840975434234, 0.0036345294189636763, 0.025441705932745733, 0.05088341186549147, 0.9086323547409191, 0.007269058837927353, 0.9666247451292633, 0.01726115616302256, 0.06071616135106052, 0.012143232270212103, 0.8621694911850594, 0.04857292908084841, 0.9893823937793665, 0.9970739543939674, 0.9966837713036251, 0.021289295144464395, 0.9651147132157193, 0.0035482158574107327, 0.0035482158574107327, 0.008836786137003137, 0.9808832612073481, 0.4274490549789778, 0.04431673041916879, 0.11242914367424595, 0.07553491982774582, 0.10631649120263645, 0.10849958137106841, 0.0436618033686392, 0.016154867246396504, 0.014626704128494133, 0.051084309941307866, 0.7639756938283039, 0.0647437028668054, 0.051794962293444324, 0.07769244344016649, 0.008632493715574055, 0.03021372800450919, 0.39710872955297555, 0.02783123269209471, 0.045015617978488756, 0.09712913422744462, 0.007284685067058347, 0.29736458017325357, 0.04987207468986099, 0.015503304117072892, 0.05827748053646677, 0.004482883118189752, 0.9879448219468724, 0.20152280457956356, 0.041760836230621566, 0.23086246900825666, 0.13770368049379317, 0.10236758829865183, 0.14991069416120562, 0.05568111497416209, 0.022058287855148826, 0.024414027334824916, 0.03383698525352927, 0.11872340811912457, 0.1007070154473508, 0.11595165540039015, 0.3413875431907901, 0.04342412592683934, 0.02402185689569836, 0.07391340583291803, 0.06467423010380327, 0.0919297985046918, 0.02402185689569836, 0.012284154317323822, 0.11241862435853922, 0.08077762081391725, 0.698335560584833, 0.0003722471005249643, 0.0033502239047246787, 0.031641003544621966, 0.015262131121523536, 0.04355291076142082, 0.0018612355026248215, 0.18178102505876886, 0.11219494611810284, 0.22892811477581435, 0.026472964814383815, 0.08597410477814173, 0.10967371137387581, 0.024960223967847597, 0.02949844650745625, 0.14648373863959044, 0.05395442352645845, 0.13923614232903467, 0.02681402740965509, 0.16924817300773118, 0.035178035959455754, 0.06519006663815227, 0.24698425247058448, 0.17564417954581404, 0.02484602539793728, 0.05830205959713996, 0.058548059848604686, 0.6693954836821808, 0.011325827903607495, 0.008201461585370945, 0.049989861091784805, 0.10544736324048357, 0.08162407006392987, 0.042569491085972994, 0.0015621831591182752, 0.0023432747386774124, 0.026947659494790246, 0.019626198506173097, 0.9714968260555684, 0.004185233577332451, 0.04603756935065696, 0.9291218541678041, 0.016740934309329804, 0.6654991407510475, 0.04027584689486582, 0.06230910431382183, 0.038143596176902335, 0.025350091869121426, 0.07913019331108931, 0.01824258947590981, 0.017058005743707874, 0.03577442871249846, 0.0184795062223502, 0.9869861480627103, 0.00573829155850413, 0.00573829155850413, 0.5449272833997234, 0.047991994534803496, 0.0095983989069607, 0.017887925235699487, 0.10078318852308735, 0.037084723049620884, 0.03926617734665741, 0.02792261500206749, 0.010034689766368005, 0.16491794485596112, 0.0066464194694412365, 0.0066464194694412365, 0.9570844035995381, 0.01993925840832371, 0.020190948751034388, 0.1909727236035336, 0.22756881821478342, 0.040381897502068775, 0.03827867367383603, 0.03238964695478433, 0.27005393954508494, 0.10810570477116328, 0.05636639859663767, 0.01556385632892234, 0.002525072296975965, 0.06817695201835106, 0.9267015329901791, 0.03964218636889702, 0.04801729616514287, 0.034058779838066454, 0.012283494367827247, 0.15745206416942198, 0.40926369870988055, 0.14070184457693027, 0.07314262555388042, 0.061417471839136234, 0.024566988735654494, 0.003061795438639403, 0.009185386315918209, 0.006123590877278806, 0.021432568070475822, 0.003061795438639403, 0.03061795438639403, 0.009185386315918209, 0.9154768361531815, 0.0287774410798438, 0.08457043909178585, 0.4680738885843981, 0.26075885386633973, 0.002936473579575898, 0.005872947159151796, 0.08574502852361622, 0.01233318903421877, 0.04404710369363846, 0.006460241875066975, 0.9609719151087383, 0.02868572880921607, 0.0071714322023040174, 0.7373678327217581, 0.0038304822479052368, 0.0019152411239526184, 0.01149144674371571, 0.08810109170182044, 0.06128771596648379, 0.009576205619763092, 0.009576205619763092, 0.07469440383415211, 0.0021650531642133934, 0.02381558480634733, 0.8053997770873824, 0.05412632910533484, 0.010825265821066967, 0.012990318985280361, 0.08443707340432234, 0.004330106328426787, 0.008295636875750006, 0.9788851513385007, 0.9936718037785816, 0.9902972997425756, 0.004854398528149881, 0.00962307434615733, 0.9847612747567669, 0.0032076914487191104, 0.9883820010779502, 0.08047938893667522, 0.0028488279269619546, 0.0028488279269619546, 0.033473728141802966, 0.8161892010746, 0.018517381525252705, 0.019229588506993196, 0.004985448872183421, 0.02065400247047417, 0.1146098694089363, 0.012180759067616419, 0.005536708667098372, 0.003322025200259023, 0.8150035157968804, 0.0387569606696886, 0.004983037800388535, 0.0005536708667098372, 0.0011073417334196744, 0.0038756960669688607, 0.8231802736920524, 0.16837778325519254, 0.009257941698818837, 0.9905997617736155, 0.14946518386140767, 0.03321448530253504, 0.003774373329833527, 0.026672238197490258, 0.027930362640768102, 0.009310120880256033, 0.703794813569625, 0.015600743096645246, 0.007297121771011486, 0.02289786486765673, 0.07843238837643884, 0.19693349690171058, 0.004262629803067328, 0.0034101038424538626, 0.011082837487975054, 0.0545616614792618, 0.006820207684907725, 0.0034101038424538626, 0.020460623054723175, 0.6214914252872165, 0.04869188814982098, 0.0009363824644196342, 0.008427442179776708, 0.18540372795508755, 0.0037455298576785367, 0.0037455298576785367, 0.004681912322098171, 0.0037455298576785367, 0.7406785293559306, 0.1103972008166687, 0.24072722955856926, 0.3660740513191619, 0.01878285708339155, 0.11423043695613637, 0.044465539217824895, 0.009583090348669158, 0.0375657141667831, 0.031049212729688073, 0.026832652976273644, 0.9761370232910086, 0.008488148028617465, 0.008488148028617465, 0.9946115288399734, 0.22365872792068595, 0.03302343633728249, 0.02101491403281613, 0.012759054948495508, 0.5531425586494817, 0.01501065288058295, 0.02101491403281613, 0.006754793796262327, 0.008255859084320622, 0.10507457016408064, 0.2213429693438833, 0.12499367680595763, 0.291131105560543, 0.08037787827938665, 0.03940772865965609, 0.08315551554174126, 0.03333164714825537, 0.048435049762308585, 0.03263723783266671, 0.044963003184365316, 0.9847120414533006, 0.9986355267188055, 0.03033556525479639, 0.06446307616644233, 0.05119126636746891, 0.013271809798973421, 0.007583891313699098, 0.009479864142123871, 0.11755031536233601, 0.003791945656849549, 0.7015099465171665, 0.0018959728284247744, 0.016458301665716196, 0.004488627727013508, 0.507713669566639, 0.000997472828225224, 0.000498736414112612, 0.3660725279586572, 0.0877776088838197, 0.000997472828225224, 0.014463356009265746, 0.06770135668654027, 0.07385602547622576, 0.05231468471232658, 0.01230933757937096, 0.02615734235616329, 0.08154936146333261, 0.02154134076389918, 0.00307733439484274, 0.6262375493504976, 0.03692801273811288, 0.9772196784450676, 0.010738677785110633, 0.010738677785110633, 0.1310970125158726, 0.32997483336038524, 0.04992239176301032, 0.2577294208903378, 0.011770320009165034, 0.020293655188215576, 0.06656318901734709, 0.09578605248837752, 0.022728893810801443, 0.014205558631750903, 0.28956246727381046, 0.1873766040085356, 0.05550305836303351, 0.16220661242529946, 0.09551689113638324, 0.04990972690009214, 0.018070763187964398, 0.06389305555744555, 0.030763323046177484, 0.04732818930181151, 0.8540597850648559, 0.1113991023997638, 0.0053047191618935145, 0.021218876647574058, 0.09422282375961341, 0.014042824694942382, 0.012230847314949818, 0.004529943449981414, 0.2826684712788402, 0.4978407851529574, 0.005435932139977696, 0.0018119773799925656, 0.009512881244960969, 0.07791502733968032, 0.09919298406032477, 0.31958739551935883, 0.12337127392502893, 0.023868311789515647, 0.1103521947671113, 0.06974506691741585, 0.0037197369022621786, 0.09392335678212001, 0.049596492030162385, 0.10663245786484912, 0.013765733512433995, 0.0472823020644472, 0.22638646526426778, 0.002842923225393977, 0.021097482883186885, 0.6297823081938553, 0.025885564104903058, 0.008079887061646042, 0.0076310044471101495, 0.017207166890542493, 0.0012575108791148472, 0.21503436032863885, 0.007545065274689082, 0.003772532637344541, 0.7356438642821855, 0.0025150217582296944, 0.0025150217582296944, 0.0025150217582296944, 0.023892706703182096, 0.006287554395574236, 0.017710748401284393, 0.22880372258956594, 0.002872013254262334, 0.5935494058808823, 0.02297610603409867, 0.002393344378551945, 0.08520305987644924, 0.024890781536940226, 0.0043080198813935005, 0.017232079525574002, 0.01648233953291562, 0.9834462587972986, 0.015443189020066637, 0.0009651993137541648, 0.06949435059029987, 0.004825996568770825, 0.004825996568770825, 0.02992117872637911, 0.0009651993137541648, 0.09845033000292482, 0.00579119588252499, 0.7702290523758235, 0.14887998692893903, 0.0995496032002458, 0.12688130229317043, 0.09599426022880846, 0.033553549292939994, 0.2126539514790965, 0.032886922485795486, 0.027553908028639464, 0.11599306444314354, 0.105993662335976, 0.2785824627616867, 0.19706637860436357, 0.05329259269755746, 0.03170992275773668, 0.15008256635075373, 0.026729306617778042, 0.01195347873590074, 0.07288301618139478, 0.10060844602716455, 0.07719955016935894, 0.9933798111100743, 0.005908225872278844, 0.986673720670567, 0.9917921238989833, 0.0031188431569150418, 0.008812971032273433, 0.002350125608606249, 0.7191384362335121, 0.009400502434424996, 0.003525188412909373, 0.13748234810346555, 0.04406485516136716, 0.054640420400095285, 0.002350125608606249, 0.018213473466698427, 0.050107803204301866, 0.02063262484883018, 0.7530908069823016, 0.008842553506641506, 0.04863404428652828, 0.0471602853687547, 0.0280014194376981, 0.032422696191018854, 0.005895035671094337, 0.004421276753320753, 0.028574507758579705, 0.02066156714851148, 0.05846783895217078, 0.5789634879699919, 0.08704234671075048, 0.008352548421738682, 0.17232626217481914, 0.028574507758579705, 0.014067449973454623, 0.003516862493363656, 0.10407551067094639, 0.11478286773585857, 0.12292045910519182, 0.367476494467786, 0.025269362673192745, 0.011992239912701642, 0.08223250225852553, 0.08737203364968338, 0.04197283969445574, 0.04197283969445574, 0.04854339476704134, 0.9465961979573061, 0.0038477049524664768, 0.9955936564507009, 0.9859234402707743, 0.0014953839196243852, 0.0014953839196243852, 0.9959256904698405, 0.9484593346549469, 0.04948483485156245, 0.005275240505432595, 0.05802764555975855, 0.9337175694615694, 0.0027228473557357464, 0.0005445694711471494, 0.014703375720973032, 0.0005445694711471494, 0.005445694711471493, 0.0021782778845885974, 0.005990264182618643, 0.8762122790757633, 0.013614236778678733, 0.07787343437404236, 0.02376497174472695, 0.010926423790679058, 0.5763688549583202, 0.004916890705805576, 0.009014299627310223, 0.27452639774081133, 0.030047665424367407, 0.057363724901065054, 0.006282693679640458, 0.006829014869174411, 0.644967981470181, 0.030865865514026605, 0.026364593459897726, 0.054658303514422114, 0.030865865514026605, 0.08359505243382205, 0.05401526464954656, 0.01478989389213775, 0.00900254410825776, 0.0520861480549199, 0.9882560178668108, 0.004962997578606321, 0.007444496367909481, 0.10174145036142958, 0.047148476996760044, 0.012407493946515802, 0.04962997578606321, 0.09181545520421694, 0.6092079527739259, 0.04962997578606321, 0.026055737287683185, 0.031801137369241714, 0.048231725010016595, 0.01431051181615877, 0.022790815114623227, 0.017490625553082943, 0.05141183874694077, 0.004240151649232228, 0.012720454947696686, 0.0047701706053862565, 0.7918483204941187, 0.006300778183605068, 0.9892221748259956, 0.00563918354095867, 0.01127836708191734, 0.9812179361268085, 0.24988666299539053, 0.035170842228717, 0.16847267635484192, 0.023230124188103204, 0.14589386405986313, 0.13460445791237372, 0.01823673300748289, 0.008901262539366649, 0.023881436081227593, 0.19170280054294514, 0.03031044583725074, 0.9598307848462734, 0.008390683003540546, 0.035660402765047325, 0.08810217153717574, 0.8453613126067101, 0.0020976707508851365, 0.020976707508851365, 0.09303612307880467, 0.004045048829513247, 0.8939557913224275, 0.008090097659026494, 0.06861795256579355, 0.07469033774860713, 0.5689824916296332, 0.04979355849907142, 0.020646109621566197, 0.04007774220656968, 0.02550401776781707, 0.06983242960235626, 0.0589021362732918, 0.023682302212972992, 0.9899117061505568, 0.9953057465983012, 0.941458756550652, 0.012985638021388303, 0.019478457032082456, 0.025971276042776607, 0.003819592029878545, 0.003819592029878545, 0.003819592029878545, 0.981635151678786, 0.00763918405975709, 0.07875907610698599, 0.07831158135637811, 0.05056690681868987, 0.10471377164224274, 0.053699370072944994, 0.01700480052309925, 0.07383663385029937, 0.12574602492081285, 0.3664982007478496, 0.050119412068081994, 0.9940863268722884, 0.21205977442321566, 0.04385186693319583, 0.034034284783972885, 0.05792373468041539, 0.1109386782862193, 0.10635713994991526, 0.11944724948221253, 0.02716197727951682, 0.032398021092435725, 0.2559116413564115, 0.004536726217961192, 0.9799328630796175, 0.009073452435922384, 0.1928728098957279, 0.08438185432938095, 0.018399050944000357, 0.034260301757793765, 0.06471390332027711, 0.0019033500976552093, 0.5697361292314593, 0.014592350748689939, 0.015226800781241674, 0.0038067001953104185, 0.5940906832611044, 0.0017688791079658573, 0.0005053940308473877, 0.00454854627762649, 0.12331614352676261, 0.05635143443948373, 0.020973852280166592, 0.00454854627762649, 0.0012634850771184693, 0.19204973172200734, 0.08588271815745907, 0.43794680957858134, 0.13570570529367731, 0.03275654955364625, 0.035233935654342186, 0.09937070915013693, 0.005230037323691418, 0.06633889447419114, 0.07734949936617307, 0.023948065640060703, 0.9929874344417579, 0.710238611895639, 0.005935141603584726, 0.0013189203563521614, 0.003956761069056484, 0.16618396490037235, 0.05935141603584727, 0.008572982316289049, 0.0006594601781760807, 0.001978380534528242, 0.04154599122509309, 0.03404198362775813, 0.9021125661355903, 0.008510495906939532, 0.03829723158122789, 0.008510495906939532, 0.008510495906939532, 0.994397650429426, 0.0037305777054626285, 0.10072559804749097, 0.7401466167637856, 0.11117121562278634, 0.005968924328740206, 0.0014922310821850514, 0.002984462164370103, 0.019399004068405667, 0.013430079739665464, 0.0007461155410925257, 0.09911490170652978, 0.881021348502487, 0.011012766856281088, 0.003320792303515987, 0.8468020373965767, 0.14611486135470342, 0.03791467916481444, 0.1230438644593978, 0.39023504687559013, 0.10766338140197307, 0.015380483057424725, 0.0050075991349754915, 0.12483229272188905, 0.08262538572709562, 0.10301346791949584, 0.010015198269950983, 0.46799457831502006, 0.05261205617778085, 0.004824686374381651, 0.068924091062595, 0.1038456305343098, 0.07972219866240156, 0.0560582607309106, 0.064329151658422, 0.0257316606633688, 0.07581650016885451, 0.10381566762260196, 0.8845094881445686, 0.008305253409808156, 0.005315572171884419, 0.6538153771417836, 0.07264615301575374, 0.0708742956251256, 0.007087429562512559, 0.03189343303130652, 0.021262288687537677, 0.056699436500100474, 0.03189343303130652, 0.04961200693758792, 0.015661965440324385, 0.9710418573001119, 0.09954315577136605, 0.5073489874798657, 0.03302814385040717, 0.01926641724607085, 0.30459288217597724, 0.014220450824480865, 0.001376172660433632, 0.002752345320867264, 0.010550657063324512, 0.007339587522312704, 0.9279017965353435, 0.014728599945005454, 0.05302295980201963, 0.0428727022510827, 0.019487591932310318, 0.9354044127508953, 0.009063521690090481, 0.07837280520254711, 0.4654384962028818, 0.2015300705208354, 0.13861856702491324, 0.013861856702491324, 0.01332870836778012, 0.0554474268099653, 0.020792785053736988, 0.0031988900082672287, 0.29067396179899774, 0.13693599934461453, 0.3735636464738564, 0.043125038648406215, 0.024362846509164548, 0.05096595476629825, 0.036684286122994895, 0.007000817962403606, 0.021282486605706964, 0.015401799517287934, 0.31659801103973256, 0.03448326289833344, 0.040037613969205944, 0.13052725016550376, 0.06618935026123063, 0.07683518981373626, 0.12613005556772972, 0.029623205711320003, 0.04883200316475407, 0.13052725016550376, 0.9018987949427062, 0.09402033769672999, 0.014031540981727705, 0.15902413112624733, 0.8255223277583134, 0.03247966977341735, 0.0030933018831826044, 0.03866627353978255, 0.10671891496979985, 0.0015466509415913022, 0.0015466509415913022, 0.6526866973515295, 0.06341268860524339, 0.05877273578046948, 0.041759575422965156, 0.012271326231417018, 0.047858172302526376, 0.0024542652462834036, 0.09080781411248594, 0.020861254593408932, 0.8099075312735232, 0.0036813978694251056, 0.0036813978694251056, 0.008589928361991912, 0.009365165877509091, 0.054712284863342585, 0.08773681716824305, 0.006407745074085167, 0.010350972811983732, 0.09611617611127751, 0.07344261661836077, 0.020209042156730143, 0.07245680968388613, 0.5693035046591053, 0.08602441694059526, 0.03456338180648917, 0.013825352722595668, 0.046852584226574207, 0.26959437809061554, 0.06375023755419114, 0.46238124105569955, 0.0030723006050212597, 0.0030723006050212597, 0.01689765332761693, 0.07839450771859527, 0.013065751286432545, 0.01817843657242789, 0.20962009672580909, 0.19485011701071142, 0.051694929002841804, 0.4141275081656228, 0.002272304571553486, 0.0056807614288837145, 0.0119295990006558, 0.0402002103975324, 0.5579789203177498, 0.03296417252597657, 0.11899262277669591, 0.18331295941274775, 0.01206006311925972, 0.002412012623851944, 0.03698419356572981, 0.008844046287457127, 0.005628029455654536, 0.7409445940103999, 0.010551833398550328, 0.006948768335630704, 0.023162561118769014, 0.0975401184890384, 0.05636223205567127, 0.010809195188758874, 0.0056619593845879815, 0.006176682965005071, 0.04169261001378423, 0.0023498051263842763, 0.14568791783582513, 0.6285728713077939, 0.08576788711302608, 0.051695712780454074, 0.01879844101107421, 0.035247076895764146, 0.021148246137458485, 0.007049415379152829, 0.0023498051263842763, 0.007861658540018992, 0.8647824394020891, 0.03144663416007597, 0.08647824394020891, 0.007805694273429988, 0.8352092872570087, 0.0663484013241549, 0.027319929957004958, 0.003902847136714994, 0.023417082820289963, 0.031222777093719952, 0.04346857213251783, 0.7695913111643496, 0.003951688375683438, 0.005433571516564728, 0.14176682047764336, 0.0034577273287230087, 0.003951688375683438, 0.0009879220939208596, 0.024204091301061062, 0.003951688375683438, 0.9493726239154381, 0.004200763822634682, 0.012602291467904045, 0.012602291467904045, 0.01680305529053873, 0.011439821230763312, 0.8694264135380118, 0.011439821230763312, 0.10295839107686981, 0.9820469900448917, 0.009178009252755998, 0.0009136747069295031, 0.09319482010680931, 0.36272885865101273, 0.012791445897013042, 0.0009136747069295031, 0.010050421776224533, 0.46962879936176455, 0.005482048241577019, 0.044770060639545646, 0.4492325504462911, 0.052029758667508294, 0.059643869692021706, 0.07944055835575657, 0.08426282867128172, 0.09923724701949142, 0.05355258087241098, 0.02106570716782043, 0.04263902173727509, 0.05913626229038747, 0.040031671446503256, 0.07547638053976134, 0.3594510498633938, 0.35778306355312284, 0.014594880214870978, 0.006254948663516133, 0.05045658588569681, 0.040448668024070995, 0.02043283230081937, 0.03502771251569035, 0.004763143133894423, 0.03413585912624337, 0.03532664490971698, 0.13455879353251748, 0.17703015314307607, 0.023418787074980917, 0.2921394455455247, 0.16988543844223444, 0.07422564716985477, 0.054776146039785874, 0.03867348622788143, 0.029632931005779278, 0.022099134987360818, 0.045705029178405326, 0.018081110444204306, 0.04118475156735425, 0.035659967820514046, 0.20441699863308757, 0.2209913498736082, 0.3435410984398818, 0.01694200018817255, 0.9572230106317491, 0.01694200018817255, 0.01646931643296216, 0.9771794416890882, 0.9309756460546498, 0.005782457428910868, 0.017347372286732606, 0.005782457428910868, 0.04047720200237608, 0.9806088591960711, 0.0919589659158652, 0.08310845511175612, 0.2592552067252444, 0.19946029226821466, 0.03712897215382351, 0.07037235419852596, 0.059579048339856326, 0.060010780574203115, 0.12412301737470069, 0.014894762084964082, 0.2178466074437219, 0.1108037857250272, 0.3170781962261875, 0.1400235830049952, 0.06393638810765277, 0.04513156807599019, 0.012150806789689666, 0.01996203972591874, 0.03471659082768476, 0.038477554834017276, 0.8386763949139806, 0.008471478736504855, 0.1270721810475728, 0.008471478736504855, 0.008471478736504855, 0.1677676696058108, 0.37290007631759287, 0.0609045214827331, 0.08705983745691297, 0.22867219108854392, 0.025781668603120148, 0.013824952729209354, 0.005978357936955396, 0.014945894842388492, 0.022045194892523025, 0.987973451448805, 0.007484647359460644, 0.884919824246023, 0.010055907093704807, 0.09050316384334325, 0.34096394401125263, 0.06629194451507978, 0.1026455915072203, 0.23974398571941039, 0.010692249115335449, 0.061539833797152915, 0.03421519716907343, 0.019958865015292836, 0.09789348078929344, 0.02613660894859776, 0.9964222856747013, 0.7629323511241931, 0.01968857680320498, 0.07383216301201868, 0.024610721004006228, 0.004922144200801245, 0.014766432602403737, 0.004922144200801245, 0.08859859561442242, 0.11159318112059444, 0.0006487975646546189, 0.0006487975646546189, 0.8862574733182094, 0.0006487975646546189, 0.02805010462016351, 0.9649235989336248, 0.017072998419985077, 0.06629644841007191, 0.0957861729536825, 0.010421180853757124, 0.05077554075554003, 0.6352485775747694, 0.01951199819426866, 0.011529817114795116, 0.08469981034330258, 0.008425635583888738, 0.017434008748068084, 0.24587964061930506, 0.0012023454309012473, 0.12444275209827908, 0.437653736848054, 0.0024046908618024945, 0.03967739921974116, 0.08717004374034043, 0.028856290341629932, 0.01502931788626559, 0.019232865682407466, 0.9770295766662992, 0.4523615803747163, 0.06454960584084922, 0.06377809660769167, 0.00874377130911902, 0.15275882816519698, 0.09335261721206482, 0.03163187855945998, 0.0023145276994726814, 0.01928773082893901, 0.11135449931907457, 0.0019807668396560857, 0.0019807668396560857, 0.0138653678775926, 0.005942300518968257, 0.003961533679312171, 0.0019807668396560857, 0.8140951710986511, 0.15449981349317468, 0.12541901355190224, 0.13041759742534761, 0.22607231609446146, 0.16904301826560736, 0.0213575856410848, 0.04612329665042782, 0.027946628019717347, 0.061119048270763955, 0.16086351738178767, 0.03158196174585944, 0.146696399863648, 0.3893388099651381, 0.12321487630543929, 0.16235074890245382, 0.023481523558208716, 0.012119496030043208, 0.018431733545690714, 0.05378026363331674, 0.05378026363331674, 0.01641181754068351, 0.11516087641177591, 0.8806419960900511, 0.010990787813412175, 0.025645171564628408, 0.0036635959378040583, 0.9561985397668593, 0.058992382971898426, 0.5342887368349175, 0.20191701813958732, 0.02637870783296271, 0.02062335339667994, 0.07769728488981745, 0.0014388386090706934, 0.018225289048228784, 0.02637870783296271, 0.03405251374800641, 0.11817427105853848, 0.041104094281230776, 0.2373761444741077, 0.0212371153786359, 0.02808779775884103, 0.4309079217149026, 0.019866978902594874, 0.03185567306795385, 0.03391087778201539, 0.03767875309112821, 0.015331463755276522, 0.9761031924192719, 0.9605590487406965, 0.0055523644435878415, 0.0055523644435878415, 0.022209457774351366, 0.014126173226008287, 0.007063086613004144, 0.8546334801735014, 0.007063086613004144, 0.12007247242107044, 0.5138778573707231, 0.019924535586167788, 0.043571237160960334, 0.045322844685019036, 0.0862666705598913, 0.17165753735775327, 0.047293403149585085, 0.017735026181094408, 0.02255194687225585, 0.03174788637356406, 0.8714330279727122, 0.01970747944726435, 0.00249175027494147, 0.005889591558952565, 0.03647016311505242, 0.02355836623581026, 0.004756977797615533, 0.010193523852033285, 0.0022652275226740636, 0.023105320731275445, 0.006958732396923616, 0.036185408464002804, 0.0027834929587694465, 0.0013917464793847232, 0.044535887340311144, 0.011133971835077786, 0.0027834929587694465, 0.10438098595385424, 0.04175239438154169, 0.748759605908981, 0.9474198851814201, 0.03266965121315241, 0.9504165414049935, 0.04132245832195624, 0.006121845677326851, 0.004548243153331978, 0.01023354709499695, 0.15691438878995323, 0.005685303941664973, 0.06708658651164667, 0.03183770207332384, 0.08982780227830656, 0.5264591449981765, 0.1034725317383025, 0.002274121576665989, 0.0017397539244498937, 0.0028995898740831563, 0.040594258237164185, 0.00463934379853305, 0.01391803139559915, 0.0005799179748166313, 0.9035122047643115, 0.030735652665281457, 0.0011598359496332626, 0.7216597153820865, 0.04438779995405691, 0.002863729029293994, 0.027205425778292946, 0.09163932893740781, 0.041524070924762915, 0.008591187087881983, 0.0042955935439409915, 0.014318645146469971, 0.04725152898335091, 0.029237698507470877, 0.964844050746539, 0.04144424183266429, 0.051034644901379995, 0.0688453934575663, 0.01267303262651718, 0.051034644901379995, 0.05617236083104912, 0.04658195776233342, 0.6072780228868908, 0.02260595009054416, 0.042471785018598114, 0.9937179412329483, 0.023929038760980778, 0.03622901195587744, 0.03913627834739847, 0.4781335034670739, 0.045621718759253076, 0.006485440411854604, 0.23437039833184914, 0.02415267463725163, 0.08900707875579766, 0.022587223503355687, 0.0016572079964028788, 0.06684072252158278, 0.46788505765107946, 0.12152858640287778, 0.02817253593884894, 0.10937572776259001, 0.04750662923021586, 0.01822928796043167, 0.10329929844244612, 0.035353770589928085, 0.8180642388542632, 0.019712391297693088, 0.1576991303815447, 0.047909493919578855, 0.0047909493919578855, 0.014372848175873656, 0.9294441820398297, 0.00880241678442685, 0.014670694640711418, 0.04254501445806311, 0.04694622285027653, 0.7702114686373495, 0.10122779302090879, 0.004401208392213425, 0.00880241678442685, 0.0014670694640711416, 0.0051037318817401985, 0.0051037318817401985, 0.9135680068314955, 0.06124478258088238, 0.015311195645220595, 0.9845813066134422, 0.005895696446787079, 0.005895696446787079, 0.1392011734696395, 0.05641310714295917, 0.013187479591860585, 0.060076295918476, 0.5150443418376662, 0.0065937397959302925, 0.013187479591860585, 0.11502412755122844, 0.004395826530620195, 0.07619432653075005, 0.014539580470471932, 0.9828756398039026, 0.6938613899938498, 0.022178217945008898, 0.002464246438334322, 0.03133113328739352, 0.0644224426021687, 0.07075907630074267, 0.023586358766914225, 0.021826182739532567, 0.01056105616428995, 0.0587898793145474, 0.7987226635317644, 0.003126476002772276, 0.00036782070620850307, 0.0027586552965637727, 0.05259836098781594, 0.06252952005544551, 0.004965579533814791, 0.009011607302108324, 0.005701220946231797, 0.06013868546509025, 0.7585181334207867, 0.040562467027849554, 0.04461871373063451, 0.08112493405569911, 0.0365062203250646, 0.0365062203250646, 0.019412446328831313, 0.01552995706306505, 0.8890900418604741, 0.023294935594597575, 0.04658987118919515, 0.5550402650811195, 0.0692308287628063, 0.11196296099915916, 0.07448282266895023, 0.021485429616043335, 0.05872684095051845, 0.0692308287628063, 0.011220168799489297, 0.021962883607510964, 0.006445628884813001, 0.006725204612960133, 0.03885673776376966, 0.2047451182167863, 0.13226235738821596, 0.01942836888188483, 0.009714184440942415, 0.13300960234521153, 0.02465908358085382, 0.4221934007024972, 0.008966939483946845, 0.010195178429069284, 0.9364271387100138, 0.052505168909706815], \"Term\": [\"abort\", \"abort\", \"abstract\", \"abstract\", \"abstract\", \"abstract\", \"abstract\", \"abus\", \"abus\", \"abus\", \"abus\", \"abus\", \"abus\", \"abus\", \"abus\", \"abus\", \"adam\", \"adam\", \"adam\", \"adam\", \"adam\", \"adam\", \"adam\", \"adam\", \"adam\", \"adam\", \"adapt\", \"adapt\", \"adapt\", \"adapt\", \"adapt\", \"adapt\", \"adapt\", \"adapt\", \"adapt\", \"administr\", \"adventur\", \"adventur\", \"adventur\", \"adventur\", \"adventur\", \"adventur\", \"adventur\", \"adventur\", \"adventur\", \"african\", \"african\", \"african\", \"african\", \"african\", \"african\", \"akshay\", \"alex\", \"alex\", \"alex\", \"alex\", \"alex\", \"alex\", \"alex\", \"alex\", \"alien\", \"alien\", \"alien\", \"alien\", \"alien\", \"alien\", \"alien\", \"alien\", \"alien\", \"alien\", \"allen\", \"allen\", \"allen\", \"allen\", \"allen\", \"allen\", \"allen\", \"allen\", \"amaz\", \"amaz\", \"amaz\", \"amaz\", \"amaz\", \"amaz\", \"amaz\", \"amaz\", \"amaz\", \"amaz\", \"america\", \"america\", \"america\", \"america\", \"america\", \"america\", \"america\", \"america\", \"america\", \"america\", \"american\", \"american\", \"american\", \"american\", \"american\", \"american\", \"american\", \"american\", \"american\", \"american\", \"anguish\", \"anim\", \"anim\", \"anim\", \"anim\", \"anim\", \"anim\", \"anim\", \"anim\", \"anim\", \"anim\", \"anna\", \"anna\", \"anna\", \"anna\", \"anna\", \"anna\", \"anna\", \"annoy\", \"annoy\", \"annoy\", \"annoy\", \"annoy\", \"annoy\", \"annoy\", \"annoy\", \"annoy\", \"annoy\", \"anonym\", \"antholog\", \"antholog\", \"antholog\", \"anti\", \"anti\", \"anti\", \"anti\", \"anti\", \"anti\", \"anti\", \"anti\", \"anti\", \"anti\", \"anxieti\", \"ape\", \"ape\", \"ape\", \"appear\", \"appear\", \"appear\", \"appear\", \"appear\", \"appear\", \"appear\", \"appear\", \"appear\", \"appear\", \"april\", \"april\", \"april\", \"argento\", \"aristocrat\", \"aristocrat\", \"aristocrat\", \"aristocrat\", \"armi\", \"armi\", \"armi\", \"armi\", \"armi\", \"armi\", \"armi\", \"armi\", \"armi\", \"armi\", \"arnold\", \"arnold\", \"arnold\", \"arnold\", \"art\", \"art\", \"art\", \"art\", \"art\", \"art\", \"art\", \"art\", \"art\", \"arti\", \"arti\", \"artwork\", \"asham\", \"asham\", \"asham\", \"asham\", \"asham\", \"asham\", \"asham\", \"asham\", \"ashley\", \"astronaut\", \"atom\", \"atom\", \"atom\", \"atom\", \"audienc\", \"audienc\", \"audienc\", \"audienc\", \"audienc\", \"audienc\", \"audienc\", \"audienc\", \"audienc\", \"audienc\", \"austen\", \"austen\", \"australian\", \"australian\", \"australian\", \"australian\", \"australian\", \"australian\", \"australian\", \"australian\", \"auteur\", \"auteur\", \"auteur\", \"auteur\", \"avoid\", \"avoid\", \"avoid\", \"avoid\", \"avoid\", \"avoid\", \"avoid\", \"avoid\", \"avoid\", \"avoid\", \"aw\", \"aw\", \"aw\", \"aw\", \"aw\", \"aw\", \"aw\", \"aw\", \"aw\", \"aw\", \"award\", \"award\", \"award\", \"award\", \"award\", \"award\", \"award\", \"award\", \"award\", \"award\", \"away\", \"away\", \"away\", \"away\", \"away\", \"away\", \"away\", \"away\", \"away\", \"away\", \"bachelor\", \"bachelor\", \"bad\", \"bad\", \"bad\", \"bad\", \"bad\", \"bad\", \"bad\", \"bad\", \"bad\", \"bad\", \"bag\", \"bag\", \"ballet\", \"ballet\", \"ballet\", \"ballet\", \"batman\", \"batman\", \"batman\", \"battl\", \"battl\", \"battl\", \"battl\", \"battl\", \"battl\", \"battl\", \"battl\", \"battl\", \"battl\", \"bean\", \"bean\", \"bean\", \"bean\", \"bean\", \"bean\", \"beatl\", \"beatti\", \"beatti\", \"beauti\", \"beauti\", \"beauti\", \"beauti\", \"beauti\", \"beauti\", \"beauti\", \"beauti\", \"beauti\", \"beauti\", \"begin\", \"begin\", \"begin\", \"begin\", \"begin\", \"begin\", \"begin\", \"begin\", \"begin\", \"begin\", \"bela\", \"bela\", \"belushi\", \"belushi\", \"betti\", \"betti\", \"betti\", \"betti\", \"betti\", \"billi\", \"billi\", \"billi\", \"billi\", \"billi\", \"billi\", \"billi\", \"billi\", \"billi\", \"billi\", \"black\", \"black\", \"black\", \"black\", \"black\", \"black\", \"black\", \"black\", \"black\", \"black\", \"blah\", \"blah\", \"blah\", \"blah\", \"blah\", \"blair\", \"blair\", \"blair\", \"blair\", \"blair\", \"blood\", \"blood\", \"blood\", \"blood\", \"blood\", \"blood\", \"blood\", \"blood\", \"blood\", \"blood\", \"bloodi\", \"bloodi\", \"bloodi\", \"bloodi\", \"bloodi\", \"bloodi\", \"bloodi\", \"bloodi\", \"bloodi\", \"bloodi\", \"bodi\", \"bodi\", \"bodi\", \"bodi\", \"bodi\", \"bodi\", \"bodi\", \"bodi\", \"bodi\", \"bodi\", \"bogart\", \"bogart\", \"boggl\", \"boggl\", \"boll\", \"bollywood\", \"bollywood\", \"bollywood\", \"bollywood\", \"bollywood\", \"bond\", \"bond\", \"bond\", \"bond\", \"bond\", \"bond\", \"bond\", \"bond\", \"book\", \"book\", \"book\", \"book\", \"book\", \"book\", \"book\", \"book\", \"book\", \"book\", \"bore\", \"bore\", \"bore\", \"bore\", \"bore\", \"bore\", \"bore\", \"bore\", \"bore\", \"bore\", \"boy\", \"boy\", \"boy\", \"boy\", \"boy\", \"boy\", \"boy\", \"boy\", \"boy\", \"boy\", \"brain\", \"brain\", \"brain\", \"brain\", \"brain\", \"brain\", \"brain\", \"brain\", \"brain\", \"brain\", \"branagh\", \"branagh\", \"brando\", \"brando\", \"brilliant\", \"brilliant\", \"brilliant\", \"brilliant\", \"brilliant\", \"brilliant\", \"brilliant\", \"brilliant\", \"brilliant\", \"brilliant\", \"broadway\", \"broadway\", \"broadway\", \"broadway\", \"broadway\", \"broadway\", \"bronson\", \"brooklyn\", \"brooklyn\", \"brooklyn\", \"brooklyn\", \"brother\", \"brother\", \"brother\", \"brother\", \"brother\", \"brother\", \"brother\", \"brother\", \"brother\", \"brother\", \"budget\", \"budget\", \"budget\", \"budget\", \"budget\", \"budget\", \"budget\", \"budget\", \"budget\", \"budget\", \"buffalo\", \"buffalo\", \"bug\", \"bug\", \"bullock\", \"bunni\", \"bunni\", \"bunni\", \"bunni\", \"busey\", \"busey\", \"buster\", \"buster\", \"buster\", \"buster\", \"camcord\", \"camcord\", \"camcord\", \"camera\", \"camera\", \"camera\", \"camera\", \"camera\", \"camera\", \"camera\", \"camera\", \"camera\", \"camera\", \"caper\", \"caper\", \"caper\", \"care\", \"care\", \"care\", \"care\", \"care\", \"care\", \"care\", \"care\", \"care\", \"care\", \"carey\", \"carey\", \"carey\", \"cari\", \"cari\", \"carpent\", \"carpent\", \"carpent\", \"carradin\", \"carradin\", \"cartoon\", \"cartoon\", \"cartoon\", \"cartoon\", \"cartoon\", \"cartoon\", \"cartoon\", \"case\", \"case\", \"case\", \"case\", \"case\", \"case\", \"case\", \"case\", \"case\", \"case\", \"cassavet\", \"cassavet\", \"cattl\", \"cattl\", \"cattl\", \"cattl\", \"certain\", \"certain\", \"certain\", \"certain\", \"certain\", \"certain\", \"certain\", \"certain\", \"certain\", \"certain\", \"chainsaw\", \"chainsaw\", \"chan\", \"chan\", \"chan\", \"chan\", \"chang\", \"chang\", \"chang\", \"chang\", \"chang\", \"chang\", \"chang\", \"chang\", \"chang\", \"chang\", \"chaplin\", \"chaplin\", \"chaplin\", \"chaplin\", \"chaplin\", \"charli\", \"charli\", \"charli\", \"charli\", \"charli\", \"charli\", \"charli\", \"charli\", \"charli\", \"charm\", \"charm\", \"charm\", \"charm\", \"charm\", \"charm\", \"charm\", \"charm\", \"charm\", \"charm\", \"cheapli\", \"chemic\", \"child\", \"child\", \"child\", \"child\", \"child\", \"child\", \"child\", \"child\", \"child\", \"child\", \"china\", \"china\", \"china\", \"china\", \"china\", \"china\", \"christma\", \"christma\", \"christma\", \"christma\", \"christma\", \"christma\", \"christma\", \"christma\", \"christma\", \"chuck\", \"chuck\", \"chuck\", \"chuck\", \"chuck\", \"chuck\", \"chuck\", \"citi\", \"citi\", \"citi\", \"citi\", \"citi\", \"citi\", \"citi\", \"citi\", \"citi\", \"citi\", \"civil\", \"civil\", \"civil\", \"civil\", \"civil\", \"civil\", \"civil\", \"civil\", \"civil\", \"class\", \"class\", \"class\", \"class\", \"class\", \"class\", \"class\", \"class\", \"class\", \"class\", \"classic\", \"classic\", \"classic\", \"classic\", \"classic\", \"classic\", \"classic\", \"classic\", \"classic\", \"classic\", \"classmat\", \"classmat\", \"claus\", \"clint\", \"clint\", \"colleg\", \"colleg\", \"colleg\", \"colleg\", \"colleg\", \"colleg\", \"colleg\", \"colleg\", \"colleg\", \"colleg\", \"columbo\", \"columbo\", \"comic\", \"comic\", \"comic\", \"comic\", \"comic\", \"comic\", \"comic\", \"comic\", \"comic\", \"comic\", \"commando\", \"commando\", \"comment\", \"comment\", \"comment\", \"comment\", \"comment\", \"comment\", \"comment\", \"comment\", \"comment\", \"comment\", \"conan\", \"conan\", \"conneri\", \"cooki\", \"cooki\", \"corman\", \"corman\", \"corman\", \"costello\", \"costello\", \"couldn\", \"couldn\", \"couldn\", \"couldn\", \"couldn\", \"couldn\", \"couldn\", \"couldn\", \"couldn\", \"couldn\", \"countri\", \"countri\", \"countri\", \"countri\", \"countri\", \"countri\", \"countri\", \"countri\", \"countri\", \"countri\", \"cours\", \"cours\", \"cours\", \"cours\", \"cours\", \"cours\", \"cours\", \"cours\", \"cours\", \"cours\", \"crap\", \"crap\", \"crap\", \"crap\", \"crap\", \"crap\", \"crap\", \"crap\", \"crap\", \"crap\", \"crash\", \"crash\", \"crash\", \"crash\", \"crash\", \"crash\", \"crash\", \"crash\", \"crash\", \"crash\", \"creat\", \"creat\", \"creat\", \"creat\", \"creat\", \"creat\", \"creat\", \"creat\", \"creat\", \"creat\", \"creek\", \"creek\", \"creek\", \"creepi\", \"creepi\", \"creepi\", \"creepi\", \"creepi\", \"creepi\", \"creepi\", \"creepi\", \"creepi\", \"crime\", \"crime\", \"crime\", \"crime\", \"crime\", \"crime\", \"crime\", \"crime\", \"crime\", \"crime\", \"crimin\", \"crimin\", \"crimin\", \"crimin\", \"crimin\", \"crimin\", \"crimin\", \"crimin\", \"crimin\", \"crimin\", \"critiqu\", \"critiqu\", \"critiqu\", \"critiqu\", \"cube\", \"cube\", \"cube\", \"cube\", \"cube\", \"cube\", \"cultur\", \"cultur\", \"cultur\", \"cultur\", \"cultur\", \"cultur\", \"cultur\", \"cultur\", \"cultur\", \"cush\", \"cush\", \"cush\", \"cyborg\", \"cyborg\", \"dalton\", \"dalton\", \"damon\", \"damon\", \"danc\", \"danc\", \"danc\", \"danc\", \"danc\", \"danc\", \"danc\", \"danc\", \"danc\", \"danc\", \"danish\", \"danish\", \"dark\", \"dark\", \"dark\", \"dark\", \"dark\", \"dark\", \"dark\", \"dark\", \"dark\", \"dark\", \"daughter\", \"daughter\", \"daughter\", \"daughter\", \"daughter\", \"daughter\", \"daughter\", \"daughter\", \"daughter\", \"daughter\", \"davi\", \"davi\", \"davi\", \"davi\", \"davi\", \"davi\", \"davi\", \"davi\", \"dead\", \"dead\", \"dead\", \"dead\", \"dead\", \"dead\", \"dead\", \"dead\", \"dead\", \"dead\", \"death\", \"death\", \"death\", \"death\", \"death\", \"death\", \"death\", \"death\", \"death\", \"death\", \"debbi\", \"debbi\", \"decay\", \"delight\", \"delight\", \"delight\", \"delight\", \"delight\", \"delight\", \"delight\", \"delight\", \"delight\", \"delight\", \"democrat\", \"demon\", \"demon\", \"demon\", \"demon\", \"demon\", \"demon\", \"demon\", \"demon\", \"demon\", \"demon\", \"denni\", \"denni\", \"denni\", \"denni\", \"denni\", \"denni\", \"denni\", \"depardieu\", \"detect\", \"detect\", \"detect\", \"detect\", \"detect\", \"detect\", \"detect\", \"detect\", \"detect\", \"detect\", \"develop\", \"develop\", \"develop\", \"develop\", \"develop\", \"develop\", \"develop\", \"develop\", \"develop\", \"develop\", \"dian\", \"dian\", \"dian\", \"diari\", \"diaz\", \"diaz\", \"diaz\", \"differ\", \"differ\", \"differ\", \"differ\", \"differ\", \"differ\", \"differ\", \"differ\", \"differ\", \"differ\", \"dillon\", \"dillon\", \"dillon\", \"dinosaur\", \"dinosaur\", \"dinosaur\", \"dinosaur\", \"dire\", \"dire\", \"dire\", \"dire\", \"dire\", \"disappoint\", \"disappoint\", \"disappoint\", \"disappoint\", \"disappoint\", \"disappoint\", \"disappoint\", \"disappoint\", \"disappoint\", \"disappoint\", \"disney\", \"disney\", \"disney\", \"disney\", \"disney\", \"disney\", \"disney\", \"disney\", \"disney\", \"divorc\", \"divorc\", \"divorc\", \"divorc\", \"divorc\", \"divorc\", \"divorc\", \"divorc\", \"dizzi\", \"dizzi\", \"dizzi\", \"dizzi\", \"dizzi\", \"document\", \"document\", \"document\", \"document\", \"document\", \"document\", \"document\", \"document\", \"documentari\", \"documentari\", \"documentari\", \"documentari\", \"documentari\", \"documentari\", \"documentari\", \"documentari\", \"documentari\", \"documentari\", \"dori\", \"downey\", \"downey\", \"dracula\", \"dracula\", \"dream\", \"dream\", \"dream\", \"dream\", \"dream\", \"dream\", \"dream\", \"dream\", \"dream\", \"dream\", \"drew\", \"drew\", \"drew\", \"drew\", \"drivel\", \"drivel\", \"drivel\", \"duck\", \"duck\", \"duck\", \"duck\", \"duck\", \"duck\", \"duck\", \"duck\", \"dunn\", \"dunn\", \"dunn\", \"dunn\", \"dylan\", \"dylan\", \"dysfunct\", \"dysfunct\", \"dysfunct\", \"dysfunct\", \"dysfunct\", \"earth\", \"earth\", \"earth\", \"earth\", \"earth\", \"earth\", \"earth\", \"earth\", \"earth\", \"earth\", \"eastern\", \"eastern\", \"eastwood\", \"ebert\", \"ebert\", \"ebert\", \"ebert\", \"economi\", \"economi\", \"economi\", \"eddi\", \"eddi\", \"eddi\", \"eddi\", \"eddi\", \"eddi\", \"eddi\", \"eddi\", \"eddi\", \"elect\", \"element\", \"element\", \"element\", \"element\", \"element\", \"element\", \"element\", \"element\", \"element\", \"element\", \"elvi\", \"elvi\", \"elvi\", \"embarrass\", \"embarrass\", \"embarrass\", \"embarrass\", \"embarrass\", \"embarrass\", \"embarrass\", \"embarrass\", \"embarrass\", \"embarrass\", \"emot\", \"emot\", \"emot\", \"emot\", \"emot\", \"emot\", \"emot\", \"emot\", \"emot\", \"emot\", \"english\", \"english\", \"english\", \"english\", \"english\", \"english\", \"english\", \"english\", \"english\", \"english\", \"entertain\", \"entertain\", \"entertain\", \"entertain\", \"entertain\", \"entertain\", \"entertain\", \"entertain\", \"entertain\", \"entertain\", \"episod\", \"episod\", \"episod\", \"episod\", \"episod\", \"episod\", \"episod\", \"episod\", \"episod\", \"episod\", \"ernest\", \"ernest\", \"ernest\", \"errol\", \"especi\", \"especi\", \"especi\", \"especi\", \"especi\", \"especi\", \"especi\", \"especi\", \"especi\", \"especi\", \"esteem\", \"eugen\", \"event\", \"event\", \"event\", \"event\", \"event\", \"event\", \"event\", \"event\", \"event\", \"event\", \"evil\", \"evil\", \"evil\", \"evil\", \"evil\", \"evil\", \"evil\", \"evil\", \"evil\", \"evil\", \"excel\", \"excel\", \"excel\", \"excel\", \"excel\", \"excel\", \"excel\", \"excel\", \"excel\", \"excel\", \"excruci\", \"excruci\", \"excruci\", \"existenti\", \"existenti\", \"expect\", \"expect\", \"expect\", \"expect\", \"expect\", \"expect\", \"expect\", \"expect\", \"expect\", \"expect\", \"famili\", \"famili\", \"famili\", \"famili\", \"famili\", \"famili\", \"famili\", \"famili\", \"famili\", \"famili\", \"fan\", \"fan\", \"fan\", \"fan\", \"fan\", \"fan\", \"fan\", \"fan\", \"fan\", \"fan\", \"fantast\", \"fantast\", \"fantast\", \"fantast\", \"fantast\", \"fantast\", \"fantast\", \"fantast\", \"fantast\", \"fantast\", \"fart\", \"fart\", \"fascist\", \"fascist\", \"fascist\", \"fascist\", \"fascist\", \"father\", \"father\", \"father\", \"father\", \"father\", \"father\", \"father\", \"father\", \"father\", \"father\", \"favorit\", \"favorit\", \"favorit\", \"favorit\", \"favorit\", \"favorit\", \"favorit\", \"favorit\", \"favorit\", \"favorit\", \"felix\", \"felix\", \"fight\", \"fight\", \"fight\", \"fight\", \"fight\", \"fight\", \"fight\", \"fight\", \"fight\", \"fight\", \"filter\", \"filter\", \"filter\", \"find\", \"find\", \"find\", \"find\", \"find\", \"find\", \"find\", \"find\", \"find\", \"find\", \"fine\", \"fine\", \"fine\", \"fine\", \"fine\", \"fine\", \"fine\", \"fine\", \"fine\", \"fine\", \"fisher\", \"fisher\", \"flick\", \"flick\", \"flick\", \"flick\", \"flick\", \"flick\", \"flick\", \"flick\", \"flick\", \"flick\", \"flight\", \"flight\", \"flight\", \"flight\", \"flight\", \"flight\", \"flight\", \"florida\", \"florida\", \"florida\", \"florida\", \"flynn\", \"follow\", \"follow\", \"follow\", \"follow\", \"follow\", \"follow\", \"follow\", \"follow\", \"follow\", \"follow\", \"fonda\", \"fonda\", \"fonda\", \"fonda\", \"footbal\", \"footbal\", \"footbal\", \"footbal\", \"footbal\", \"footbal\", \"footbal\", \"footbal\", \"footbal\", \"forc\", \"forc\", \"forc\", \"forc\", \"forc\", \"forc\", \"forc\", \"forc\", \"forc\", \"forc\", \"ford\", \"ford\", \"ford\", \"ford\", \"ford\", \"ford\", \"ford\", \"ford\", \"ford\", \"fragment\", \"fragment\", \"franc\", \"franc\", \"franc\", \"franc\", \"franc\", \"franc\", \"franc\", \"franc\", \"franc\", \"franc\", \"frankenstein\", \"freddi\", \"freddi\", \"freddi\", \"freeman\", \"freeman\", \"freeman\", \"french\", \"french\", \"french\", \"french\", \"french\", \"french\", \"french\", \"french\", \"french\", \"fright\", \"fright\", \"fright\", \"fright\", \"fright\", \"fright\", \"frog\", \"frog\", \"frost\", \"frost\", \"fulci\", \"fulci\", \"funer\", \"funer\", \"funer\", \"funer\", \"funniest\", \"funniest\", \"funniest\", \"funniest\", \"funniest\", \"funniest\", \"funniest\", \"funniest\", \"funniest\", \"gag\", \"gag\", \"gag\", \"gag\", \"gag\", \"gag\", \"gag\", \"gag\", \"gag\", \"gag\", \"galaxi\", \"game\", \"game\", \"game\", \"game\", \"game\", \"game\", \"game\", \"game\", \"game\", \"game\", \"gangster\", \"gangster\", \"gangster\", \"gangster\", \"gangster\", \"gangster\", \"gangster\", \"gangster\", \"gangster\", \"garbag\", \"garbag\", \"garbag\", \"garbag\", \"garbag\", \"garbag\", \"garbag\", \"garbag\", \"garbag\", \"garbag\", \"genr\", \"genr\", \"genr\", \"genr\", \"genr\", \"genr\", \"genr\", \"genr\", \"genr\", \"genr\", \"gerard\", \"gerard\", \"gerard\", \"gerard\", \"german\", \"german\", \"german\", \"german\", \"german\", \"german\", \"german\", \"german\", \"german\", \"german\", \"ghost\", \"ghost\", \"ghost\", \"ghost\", \"ghost\", \"ghost\", \"ghost\", \"ghost\", \"ghost\", \"ghost\", \"giallo\", \"giallo\", \"giallo\", \"giant\", \"giant\", \"giant\", \"giant\", \"giant\", \"giant\", \"giant\", \"giant\", \"giant\", \"giant\", \"girlfriend\", \"girlfriend\", \"girlfriend\", \"girlfriend\", \"girlfriend\", \"girlfriend\", \"girlfriend\", \"girlfriend\", \"girlfriend\", \"girlfriend\", \"give\", \"give\", \"give\", \"give\", \"give\", \"give\", \"give\", \"give\", \"give\", \"give\", \"goat\", \"goat\", \"goat\", \"godzilla\", \"godzilla\", \"godzilla\", \"gore\", \"gore\", \"gore\", \"gore\", \"gore\", \"gore\", \"gore\", \"gori\", \"gori\", \"gori\", \"gori\", \"govern\", \"govern\", \"govern\", \"govern\", \"govern\", \"govern\", \"govern\", \"govern\", \"govern\", \"govern\", \"graveyard\", \"graveyard\", \"graveyard\", \"greatest\", \"greatest\", \"greatest\", \"greatest\", \"greatest\", \"greatest\", \"greatest\", \"greatest\", \"greatest\", \"greatest\", \"grisli\", \"grisli\", \"grisli\", \"guilt\", \"guilt\", \"guilt\", \"guilt\", \"guilt\", \"guilt\", \"guilt\", \"guy\", \"guy\", \"guy\", \"guy\", \"guy\", \"guy\", \"guy\", \"guy\", \"guy\", \"guy\", \"half\", \"half\", \"half\", \"half\", \"half\", \"half\", \"half\", \"half\", \"half\", \"half\", \"halloween\", \"halloween\", \"halloween\", \"hamlet\", \"hamlet\", \"hammi\", \"hammi\", \"hammi\", \"hand\", \"hand\", \"hand\", \"hand\", \"hand\", \"hand\", \"hand\", \"hand\", \"hand\", \"hand\", \"happi\", \"happi\", \"happi\", \"happi\", \"happi\", \"happi\", \"happi\", \"happi\", \"happi\", \"happi\", \"harri\", \"harri\", \"harri\", \"harri\", \"harri\", \"harri\", \"harri\", \"harri\", \"harri\", \"haunt\", \"haunt\", \"haunt\", \"haunt\", \"haunt\", \"haunt\", \"haunt\", \"haunt\", \"haunt\", \"haunt\", \"head\", \"head\", \"head\", \"head\", \"head\", \"head\", \"head\", \"head\", \"head\", \"head\", \"heart\", \"heart\", \"heart\", \"heart\", \"heart\", \"heart\", \"heart\", \"heart\", \"heart\", \"heart\", \"heather\", \"heather\", \"heather\", \"heather\", \"heist\", \"heist\", \"heist\", \"help\", \"help\", \"help\", \"help\", \"help\", \"help\", \"help\", \"help\", \"help\", \"help\", \"hero\", \"hero\", \"hero\", \"hero\", \"hero\", \"hero\", \"hero\", \"hero\", \"hero\", \"hero\", \"hilari\", \"hilari\", \"hilari\", \"hilari\", \"hilari\", \"hilari\", \"hilari\", \"hilari\", \"hilari\", \"hilari\", \"histor\", \"histor\", \"histor\", \"histor\", \"histor\", \"histor\", \"histor\", \"histor\", \"histor\", \"histor\", \"histori\", \"histori\", \"histori\", \"histori\", \"histori\", \"histori\", \"histori\", \"histori\", \"histori\", \"histori\", \"hoffman\", \"hoffman\", \"hoffman\", \"hoffman\", \"hoffman\", \"holiday\", \"holiday\", \"holiday\", \"holiday\", \"holiday\", \"holiday\", \"holiday\", \"holiday\", \"holiday\", \"holiday\", \"holm\", \"holm\", \"home\", \"home\", \"home\", \"home\", \"home\", \"home\", \"home\", \"home\", \"home\", \"home\", \"homer\", \"homicid\", \"homicid\", \"hong\", \"hong\", \"hong\", \"hong\", \"hong\", \"hong\", \"hope\", \"hope\", \"hope\", \"hope\", \"hope\", \"hope\", \"hope\", \"hope\", \"hope\", \"hope\", \"horrend\", \"horrend\", \"horrend\", \"horrend\", \"horrend\", \"horrend\", \"horrend\", \"horribl\", \"horribl\", \"horribl\", \"horribl\", \"horribl\", \"horribl\", \"horribl\", \"horribl\", \"horribl\", \"horribl\", \"horror\", \"horror\", \"horror\", \"horror\", \"horror\", \"horror\", \"horror\", \"horror\", \"horror\", \"horror\", \"hors\", \"hors\", \"hors\", \"hors\", \"hors\", \"hors\", \"hors\", \"hors\", \"hors\", \"hors\", \"hour\", \"hour\", \"hour\", \"hour\", \"hour\", \"hour\", \"hour\", \"hour\", \"hour\", \"hour\", \"hous\", \"hous\", \"hous\", \"hous\", \"hous\", \"hous\", \"hous\", \"hous\", \"hous\", \"hous\", \"howard\", \"howard\", \"howard\", \"howard\", \"howard\", \"howard\", \"howard\", \"howard\", \"howard\", \"howard\", \"hulk\", \"hulk\", \"hulk\", \"hulk\", \"human\", \"human\", \"human\", \"human\", \"human\", \"human\", \"human\", \"human\", \"human\", \"human\", \"humor\", \"humor\", \"humor\", \"humor\", \"humor\", \"humor\", \"humor\", \"humor\", \"humor\", \"humor\", \"husband\", \"husband\", \"husband\", \"husband\", \"husband\", \"husband\", \"husband\", \"husband\", \"husband\", \"idea\", \"idea\", \"idea\", \"idea\", \"idea\", \"idea\", \"idea\", \"idea\", \"idea\", \"idea\", \"imdb\", \"imdb\", \"imdb\", \"imdb\", \"imdb\", \"imdb\", \"imdb\", \"imdb\", \"imdb\", \"imdb\", \"india\", \"india\", \"india\", \"india\", \"india\", \"indian\", \"indian\", \"indian\", \"influenti\", \"inform\", \"inform\", \"inform\", \"inform\", \"inform\", \"inform\", \"inform\", \"inform\", \"inform\", \"inform\", \"insult\", \"insult\", \"insult\", \"insult\", \"insult\", \"insult\", \"insult\", \"insult\", \"insult\", \"interview\", \"interview\", \"interview\", \"interview\", \"interview\", \"interview\", \"interview\", \"interview\", \"interview\", \"interview\", \"intrigu\", \"intrigu\", \"intrigu\", \"intrigu\", \"intrigu\", \"intrigu\", \"intrigu\", \"intrigu\", \"intrigu\", \"intrigu\", \"island\", \"island\", \"island\", \"island\", \"island\", \"island\", \"island\", \"island\", \"island\", \"island\", \"jack\", \"jack\", \"jack\", \"jack\", \"jack\", \"jack\", \"jack\", \"jack\", \"jack\", \"jack\", \"jacki\", \"jacki\", \"jacki\", \"jacki\", \"jacob\", \"jame\", \"jame\", \"jame\", \"jame\", \"jame\", \"jame\", \"jame\", \"jame\", \"jame\", \"jame\", \"jane\", \"jane\", \"jane\", \"jane\", \"jane\", \"jane\", \"jane\", \"jane\", \"jane\", \"jane\", \"john\", \"john\", \"john\", \"john\", \"john\", \"john\", \"john\", \"john\", \"john\", \"john\", \"joke\", \"joke\", \"joke\", \"joke\", \"joke\", \"joke\", \"joke\", \"joke\", \"joke\", \"joke\", \"juliet\", \"juliet\", \"juliett\", \"kapoor\", \"keaton\", \"keaton\", \"keaton\", \"keaton\", \"kelli\", \"kelli\", \"kelli\", \"kelli\", \"kelli\", \"kelli\", \"khan\", \"khan\", \"khan\", \"khan\", \"kid\", \"kid\", \"kid\", \"kid\", \"kid\", \"kid\", \"kid\", \"kid\", \"kid\", \"kid\", \"killer\", \"killer\", \"killer\", \"killer\", \"killer\", \"killer\", \"killer\", \"killer\", \"killer\", \"killer\", \"king\", \"king\", \"king\", \"king\", \"king\", \"king\", \"king\", \"king\", \"king\", \"king\", \"kong\", \"kong\", \"kong\", \"kong\", \"kong\", \"kong\", \"kong\", \"korean\", \"korean\", \"korean\", \"korean\", \"korean\", \"kumar\", \"kung\", \"kung\", \"kung\", \"kung\", \"lack\", \"lack\", \"lack\", \"lack\", \"lack\", \"lack\", \"lack\", \"lack\", \"lack\", \"lack\", \"lampoon\", \"lampoon\", \"laser\", \"laser\", \"later\", \"later\", \"later\", \"later\", \"later\", \"later\", \"later\", \"later\", \"later\", \"later\", \"latin\", \"laugh\", \"laugh\", \"laugh\", \"laugh\", \"laugh\", \"laugh\", \"laugh\", \"laugh\", \"laugh\", \"laugh\", \"laurel\", \"lead\", \"lead\", \"lead\", \"lead\", \"lead\", \"lead\", \"lead\", \"lead\", \"lead\", \"lead\", \"learn\", \"learn\", \"learn\", \"learn\", \"learn\", \"learn\", \"learn\", \"learn\", \"learn\", \"learn\", \"lectur\", \"lemmon\", \"lemmon\", \"lincoln\", \"lincoln\", \"linear\", \"linear\", \"lion\", \"lion\", \"lion\", \"lion\", \"lion\", \"lion\", \"lion\", \"live\", \"live\", \"live\", \"live\", \"live\", \"live\", \"live\", \"live\", \"live\", \"live\", \"loneli\", \"loneli\", \"loneli\", \"low\", \"low\", \"low\", \"low\", \"low\", \"lowest\", \"lowest\", \"luci\", \"luci\", \"luci\", \"luci\", \"luci\", \"lui\", \"lui\", \"lynch\", \"lynch\", \"lynch\", \"lynch\", \"lynch\", \"lynch\", \"lynn\", \"lynn\", \"machin\", \"machin\", \"machin\", \"machin\", \"machin\", \"machin\", \"machin\", \"machin\", \"machin\", \"machin\", \"maci\", \"maci\", \"madonna\", \"madonna\", \"magnific\", \"magnific\", \"magnific\", \"magnific\", \"magnific\", \"magnific\", \"magnific\", \"magnific\", \"magnific\", \"main\", \"main\", \"main\", \"main\", \"main\", \"main\", \"main\", \"main\", \"main\", \"main\", \"maniac\", \"maniac\", \"maniac\", \"maniac\", \"maniac\", \"margaret\", \"margaret\", \"margaret\", \"mari\", \"mari\", \"mari\", \"mari\", \"mari\", \"mari\", \"mari\", \"mari\", \"mari\", \"mari\", \"marion\", \"marion\", \"marion\", \"marion\", \"marlon\", \"marri\", \"marri\", \"marri\", \"marri\", \"marri\", \"marri\", \"marri\", \"marri\", \"marri\", \"marri\", \"marriag\", \"marriag\", \"marriag\", \"marriag\", \"marriag\", \"marriag\", \"marriag\", \"mart\", \"mart\", \"mart\", \"mart\", \"mart\", \"martial\", \"martial\", \"match\", \"match\", \"match\", \"match\", \"match\", \"match\", \"match\", \"match\", \"match\", \"match\", \"matt\", \"matt\", \"matt\", \"matt\", \"matt\", \"matt\", \"matt\", \"matt\", \"matthau\", \"matthau\", \"mayb\", \"mayb\", \"mayb\", \"mayb\", \"mayb\", \"mayb\", \"mayb\", \"mayb\", \"mayb\", \"mayb\", \"mean\", \"mean\", \"mean\", \"mean\", \"mean\", \"mean\", \"mean\", \"mean\", \"mean\", \"mean\", \"meet\", \"meet\", \"meet\", \"meet\", \"meet\", \"meet\", \"meet\", \"meet\", \"meet\", \"meet\", \"meryl\", \"meryl\", \"meryl\", \"messag\", \"messag\", \"messag\", \"messag\", \"messag\", \"messag\", \"messag\", \"messag\", \"messag\", \"messag\", \"metal\", \"metal\", \"metal\", \"metal\", \"metal\", \"metal\", \"metal\", \"micheal\", \"micheal\", \"militari\", \"militari\", \"militari\", \"militari\", \"militari\", \"militari\", \"militari\", \"militari\", \"militari\", \"militari\", \"min\", \"min\", \"min\", \"mind\", \"mind\", \"mind\", \"mind\", \"mind\", \"mind\", \"mind\", \"mind\", \"mind\", \"mind\", \"mine\", \"minist\", \"minist\", \"minist\", \"miranda\", \"miss\", \"miss\", \"miss\", \"miss\", \"miss\", \"miss\", \"miss\", \"miss\", \"miss\", \"miss\", \"missil\", \"missil\", \"mitchum\", \"moment\", \"moment\", \"moment\", \"moment\", \"moment\", \"moment\", \"moment\", \"moment\", \"moment\", \"moment\", \"money\", \"money\", \"money\", \"money\", \"money\", \"money\", \"money\", \"money\", \"money\", \"money\", \"monitor\", \"monkey\", \"monkey\", \"monkey\", \"monkey\", \"monkey\", \"monkey\", \"monster\", \"monster\", \"monster\", \"monster\", \"monster\", \"monster\", \"monster\", \"monster\", \"monster\", \"moral\", \"moral\", \"moral\", \"moral\", \"moral\", \"moral\", \"moral\", \"moral\", \"moral\", \"moral\", \"morbid\", \"morbid\", \"mother\", \"mother\", \"mother\", \"mother\", \"mother\", \"mother\", \"mother\", \"mother\", \"mother\", \"mother\", \"mummi\", \"mummi\", \"mummi\", \"mummi\", \"muppet\", \"murder\", \"murder\", \"murder\", \"murder\", \"murder\", \"murder\", \"murder\", \"murder\", \"murder\", \"murder\", \"murphi\", \"murphi\", \"murphi\", \"mysteri\", \"mysteri\", \"mysteri\", \"mysteri\", \"mysteri\", \"mysteri\", \"mysteri\", \"mysteri\", \"mysteri\", \"mysteri\", \"nanci\", \"nanci\", \"nanci\", \"nanci\", \"nanci\", \"nanci\", \"narrat\", \"narrat\", \"narrat\", \"narrat\", \"narrat\", \"narrat\", \"narrat\", \"narrat\", \"narrat\", \"narrat\", \"natali\", \"natali\", \"nation\", \"nation\", \"nation\", \"nation\", \"nation\", \"nation\", \"nation\", \"nation\", \"nation\", \"nation\", \"nativ\", \"nativ\", \"nativ\", \"nativ\", \"nativ\", \"nativ\", \"nativ\", \"nativ\", \"nativ\", \"nativ\", \"nazi\", \"nazi\", \"nazi\", \"nazi\", \"nazi\", \"nazi\", \"nazi\", \"neill\", \"neill\", \"neill\", \"neurot\", \"neurot\", \"neurot\", \"news\", \"news\", \"news\", \"news\", \"news\", \"news\", \"news\", \"news\", \"news\", \"news\", \"night\", \"night\", \"night\", \"night\", \"night\", \"night\", \"night\", \"night\", \"night\", \"night\", \"ninja\", \"ninja\", \"niro\", \"niro\", \"niro\", \"nod\", \"noir\", \"noir\", \"noir\", \"noir\", \"noir\", \"noir\", \"noir\", \"noir\", \"nomin\", \"nomin\", \"nomin\", \"nomin\", \"nomin\", \"nomin\", \"nomin\", \"nomin\", \"nomin\", \"nomin\", \"norri\", \"norri\", \"norri\", \"novel\", \"novel\", \"novel\", \"novel\", \"novel\", \"novel\", \"novel\", \"novel\", \"novel\", \"nuclear\", \"nuclear\", \"nuclear\", \"nuclear\", \"nuclear\", \"nuclear\", \"nuditi\", \"nuditi\", \"nuditi\", \"nuditi\", \"nuditi\", \"nuditi\", \"nuditi\", \"nuditi\", \"nuditi\", \"nuditi\", \"number\", \"number\", \"number\", \"number\", \"number\", \"number\", \"number\", \"number\", \"number\", \"number\", \"offic\", \"offic\", \"offic\", \"offic\", \"offic\", \"offic\", \"offic\", \"offic\", \"offic\", \"offic\", \"opera\", \"opera\", \"opera\", \"opera\", \"opera\", \"opera\", \"opera\", \"opera\", \"opera\", \"opera\", \"orchestra\", \"orchestra\", \"orchestra\", \"orchestra\", \"orchestra\", \"oscar\", \"oscar\", \"oscar\", \"oscar\", \"oscar\", \"oscar\", \"oscar\", \"oscar\", \"oscar\", \"oscar\", \"outer\", \"outer\", \"outer\", \"outer\", \"outer\", \"outer\", \"outlaw\", \"outlaw\", \"outstand\", \"outstand\", \"outstand\", \"outstand\", \"outstand\", \"outstand\", \"outstand\", \"outstand\", \"outstand\", \"outstand\", \"pace\", \"pace\", \"pace\", \"pace\", \"pace\", \"pace\", \"pace\", \"pace\", \"pace\", \"pace\", \"parent\", \"parent\", \"parent\", \"parent\", \"parent\", \"parent\", \"parent\", \"parent\", \"parent\", \"parent\", \"pari\", \"pari\", \"pari\", \"pari\", \"pari\", \"pari\", \"pari\", \"pari\", \"particular\", \"particular\", \"particular\", \"particular\", \"particular\", \"particular\", \"particular\", \"particular\", \"particular\", \"particular\", \"passeng\", \"passeng\", \"passeng\", \"pathet\", \"pathet\", \"pathet\", \"pathet\", \"pathet\", \"pathet\", \"pathet\", \"pathet\", \"pathet\", \"pathet\", \"patti\", \"patti\", \"pauli\", \"pauli\", \"pauli\", \"payoff\", \"payoff\", \"perfect\", \"perfect\", \"perfect\", \"perfect\", \"perfect\", \"perfect\", \"perfect\", \"perfect\", \"perfect\", \"perfect\", \"philosoph\", \"philosoph\", \"philosoph\", \"philosoph\", \"pictur\", \"pictur\", \"pictur\", \"pictur\", \"pictur\", \"pictur\", \"pictur\", \"pictur\", \"pictur\", \"pictur\", \"pierr\", \"pierr\", \"pill\", \"pilot\", \"pilot\", \"pilot\", \"pilot\", \"pilot\", \"pilot\", \"pilot\", \"pilot\", \"pilot\", \"pilot\", \"plane\", \"plane\", \"plane\", \"plane\", \"plane\", \"plane\", \"plane\", \"plane\", \"plane\", \"plane\", \"planet\", \"planet\", \"planet\", \"planet\", \"planet\", \"planet\", \"planet\", \"planet\", \"planet\", \"plate\", \"polic\", \"polic\", \"polic\", \"polic\", \"polic\", \"polic\", \"polic\", \"polic\", \"polic\", \"polic\", \"polit\", \"polit\", \"polit\", \"polit\", \"polit\", \"polit\", \"polit\", \"polit\", \"polit\", \"polit\", \"poor\", \"poor\", \"poor\", \"poor\", \"poor\", \"poor\", \"poor\", \"poor\", \"poor\", \"poor\", \"portray\", \"portray\", \"portray\", \"portray\", \"portray\", \"portray\", \"portray\", \"portray\", \"portray\", \"portray\", \"powel\", \"powel\", \"powel\", \"power\", \"power\", \"power\", \"power\", \"power\", \"power\", \"power\", \"power\", \"power\", \"power\", \"presid\", \"presid\", \"presid\", \"presid\", \"presid\", \"presid\", \"presid\", \"preview\", \"preview\", \"preview\", \"preview\", \"preview\", \"preview\", \"preview\", \"preview\", \"probabl\", \"probabl\", \"probabl\", \"probabl\", \"probabl\", \"probabl\", \"probabl\", \"probabl\", \"probabl\", \"probabl\", \"problem\", \"problem\", \"problem\", \"problem\", \"problem\", \"problem\", \"problem\", \"problem\", \"problem\", \"problem\", \"product\", \"product\", \"product\", \"product\", \"product\", \"product\", \"product\", \"product\", \"product\", \"product\", \"prophet\", \"prophet\", \"prophet\", \"psycholog\", \"psycholog\", \"psycholog\", \"psycholog\", \"psycholog\", \"psycholog\", \"psycholog\", \"psycholog\", \"psycholog\", \"quentin\", \"quentin\", \"quentin\", \"race\", \"race\", \"race\", \"race\", \"race\", \"race\", \"race\", \"race\", \"race\", \"race\", \"racism\", \"racism\", \"racism\", \"racism\", \"racism\", \"racism\", \"racism\", \"racist\", \"racist\", \"racist\", \"racist\", \"racist\", \"rack\", \"rack\", \"raider\", \"raider\", \"raider\", \"raider\", \"raini\", \"ranch\", \"randolph\", \"ranger\", \"ranger\", \"ranger\", \"ranger\", \"rat\", \"rat\", \"rate\", \"rate\", \"rate\", \"rate\", \"rate\", \"rate\", \"rate\", \"rate\", \"rate\", \"rate\", \"rave\", \"rave\", \"rave\", \"rave\", \"rave\", \"rave\", \"read\", \"read\", \"read\", \"read\", \"read\", \"read\", \"read\", \"read\", \"read\", \"read\", \"reagan\", \"recommend\", \"recommend\", \"recommend\", \"recommend\", \"recommend\", \"recommend\", \"recommend\", \"recommend\", \"recommend\", \"recommend\", \"relat\", \"relat\", \"relat\", \"relat\", \"relat\", \"relat\", \"relat\", \"relat\", \"relat\", \"relat\", \"relationship\", \"relationship\", \"relationship\", \"relationship\", \"relationship\", \"relationship\", \"relationship\", \"relationship\", \"relationship\", \"relationship\", \"releas\", \"releas\", \"releas\", \"releas\", \"releas\", \"releas\", \"releas\", \"releas\", \"releas\", \"releas\", \"rememb\", \"rememb\", \"rememb\", \"rememb\", \"rememb\", \"rememb\", \"rememb\", \"rememb\", \"rememb\", \"rememb\", \"rent\", \"rent\", \"rent\", \"rent\", \"rent\", \"rent\", \"rent\", \"rent\", \"rent\", \"rent\", \"republ\", \"republ\", \"reunion\", \"reunion\", \"reunion\", \"reunion\", \"review\", \"review\", \"review\", \"review\", \"review\", \"review\", \"review\", \"review\", \"review\", \"review\", \"riddl\", \"riddl\", \"riddl\", \"ridicul\", \"ridicul\", \"ridicul\", \"ridicul\", \"ridicul\", \"ridicul\", \"ridicul\", \"ridicul\", \"ridicul\", \"ridicul\", \"ritter\", \"ritter\", \"ritter\", \"ritter\", \"robert\", \"robert\", \"robert\", \"robert\", \"robert\", \"robert\", \"robert\", \"robert\", \"robert\", \"robert\", \"robot\", \"robot\", \"robot\", \"rock\", \"rock\", \"rock\", \"rock\", \"rock\", \"rock\", \"rock\", \"rock\", \"rock\", \"rock\", \"rocket\", \"rocket\", \"rocket\", \"rocket\", \"rocket\", \"rocket\", \"rocket\", \"rocket\", \"romant\", \"romant\", \"romant\", \"romant\", \"romant\", \"romant\", \"romant\", \"romant\", \"romant\", \"romant\", \"rooney\", \"rooney\", \"rooney\", \"rubbish\", \"rubbish\", \"rubbish\", \"rubbish\", \"rubbish\", \"rubbish\", \"rubbish\", \"rubbish\", \"rubbish\", \"russel\", \"russel\", \"russel\", \"russel\", \"russel\", \"russel\", \"russel\", \"russel\", \"russo\", \"russo\", \"sandler\", \"sandra\", \"sandra\", \"santa\", \"santa\", \"santa\", \"sarandon\", \"scare\", \"scare\", \"scare\", \"scare\", \"scare\", \"scare\", \"scare\", \"scare\", \"scare\", \"scari\", \"scari\", \"scari\", \"scari\", \"scari\", \"scari\", \"scari\", \"scari\", \"scari\", \"scari\", \"scarier\", \"scarier\", \"scariest\", \"scariest\", \"school\", \"school\", \"school\", \"school\", \"school\", \"school\", \"school\", \"school\", \"school\", \"school\", \"scienc\", \"scienc\", \"scienc\", \"scienc\", \"scienc\", \"scienc\", \"scienc\", \"scienc\", \"scienc\", \"scienc\", \"scientist\", \"scientist\", \"scientist\", \"scientist\", \"scientist\", \"scientist\", \"scientist\", \"scientist\", \"scientist\", \"score\", \"score\", \"score\", \"score\", \"score\", \"score\", \"score\", \"score\", \"score\", \"score\", \"scorses\", \"scorses\", \"scorses\", \"scrape\", \"scream\", \"scream\", \"scream\", \"scream\", \"scream\", \"scream\", \"scream\", \"scream\", \"scream\", \"scream\", \"screen\", \"screen\", \"screen\", \"screen\", \"screen\", \"screen\", \"screen\", \"screen\", \"screen\", \"screen\", \"screwbal\", \"seagal\", \"sean\", \"sean\", \"sean\", \"sean\", \"sean\", \"sean\", \"sean\", \"sean\", \"sean\", \"sean\", \"season\", \"season\", \"season\", \"season\", \"season\", \"season\", \"season\", \"season\", \"season\", \"segment\", \"segment\", \"segment\", \"segment\", \"segment\", \"segment\", \"segment\", \"segment\", \"segment\", \"segment\", \"seinfeld\", \"seinfeld\", \"seinfeld\", \"self\", \"self\", \"self\", \"self\", \"self\", \"self\", \"self\", \"self\", \"self\", \"self\", \"sens\", \"sens\", \"sens\", \"sens\", \"sens\", \"sens\", \"sens\", \"sens\", \"sens\", \"sens\", \"sensual\", \"sensual\", \"sensual\", \"sensual\", \"sequel\", \"sequel\", \"sequel\", \"sequel\", \"sequel\", \"sequel\", \"sequel\", \"sequel\", \"sequel\", \"sequel\", \"sequenc\", \"sequenc\", \"sequenc\", \"sequenc\", \"sequenc\", \"sequenc\", \"sequenc\", \"sequenc\", \"sequenc\", \"sequenc\", \"seri\", \"seri\", \"seri\", \"seri\", \"seri\", \"seri\", \"seri\", \"seri\", \"seri\", \"seri\", \"serial\", \"serial\", \"serial\", \"serial\", \"serial\", \"serial\", \"serial\", \"serial\", \"serial\", \"serial\", \"sexual\", \"sexual\", \"sexual\", \"sexual\", \"sexual\", \"sexual\", \"sexual\", \"sexual\", \"sexual\", \"sexual\", \"shaw\", \"shaw\", \"ship\", \"ship\", \"ship\", \"ship\", \"ship\", \"ship\", \"ship\", \"ship\", \"ship\", \"ship\", \"short\", \"short\", \"short\", \"short\", \"short\", \"short\", \"short\", \"short\", \"short\", \"short\", \"shot\", \"shot\", \"shot\", \"shot\", \"shot\", \"shot\", \"shot\", \"shot\", \"shot\", \"shot\", \"showtim\", \"simmon\", \"simmon\", \"sinatra\", \"sinatra\", \"sing\", \"sing\", \"sing\", \"sing\", \"sing\", \"sing\", \"sing\", \"sing\", \"sing\", \"sing\", \"singer\", \"singer\", \"singer\", \"singer\", \"singer\", \"singer\", \"singer\", \"singer\", \"singer\", \"singer\", \"sister\", \"sister\", \"sister\", \"sister\", \"sister\", \"sister\", \"sister\", \"sister\", \"sister\", \"sister\", \"situat\", \"situat\", \"situat\", \"situat\", \"situat\", \"situat\", \"situat\", \"situat\", \"situat\", \"situat\", \"skate\", \"skate\", \"slasher\", \"slasher\", \"sleepwalk\", \"snake\", \"snake\", \"snake\", \"snipe\", \"snipe\", \"snowman\", \"snowman\", \"snowman\", \"soldier\", \"soldier\", \"soldier\", \"soldier\", \"soldier\", \"soldier\", \"soldier\", \"soldier\", \"soldier\", \"soldier\", \"song\", \"song\", \"song\", \"song\", \"song\", \"song\", \"song\", \"song\", \"song\", \"song\", \"sorri\", \"sorri\", \"sorri\", \"sorri\", \"sorri\", \"sorri\", \"sorri\", \"sorri\", \"sorri\", \"sorri\", \"sour\", \"south\", \"south\", \"south\", \"south\", \"south\", \"south\", \"south\", \"south\", \"south\", \"south\", \"space\", \"space\", \"space\", \"space\", \"space\", \"space\", \"space\", \"space\", \"space\", \"space\", \"spaceship\", \"spaceship\", \"spain\", \"spain\", \"spain\", \"special\", \"special\", \"special\", \"special\", \"special\", \"special\", \"special\", \"special\", \"special\", \"special\", \"specul\", \"specul\", \"spoof\", \"spoof\", \"spoof\", \"spoof\", \"spoof\", \"spoof\", \"spooki\", \"spooki\", \"spooki\", \"spooki\", \"stage\", \"stage\", \"stage\", \"stage\", \"stage\", \"stage\", \"stage\", \"stage\", \"stage\", \"stage\", \"stamp\", \"stan\", \"standout\", \"standout\", \"standout\", \"standout\", \"stanwyck\", \"stanwyck\", \"stanwyck\", \"stanwyck\", \"stanwyck\", \"state\", \"state\", \"state\", \"state\", \"state\", \"state\", \"state\", \"state\", \"state\", \"state\", \"stiller\", \"stop\", \"stop\", \"stop\", \"stop\", \"stop\", \"stop\", \"stop\", \"stop\", \"stop\", \"stop\", \"streep\", \"streep\", \"streep\", \"student\", \"student\", \"student\", \"student\", \"student\", \"student\", \"student\", \"student\", \"student\", \"student\", \"stupid\", \"stupid\", \"stupid\", \"stupid\", \"stupid\", \"stupid\", \"stupid\", \"stupid\", \"stupid\", \"stupid\", \"style\", \"style\", \"style\", \"style\", \"style\", \"style\", \"style\", \"style\", \"style\", \"style\", \"stylist\", \"suck\", \"suck\", \"suck\", \"suck\", \"suck\", \"suck\", \"suck\", \"suck\", \"suck\", \"suck\", \"sullivan\", \"sullivan\", \"sullivan\", \"sullivan\", \"sullivan\", \"sullivan\", \"sung\", \"superb\", \"superb\", \"superb\", \"superb\", \"superb\", \"superb\", \"superb\", \"superb\", \"superb\", \"superb\", \"superhero\", \"superhero\", \"superhero\", \"superman\", \"superman\", \"superman\", \"support\", \"support\", \"support\", \"support\", \"support\", \"support\", \"support\", \"support\", \"support\", \"support\", \"suppos\", \"suppos\", \"suppos\", \"suppos\", \"suppos\", \"suppos\", \"suppos\", \"suppos\", \"suppos\", \"suppos\", \"surf\", \"surf\", \"surf\", \"surreal\", \"surreal\", \"surreal\", \"surreal\", \"surreal\", \"surreal\", \"surreal\", \"surreal\", \"surreal\", \"surreal\", \"surrealist\", \"surrealist\", \"suspens\", \"suspens\", \"suspens\", \"suspens\", \"suspens\", \"suspens\", \"suspens\", \"suspens\", \"suspens\", \"suspens\", \"sutherland\", \"sutherland\", \"sutherland\", \"swedish\", \"swedish\", \"swedish\", \"tale\", \"tale\", \"tale\", \"tale\", \"tale\", \"tale\", \"tale\", \"tale\", \"tale\", \"tale\", \"talent\", \"talent\", \"talent\", \"talent\", \"talent\", \"talent\", \"talent\", \"talent\", \"talent\", \"talent\", \"talk\", \"talk\", \"talk\", \"talk\", \"talk\", \"talk\", \"talk\", \"talk\", \"talk\", \"talk\", \"tarantino\", \"tarantino\", \"tarzan\", \"tarzan\", \"tarzan\", \"teach\", \"teach\", \"teach\", \"teach\", \"teach\", \"teach\", \"teach\", \"teach\", \"teach\", \"teach\", \"teacher\", \"teacher\", \"teacher\", \"teacher\", \"teacher\", \"teacher\", \"teacher\", \"teacher\", \"teacher\", \"team\", \"team\", \"team\", \"team\", \"team\", \"team\", \"team\", \"team\", \"team\", \"team\", \"teen\", \"teen\", \"teen\", \"teen\", \"teen\", \"teen\", \"teen\", \"teen\", \"teen\", \"teen\", \"teenag\", \"teenag\", \"teenag\", \"teenag\", \"teenag\", \"teenag\", \"teenag\", \"teenag\", \"teenag\", \"teenag\", \"tension\", \"tension\", \"tension\", \"tension\", \"tension\", \"tension\", \"tension\", \"tension\", \"tension\", \"tension\", \"terribl\", \"terribl\", \"terribl\", \"terribl\", \"terribl\", \"terribl\", \"terribl\", \"terribl\", \"terribl\", \"terribl\", \"terrif\", \"terrif\", \"terrif\", \"terrif\", \"terrif\", \"terrif\", \"terrif\", \"terrif\", \"terrif\", \"terrif\", \"textur\", \"textur\", \"textur\", \"textur\", \"thread\", \"thread\", \"thread\", \"thread\", \"thread\", \"thread\", \"thread\", \"thriller\", \"thriller\", \"thriller\", \"thriller\", \"thriller\", \"thriller\", \"thriller\", \"thriller\", \"thriller\", \"thriller\", \"timeless\", \"timeless\", \"timeless\", \"timeless\", \"timeless\", \"titil\", \"titil\", \"titil\", \"titil\", \"tokyo\", \"tokyo\", \"toni\", \"toni\", \"toni\", \"toni\", \"toni\", \"toni\", \"toni\", \"toni\", \"toni\", \"total\", \"total\", \"total\", \"total\", \"total\", \"total\", \"total\", \"total\", \"total\", \"total\", \"touch\", \"touch\", \"touch\", \"touch\", \"touch\", \"touch\", \"touch\", \"touch\", \"touch\", \"touch\", \"town\", \"town\", \"town\", \"town\", \"town\", \"town\", \"town\", \"town\", \"town\", \"town\", \"train\", \"train\", \"train\", \"train\", \"train\", \"train\", \"train\", \"train\", \"train\", \"train\", \"trauma\", \"trauma\", \"trauma\", \"travolta\", \"travolta\", \"tripe\", \"tripe\", \"tripe\", \"tripe\", \"tripe\", \"tripl\", \"true\", \"true\", \"true\", \"true\", \"true\", \"true\", \"true\", \"true\", \"true\", \"true\", \"truli\", \"truli\", \"truli\", \"truli\", \"truli\", \"truli\", \"truli\", \"truli\", \"truli\", \"truli\", \"turd\", \"turd\", \"turd\", \"turd\", \"turd\", \"twist\", \"twist\", \"twist\", \"twist\", \"twist\", \"twist\", \"twist\", \"twist\", \"twist\", \"twist\", \"undead\", \"undead\", \"underdevelop\", \"underdevelop\", \"underdevelop\", \"understand\", \"understand\", \"understand\", \"understand\", \"understand\", \"understand\", \"understand\", \"understand\", \"understand\", \"understand\", \"unintellig\", \"unwatch\", \"unwatch\", \"unwatch\", \"unwatch\", \"unwatch\", \"unwatch\", \"unwatch\", \"unwatch\", \"vampir\", \"vampir\", \"vampir\", \"vampir\", \"vampir\", \"venic\", \"venic\", \"version\", \"version\", \"version\", \"version\", \"version\", \"version\", \"version\", \"version\", \"version\", \"version\", \"victim\", \"victim\", \"victim\", \"victim\", \"victim\", \"victim\", \"victim\", \"victim\", \"victim\", \"victim\", \"victoria\", \"victoria\", \"video\", \"video\", \"video\", \"video\", \"video\", \"video\", \"video\", \"video\", \"video\", \"video\", \"vietnam\", \"vietnam\", \"vietnam\", \"vietnam\", \"vietnam\", \"vietnam\", \"vietnam\", \"vietnam\", \"view\", \"view\", \"view\", \"view\", \"view\", \"view\", \"view\", \"view\", \"view\", \"view\", \"viewer\", \"viewer\", \"viewer\", \"viewer\", \"viewer\", \"viewer\", \"viewer\", \"viewer\", \"viewer\", \"viewer\", \"vinc\", \"vinc\", \"virus\", \"virus\", \"virus\", \"virus\", \"visual\", \"visual\", \"visual\", \"visual\", \"visual\", \"visual\", \"visual\", \"visual\", \"visual\", \"visual\", \"voic\", \"voic\", \"voic\", \"voic\", \"voic\", \"voic\", \"voic\", \"voic\", \"voic\", \"voic\", \"voight\", \"voight\", \"walsh\", \"walsh\", \"walsh\", \"walsh\", \"walt\", \"walt\", \"walt\", \"walt\", \"walt\", \"wasn\", \"wasn\", \"wasn\", \"wasn\", \"wasn\", \"wasn\", \"wasn\", \"wasn\", \"wasn\", \"wasn\", \"wast\", \"wast\", \"wast\", \"wast\", \"wast\", \"wast\", \"wast\", \"wast\", \"wast\", \"wast\", \"weapon\", \"weapon\", \"weapon\", \"weapon\", \"weapon\", \"weapon\", \"weapon\", \"weapon\", \"weapon\", \"weapon\", \"wendi\", \"wendi\", \"werewolf\", \"werewolf\", \"werewolf\", \"west\", \"west\", \"west\", \"west\", \"west\", \"west\", \"west\", \"west\", \"west\", \"west\", \"western\", \"western\", \"western\", \"western\", \"western\", \"western\", \"western\", \"western\", \"western\", \"whatsoev\", \"whatsoev\", \"whatsoev\", \"whatsoev\", \"whatsoev\", \"whatsoev\", \"whatsoev\", \"whatsoev\", \"whatsoev\", \"whatsoev\", \"whini\", \"whini\", \"white\", \"white\", \"white\", \"white\", \"white\", \"white\", \"white\", \"white\", \"white\", \"white\", \"whore\", \"wife\", \"wife\", \"wife\", \"wife\", \"wife\", \"wife\", \"wife\", \"wife\", \"wife\", \"wife\", \"william\", \"william\", \"william\", \"william\", \"william\", \"william\", \"william\", \"william\", \"william\", \"william\", \"wine\", \"wine\", \"wine\", \"wire\", \"wire\", \"wire\", \"wire\", \"witch\", \"witch\", \"witch\", \"witch\", \"witch\", \"witch\", \"witch\", \"witch\", \"witch\", \"wizard\", \"wizard\", \"wizard\", \"wizard\", \"wizard\", \"wong\", \"wong\", \"wong\", \"wood\", \"wood\", \"wood\", \"wood\", \"wood\", \"wood\", \"wood\", \"wood\", \"wood\", \"wood\", \"woodi\", \"woodi\", \"wors\", \"wors\", \"wors\", \"wors\", \"wors\", \"wors\", \"wors\", \"wors\", \"wors\", \"wors\", \"worst\", \"worst\", \"worst\", \"worst\", \"worst\", \"worst\", \"worst\", \"worst\", \"worst\", \"worst\", \"worthless\", \"worthless\", \"worthless\", \"worthless\", \"worthless\", \"worthless\", \"wrestl\", \"wrestl\", \"wrestl\", \"wrestl\", \"wrestl\", \"write\", \"write\", \"write\", \"write\", \"write\", \"write\", \"write\", \"write\", \"write\", \"write\", \"york\", \"york\", \"york\", \"york\", \"york\", \"york\", \"york\", \"york\", \"york\", \"york\", \"zombi\", \"zombi\", \"zombi\"]}, \"R\": 30, \"lambda.step\": 0.01, \"plot.opts\": {\"xlab\": \"PC1\", \"ylab\": \"PC2\"}, \"topic.order\": [7, 5, 9, 4, 1, 6, 2, 10, 8, 3]};\n",
              "\n",
              "function LDAvis_load_lib(url, callback){\n",
              "  var s = document.createElement('script');\n",
              "  s.src = url;\n",
              "  s.async = true;\n",
              "  s.onreadystatechange = s.onload = callback;\n",
              "  s.onerror = function(){console.warn(\"failed to load library \" + url);};\n",
              "  document.getElementsByTagName(\"head\")[0].appendChild(s);\n",
              "}\n",
              "\n",
              "if(typeof(LDAvis) !== \"undefined\"){\n",
              "   // already loaded: just create the visualization\n",
              "   !function(LDAvis){\n",
              "       new LDAvis(\"#\" + \"ldavis_el591406501647193124010592180\", ldavis_el591406501647193124010592180_data);\n",
              "   }(LDAvis);\n",
              "}else if(typeof define === \"function\" && define.amd){\n",
              "   // require.js is available: use it to load d3/LDAvis\n",
              "   require.config({paths: {d3: \"https://d3js.org/d3.v5\"}});\n",
              "   require([\"d3\"], function(d3){\n",
              "      window.d3 = d3;\n",
              "      LDAvis_load_lib(\"https://cdn.jsdelivr.net/gh/bmabey/pyLDAvis@3.3.1/pyLDAvis/js/ldavis.v3.0.0.js\", function(){\n",
              "        new LDAvis(\"#\" + \"ldavis_el591406501647193124010592180\", ldavis_el591406501647193124010592180_data);\n",
              "      });\n",
              "    });\n",
              "}else{\n",
              "    // require.js not available: dynamically load d3 & LDAvis\n",
              "    LDAvis_load_lib(\"https://d3js.org/d3.v5.js\", function(){\n",
              "         LDAvis_load_lib(\"https://cdn.jsdelivr.net/gh/bmabey/pyLDAvis@3.3.1/pyLDAvis/js/ldavis.v3.0.0.js\", function(){\n",
              "                 new LDAvis(\"#\" + \"ldavis_el591406501647193124010592180\", ldavis_el591406501647193124010592180_data);\n",
              "            })\n",
              "         });\n",
              "}\n",
              "</script>"
            ]
          },
          "metadata": {},
          "execution_count": 74
        }
      ],
      "source": [
        "# 각 토픽과 토픽의 키워드 시각화\n",
        "# lambda를 조절하면 keyword score의 weight가 변경되어 새로운 키워드를 선택함\n",
        "pyLDAvis.display(prepared_data)\n",
        "\n",
        "# 5와 10의 주제는 다소 비슷하다? 고 볼수 있음.\n",
        "# 결과인덱싱이 1~10 이다. python은 0 부터 인덱싱하므로 주의"
      ]
    },
    {
      "cell_type": "code",
      "source": [
        "# save_html 로 저장한다."
      ],
      "metadata": {
        "id": "AeKLTLYUcE_y"
      },
      "execution_count": null,
      "outputs": []
    },
    {
      "cell_type": "markdown",
      "metadata": {
        "id": "vFoRYVvSAmzR"
      },
      "source": [
        "---"
      ]
    },
    {
      "cell_type": "markdown",
      "metadata": {
        "id": "drJnGDJZFK7C"
      },
      "source": [
        "# <br>__4. Finding Optimal Number of Topics__"
      ]
    },
    {
      "cell_type": "code",
      "execution_count": null,
      "metadata": {
        "id": "Vx_E0OC0CX3o"
      },
      "outputs": [],
      "source": [
        "# num_topics_candidate에 속하는 다양한 토픽 개수를 기반으로 LDA 모델을 구축한 후, perplexity를 기준으로 최적 모델을 도출하는 함수\n",
        "def find_optimal_model(corpus, dictionary, num_topics_candidate):\n",
        "    best_perplexity = 0   # 로그취하므로 0 이 max임.\n",
        "    best_model = None\n",
        "\n",
        "    perplexity_list = []\n",
        "    for num_topics in num_topics_candidate:\n",
        "        model = LdaModel(corpus, id2word = dictionary, num_topics=num_topics, random_state=1234)\n",
        "        perplexity = model.log_perplexity (corpus)\n",
        "        perplexity_list.append (perplexity)\n",
        "        \n",
        "        if perplexity < best_perplexity:\n",
        "            best_perplexity = perplexity\n",
        "            best_model = model\n",
        "    \n",
        "    best_num_topics = num_topics_candidate[np.argmin(perplexity_list)]   # np.min 은 최소값 리턴,  np.argmin은 최소값 인덱스(위치) 리턴\n",
        "    print('Optimal number of topics: {}'.format(best_num_topics))  \n",
        "    return best_model, perplexity_list"
      ]
    },
    {
      "cell_type": "code",
      "execution_count": null,
      "metadata": {
        "colab": {
          "base_uri": "https://localhost:8080/"
        },
        "id": "BmZto-9dFphG",
        "outputId": "c723d371-4a33-4b37-b01d-e39b7d058de0"
      },
      "outputs": [
        {
          "output_type": "stream",
          "name": "stdout",
          "text": [
            "Optimal number of topics: 10\n"
          ]
        }
      ],
      "source": [
        "# 시간 관계상 두 개의 값에 대하여 최적 토픽 개수 탐색\n",
        "num_topics_candidate = [5, 10]\n",
        "optimal_lda_model, perplexity_list = find_optimal_model (corpus, dictionary, num_topics_candidate)"
      ]
    },
    {
      "cell_type": "code",
      "execution_count": null,
      "metadata": {
        "id": "uhVEmcr-INkR"
      },
      "outputs": [],
      "source": [
        "# 각 문서의 주요 토픽 도출 함수\n",
        "def format_topics_sentences(lda_model, corpus, texts):\n",
        "    # Init output\n",
        "    sent_topics_df = []\n",
        "\n",
        "    # 각 문서에서 주요 토픽 도출\n",
        "    for i, row in enumerate(lda_model[corpus]):\n",
        "        row = sorted(row, key=lambda x:x[1], reverse=True)   # key에 x[1] 확률값   이 큰것부터 소팅\n",
        "\n",
        "        # 각 문서에 대하여 주요 토픽에 대한 확률 도출    --> 각 document, 즉, 행(row)에서 제일 처음 위치한 topic\n",
        "        topic_num, prop_topic = row[0]  # => dominant topic  \n",
        "        wp = lda_model.show_topic(topic_num)   # show_topic해서 dominent word 도출    --> list형태\n",
        "        topic_keywords = \", \".join([word for word, prop in wp])   # string 형태로 형태변경,   word만 뽑아서 한번에 묶음.\n",
        "        # wp안에는 word, prob가 있는데 이중에 word만 가져와서 .join 으로 list 형태로 만듬\n",
        "\n",
        "        sent_topics_df.append([int(topic_num), round(prop_topic, 4), topic_keywords])   # dominent topic, 확률, 키워드 스트링 @ 한 문장당\n",
        "\n",
        "    sent_topics_df = pd.DataFrame(sent_topics_df, columns = ['Dominant_Topic', 'Perc_Contribution', 'Topic_Keywords'])\n",
        "\n",
        "    # 결과 정리\n",
        "    contents = pd.Series(texts)   # 데이터프레임에서 컬럼이 하나이므로 pd. Series로 만든다. 아래에서 concat 함\n",
        "    sent_topics_df = pd.concat([sent_topics_df, contents], axis=1)  # 원본데이터 옆에 붙임 (axis=1)\n",
        "    sent_topics_df.reset_index(drop=True)  # reset_index 하고나면, 원래 index가 옆에 붙는데, 이를 drop True로 없앤다.\n",
        "    sent_topics_df.columns = ['Dominant_Topic', 'Topic_Perc_Contrib', 'Keywords', 'Text']  # 'Text' 때문에 다시한번 .columns 로 네이밍\n",
        "\n",
        "    return sent_topics_df"
      ]
    },
    {
      "cell_type": "code",
      "execution_count": null,
      "metadata": {
        "colab": {
          "base_uri": "https://localhost:8080/",
          "height": 709
        },
        "id": "3lNisBgyK1Uf",
        "outputId": "bf74b318-f0f5-4084-c4dc-0425d6749d7c"
      },
      "outputs": [
        {
          "output_type": "execute_result",
          "data": {
            "text/plain": [
              "   Dominant_Topic  Topic_Perc_Contrib  \\\n",
              "0               4              0.4105   \n",
              "1               4              0.5433   \n",
              "2               4              0.2224   \n",
              "3               0              0.5128   \n",
              "4               3              0.3396   \n",
              "\n",
              "                                            Keywords  \\\n",
              "0  murder, mysteri, style, lead, thriller, viewer...   \n",
              "1  murder, mysteri, style, lead, thriller, viewer...   \n",
              "2  murder, mysteri, style, lead, thriller, viewer...   \n",
              "3  horror, killer, blood, hous, dead, zombi, gore...   \n",
              "4  famili, father, mother, wife, child, relations...   \n",
              "\n",
              "                                                Text  \n",
              "0  One of the other reviewers has mentioned that ...  \n",
              "1  A wonderful little production. <br /><br />The...  \n",
              "2  I thought this was a wonderful way to spend ti...  \n",
              "3  Basically there's a family where a little boy ...  \n",
              "4  Petter Mattei's \"Love in the Time of Money\" is...  "
            ],
            "text/html": [
              "\n",
              "  <div id=\"df-67ab5ee2-a424-4f81-94f4-568c704a61d0\">\n",
              "    <div class=\"colab-df-container\">\n",
              "      <div>\n",
              "<style scoped>\n",
              "    .dataframe tbody tr th:only-of-type {\n",
              "        vertical-align: middle;\n",
              "    }\n",
              "\n",
              "    .dataframe tbody tr th {\n",
              "        vertical-align: top;\n",
              "    }\n",
              "\n",
              "    .dataframe thead th {\n",
              "        text-align: right;\n",
              "    }\n",
              "</style>\n",
              "<table border=\"1\" class=\"dataframe\">\n",
              "  <thead>\n",
              "    <tr style=\"text-align: right;\">\n",
              "      <th></th>\n",
              "      <th>Dominant_Topic</th>\n",
              "      <th>Topic_Perc_Contrib</th>\n",
              "      <th>Keywords</th>\n",
              "      <th>Text</th>\n",
              "    </tr>\n",
              "  </thead>\n",
              "  <tbody>\n",
              "    <tr>\n",
              "      <th>0</th>\n",
              "      <td>4</td>\n",
              "      <td>0.4105</td>\n",
              "      <td>murder, mysteri, style, lead, thriller, viewer...</td>\n",
              "      <td>One of the other reviewers has mentioned that ...</td>\n",
              "    </tr>\n",
              "    <tr>\n",
              "      <th>1</th>\n",
              "      <td>4</td>\n",
              "      <td>0.5433</td>\n",
              "      <td>murder, mysteri, style, lead, thriller, viewer...</td>\n",
              "      <td>A wonderful little production. &lt;br /&gt;&lt;br /&gt;The...</td>\n",
              "    </tr>\n",
              "    <tr>\n",
              "      <th>2</th>\n",
              "      <td>4</td>\n",
              "      <td>0.2224</td>\n",
              "      <td>murder, mysteri, style, lead, thriller, viewer...</td>\n",
              "      <td>I thought this was a wonderful way to spend ti...</td>\n",
              "    </tr>\n",
              "    <tr>\n",
              "      <th>3</th>\n",
              "      <td>0</td>\n",
              "      <td>0.5128</td>\n",
              "      <td>horror, killer, blood, hous, dead, zombi, gore...</td>\n",
              "      <td>Basically there's a family where a little boy ...</td>\n",
              "    </tr>\n",
              "    <tr>\n",
              "      <th>4</th>\n",
              "      <td>3</td>\n",
              "      <td>0.3396</td>\n",
              "      <td>famili, father, mother, wife, child, relations...</td>\n",
              "      <td>Petter Mattei's \"Love in the Time of Money\" is...</td>\n",
              "    </tr>\n",
              "  </tbody>\n",
              "</table>\n",
              "</div>\n",
              "      <button class=\"colab-df-convert\" onclick=\"convertToInteractive('df-67ab5ee2-a424-4f81-94f4-568c704a61d0')\"\n",
              "              title=\"Convert this dataframe to an interactive table.\"\n",
              "              style=\"display:none;\">\n",
              "        \n",
              "  <svg xmlns=\"http://www.w3.org/2000/svg\" height=\"24px\"viewBox=\"0 0 24 24\"\n",
              "       width=\"24px\">\n",
              "    <path d=\"M0 0h24v24H0V0z\" fill=\"none\"/>\n",
              "    <path d=\"M18.56 5.44l.94 2.06.94-2.06 2.06-.94-2.06-.94-.94-2.06-.94 2.06-2.06.94zm-11 1L8.5 8.5l.94-2.06 2.06-.94-2.06-.94L8.5 2.5l-.94 2.06-2.06.94zm10 10l.94 2.06.94-2.06 2.06-.94-2.06-.94-.94-2.06-.94 2.06-2.06.94z\"/><path d=\"M17.41 7.96l-1.37-1.37c-.4-.4-.92-.59-1.43-.59-.52 0-1.04.2-1.43.59L10.3 9.45l-7.72 7.72c-.78.78-.78 2.05 0 2.83L4 21.41c.39.39.9.59 1.41.59.51 0 1.02-.2 1.41-.59l7.78-7.78 2.81-2.81c.8-.78.8-2.07 0-2.86zM5.41 20L4 18.59l7.72-7.72 1.47 1.35L5.41 20z\"/>\n",
              "  </svg>\n",
              "      </button>\n",
              "      \n",
              "  <style>\n",
              "    .colab-df-container {\n",
              "      display:flex;\n",
              "      flex-wrap:wrap;\n",
              "      gap: 12px;\n",
              "    }\n",
              "\n",
              "    .colab-df-convert {\n",
              "      background-color: #E8F0FE;\n",
              "      border: none;\n",
              "      border-radius: 50%;\n",
              "      cursor: pointer;\n",
              "      display: none;\n",
              "      fill: #1967D2;\n",
              "      height: 32px;\n",
              "      padding: 0 0 0 0;\n",
              "      width: 32px;\n",
              "    }\n",
              "\n",
              "    .colab-df-convert:hover {\n",
              "      background-color: #E2EBFA;\n",
              "      box-shadow: 0px 1px 2px rgba(60, 64, 67, 0.3), 0px 1px 3px 1px rgba(60, 64, 67, 0.15);\n",
              "      fill: #174EA6;\n",
              "    }\n",
              "\n",
              "    [theme=dark] .colab-df-convert {\n",
              "      background-color: #3B4455;\n",
              "      fill: #D2E3FC;\n",
              "    }\n",
              "\n",
              "    [theme=dark] .colab-df-convert:hover {\n",
              "      background-color: #434B5C;\n",
              "      box-shadow: 0px 1px 3px 1px rgba(0, 0, 0, 0.15);\n",
              "      filter: drop-shadow(0px 1px 2px rgba(0, 0, 0, 0.3));\n",
              "      fill: #FFFFFF;\n",
              "    }\n",
              "  </style>\n",
              "\n",
              "      <script>\n",
              "        const buttonEl =\n",
              "          document.querySelector('#df-67ab5ee2-a424-4f81-94f4-568c704a61d0 button.colab-df-convert');\n",
              "        buttonEl.style.display =\n",
              "          google.colab.kernel.accessAllowed ? 'block' : 'none';\n",
              "\n",
              "        async function convertToInteractive(key) {\n",
              "          const element = document.querySelector('#df-67ab5ee2-a424-4f81-94f4-568c704a61d0');\n",
              "          const dataTable =\n",
              "            await google.colab.kernel.invokeFunction('convertToInteractive',\n",
              "                                                     [key], {});\n",
              "          if (!dataTable) return;\n",
              "\n",
              "          const docLinkHtml = 'Like what you see? Visit the ' +\n",
              "            '<a target=\"_blank\" href=https://colab.research.google.com/notebooks/data_table.ipynb>data table notebook</a>'\n",
              "            + ' to learn more about interactive tables.';\n",
              "          element.innerHTML = '';\n",
              "          dataTable['output_type'] = 'display_data';\n",
              "          await google.colab.output.renderOutput(dataTable, element);\n",
              "          const docLink = document.createElement('div');\n",
              "          docLink.innerHTML = docLinkHtml;\n",
              "          element.appendChild(docLink);\n",
              "        }\n",
              "      </script>\n",
              "    </div>\n",
              "  </div>\n",
              "  "
            ]
          },
          "metadata": {},
          "execution_count": 80
        }
      ],
      "source": [
        "# 각 문서의 주요 토픽 도출\n",
        "df_dominant_topic = format_topics_sentences(optimal_lda_model, corpus, texts=documents['review'].values)\n",
        "df_dominant_topic.head()"
      ]
    },
    {
      "cell_type": "code",
      "execution_count": null,
      "metadata": {
        "colab": {
          "base_uri": "https://localhost:8080/",
          "height": 1610
        },
        "id": "76-3BMy9Ic6M",
        "outputId": "55e66b07-3207-412a-b6ca-7bf68923b69c"
      },
      "outputs": [
        {
          "output_type": "execute_result",
          "data": {
            "text/plain": [
              "   Topic_Num  Topic_Perc_Contrib  \\\n",
              "0          0              0.9895   \n",
              "1          1              0.9808   \n",
              "2          2              0.9780   \n",
              "3          3              0.9898   \n",
              "4          4              0.9918   \n",
              "5          5              0.9866   \n",
              "6          6              0.9870   \n",
              "7          7              0.9827   \n",
              "8          8              0.9848   \n",
              "9          9              0.9816   \n",
              "\n",
              "                                            Keywords  \\\n",
              "0  horror, killer, blood, hous, dead, zombi, gore...   \n",
              "1  school, kid, child, famili, home, wife, jack, ...   \n",
              "2  game, space, human, team, earth, guy, alien, f...   \n",
              "3  famili, father, mother, wife, child, relations...   \n",
              "4  murder, mysteri, style, lead, thriller, viewer...   \n",
              "5  seri, book, anim, episod, version, laugh, read...   \n",
              "6  worst, wast, bore, poor, terribl, review, aw, ...   \n",
              "7  american, documentari, countri, polit, french,...   \n",
              "8  beauti, excel, perfect, song, danc, episod, sc...   \n",
              "9  black, fight, white, soldier, western, america...   \n",
              "\n",
              "                                                Text  \n",
              "0  \"House of the Damned\" (also known as \"Spectre\"...  \n",
              "1  I taped The Morrison Murders on Lifetime Movie...  \n",
              "2  Getting Eaten By A Bunch Of Snakes Is More Ent...  \n",
              "3  On paper, this movie would sound incredibly bo...  \n",
              "4  After his earlier movie \"Videodrome\", which de...  \n",
              "5  When I first heard about \"Down To Earth,\" I wa...  \n",
              "6  simply i just watched this movie just because ...  \n",
              "7  This is a very funny Ealing comedy about a com...  \n",
              "8  please, future writers, producers, directors -...  \n",
              "9  For anyone who wishes to get an impression of ...  "
            ],
            "text/html": [
              "\n",
              "  <div id=\"df-7aa25f4d-f6f1-4299-9ed8-c6a2750620cd\">\n",
              "    <div class=\"colab-df-container\">\n",
              "      <div>\n",
              "<style scoped>\n",
              "    .dataframe tbody tr th:only-of-type {\n",
              "        vertical-align: middle;\n",
              "    }\n",
              "\n",
              "    .dataframe tbody tr th {\n",
              "        vertical-align: top;\n",
              "    }\n",
              "\n",
              "    .dataframe thead th {\n",
              "        text-align: right;\n",
              "    }\n",
              "</style>\n",
              "<table border=\"1\" class=\"dataframe\">\n",
              "  <thead>\n",
              "    <tr style=\"text-align: right;\">\n",
              "      <th></th>\n",
              "      <th>Topic_Num</th>\n",
              "      <th>Topic_Perc_Contrib</th>\n",
              "      <th>Keywords</th>\n",
              "      <th>Text</th>\n",
              "    </tr>\n",
              "  </thead>\n",
              "  <tbody>\n",
              "    <tr>\n",
              "      <th>0</th>\n",
              "      <td>0</td>\n",
              "      <td>0.9895</td>\n",
              "      <td>horror, killer, blood, hous, dead, zombi, gore...</td>\n",
              "      <td>\"House of the Damned\" (also known as \"Spectre\"...</td>\n",
              "    </tr>\n",
              "    <tr>\n",
              "      <th>1</th>\n",
              "      <td>1</td>\n",
              "      <td>0.9808</td>\n",
              "      <td>school, kid, child, famili, home, wife, jack, ...</td>\n",
              "      <td>I taped The Morrison Murders on Lifetime Movie...</td>\n",
              "    </tr>\n",
              "    <tr>\n",
              "      <th>2</th>\n",
              "      <td>2</td>\n",
              "      <td>0.9780</td>\n",
              "      <td>game, space, human, team, earth, guy, alien, f...</td>\n",
              "      <td>Getting Eaten By A Bunch Of Snakes Is More Ent...</td>\n",
              "    </tr>\n",
              "    <tr>\n",
              "      <th>3</th>\n",
              "      <td>3</td>\n",
              "      <td>0.9898</td>\n",
              "      <td>famili, father, mother, wife, child, relations...</td>\n",
              "      <td>On paper, this movie would sound incredibly bo...</td>\n",
              "    </tr>\n",
              "    <tr>\n",
              "      <th>4</th>\n",
              "      <td>4</td>\n",
              "      <td>0.9918</td>\n",
              "      <td>murder, mysteri, style, lead, thriller, viewer...</td>\n",
              "      <td>After his earlier movie \"Videodrome\", which de...</td>\n",
              "    </tr>\n",
              "    <tr>\n",
              "      <th>5</th>\n",
              "      <td>5</td>\n",
              "      <td>0.9866</td>\n",
              "      <td>seri, book, anim, episod, version, laugh, read...</td>\n",
              "      <td>When I first heard about \"Down To Earth,\" I wa...</td>\n",
              "    </tr>\n",
              "    <tr>\n",
              "      <th>6</th>\n",
              "      <td>6</td>\n",
              "      <td>0.9870</td>\n",
              "      <td>worst, wast, bore, poor, terribl, review, aw, ...</td>\n",
              "      <td>simply i just watched this movie just because ...</td>\n",
              "    </tr>\n",
              "    <tr>\n",
              "      <th>7</th>\n",
              "      <td>7</td>\n",
              "      <td>0.9827</td>\n",
              "      <td>american, documentari, countri, polit, french,...</td>\n",
              "      <td>This is a very funny Ealing comedy about a com...</td>\n",
              "    </tr>\n",
              "    <tr>\n",
              "      <th>8</th>\n",
              "      <td>8</td>\n",
              "      <td>0.9848</td>\n",
              "      <td>beauti, excel, perfect, song, danc, episod, sc...</td>\n",
              "      <td>please, future writers, producers, directors -...</td>\n",
              "    </tr>\n",
              "    <tr>\n",
              "      <th>9</th>\n",
              "      <td>9</td>\n",
              "      <td>0.9816</td>\n",
              "      <td>black, fight, white, soldier, western, america...</td>\n",
              "      <td>For anyone who wishes to get an impression of ...</td>\n",
              "    </tr>\n",
              "  </tbody>\n",
              "</table>\n",
              "</div>\n",
              "      <button class=\"colab-df-convert\" onclick=\"convertToInteractive('df-7aa25f4d-f6f1-4299-9ed8-c6a2750620cd')\"\n",
              "              title=\"Convert this dataframe to an interactive table.\"\n",
              "              style=\"display:none;\">\n",
              "        \n",
              "  <svg xmlns=\"http://www.w3.org/2000/svg\" height=\"24px\"viewBox=\"0 0 24 24\"\n",
              "       width=\"24px\">\n",
              "    <path d=\"M0 0h24v24H0V0z\" fill=\"none\"/>\n",
              "    <path d=\"M18.56 5.44l.94 2.06.94-2.06 2.06-.94-2.06-.94-.94-2.06-.94 2.06-2.06.94zm-11 1L8.5 8.5l.94-2.06 2.06-.94-2.06-.94L8.5 2.5l-.94 2.06-2.06.94zm10 10l.94 2.06.94-2.06 2.06-.94-2.06-.94-.94-2.06-.94 2.06-2.06.94z\"/><path d=\"M17.41 7.96l-1.37-1.37c-.4-.4-.92-.59-1.43-.59-.52 0-1.04.2-1.43.59L10.3 9.45l-7.72 7.72c-.78.78-.78 2.05 0 2.83L4 21.41c.39.39.9.59 1.41.59.51 0 1.02-.2 1.41-.59l7.78-7.78 2.81-2.81c.8-.78.8-2.07 0-2.86zM5.41 20L4 18.59l7.72-7.72 1.47 1.35L5.41 20z\"/>\n",
              "  </svg>\n",
              "      </button>\n",
              "      \n",
              "  <style>\n",
              "    .colab-df-container {\n",
              "      display:flex;\n",
              "      flex-wrap:wrap;\n",
              "      gap: 12px;\n",
              "    }\n",
              "\n",
              "    .colab-df-convert {\n",
              "      background-color: #E8F0FE;\n",
              "      border: none;\n",
              "      border-radius: 50%;\n",
              "      cursor: pointer;\n",
              "      display: none;\n",
              "      fill: #1967D2;\n",
              "      height: 32px;\n",
              "      padding: 0 0 0 0;\n",
              "      width: 32px;\n",
              "    }\n",
              "\n",
              "    .colab-df-convert:hover {\n",
              "      background-color: #E2EBFA;\n",
              "      box-shadow: 0px 1px 2px rgba(60, 64, 67, 0.3), 0px 1px 3px 1px rgba(60, 64, 67, 0.15);\n",
              "      fill: #174EA6;\n",
              "    }\n",
              "\n",
              "    [theme=dark] .colab-df-convert {\n",
              "      background-color: #3B4455;\n",
              "      fill: #D2E3FC;\n",
              "    }\n",
              "\n",
              "    [theme=dark] .colab-df-convert:hover {\n",
              "      background-color: #434B5C;\n",
              "      box-shadow: 0px 1px 3px 1px rgba(0, 0, 0, 0.15);\n",
              "      filter: drop-shadow(0px 1px 2px rgba(0, 0, 0, 0.3));\n",
              "      fill: #FFFFFF;\n",
              "    }\n",
              "  </style>\n",
              "\n",
              "      <script>\n",
              "        const buttonEl =\n",
              "          document.querySelector('#df-7aa25f4d-f6f1-4299-9ed8-c6a2750620cd button.colab-df-convert');\n",
              "        buttonEl.style.display =\n",
              "          google.colab.kernel.accessAllowed ? 'block' : 'none';\n",
              "\n",
              "        async function convertToInteractive(key) {\n",
              "          const element = document.querySelector('#df-7aa25f4d-f6f1-4299-9ed8-c6a2750620cd');\n",
              "          const dataTable =\n",
              "            await google.colab.kernel.invokeFunction('convertToInteractive',\n",
              "                                                     [key], {});\n",
              "          if (!dataTable) return;\n",
              "\n",
              "          const docLinkHtml = 'Like what you see? Visit the ' +\n",
              "            '<a target=\"_blank\" href=https://colab.research.google.com/notebooks/data_table.ipynb>data table notebook</a>'\n",
              "            + ' to learn more about interactive tables.';\n",
              "          element.innerHTML = '';\n",
              "          dataTable['output_type'] = 'display_data';\n",
              "          await google.colab.output.renderOutput(dataTable, element);\n",
              "          const docLink = document.createElement('div');\n",
              "          docLink.innerHTML = docLinkHtml;\n",
              "          element.appendChild(docLink);\n",
              "        }\n",
              "      </script>\n",
              "    </div>\n",
              "  </div>\n",
              "  "
            ]
          },
          "metadata": {},
          "execution_count": 82
        }
      ],
      "source": [
        "# 각 토픽의 대표 문서 도출\n",
        "#\n",
        "# .groupby로 0~9로 그룹핑됨.  --> i 로 받음\n",
        "# \n",
        "\n",
        "df_representative_doc = []\n",
        "for i, grp in df_dominant_topic.groupby('Dominant_Topic'):   # for i , for grp 2번할꺼를 한번에 하네...\n",
        "    df_representative_doc.append(grp.sort_values(['Topic_Perc_Contrib'], ascending=[0]).head(3).values.tolist()[0])   # top10은 head(10)\n",
        "\n",
        "    # df_representative_doc.append(grp.sort_values(['Topic_Perc_Contrib'], ascending=[0]).head(1).values.tolist()[0])   # top10은 head(10)\n",
        "    # grp 마다 확률이 높은순으로 소팅() .sort_values )  head(1)은 확률이 가장큰값 도출\n",
        "    #  --> list로 만듬 (.values.tolist())\n",
        "\n",
        "df_representative_doc = pd.DataFrame(df_representative_doc, columns=['Topic_Num', \"Topic_Perc_Contrib\", \"Keywords\", \"Text\"])\n",
        "df_representative_doc"
      ]
    },
    {
      "cell_type": "code",
      "execution_count": null,
      "metadata": {
        "colab": {
          "base_uri": "https://localhost:8080/",
          "height": 321
        },
        "id": "w4YbQnsnIo9n",
        "outputId": "5409bf3e-d77b-4574-b3e2-afcc8369cc4b"
      },
      "outputs": [
        {
          "output_type": "execute_result",
          "data": {
            "text/plain": [
              "   Dominant_Topic                                     Topic_Keywords  \\\n",
              "0               0  horror, killer, blood, hous, dead, zombi, gore...   \n",
              "1               1  school, kid, child, famili, home, wife, jack, ...   \n",
              "2               2  game, space, human, team, earth, guy, alien, f...   \n",
              "3               3  famili, father, mother, wife, child, relations...   \n",
              "4               4  murder, mysteri, style, lead, thriller, viewer...   \n",
              "5               5  seri, book, anim, episod, version, laugh, read...   \n",
              "6               6  worst, wast, bore, poor, terribl, review, aw, ...   \n",
              "7               7  american, documentari, countri, polit, french,...   \n",
              "8               8  beauti, excel, perfect, song, danc, episod, sc...   \n",
              "9               9  black, fight, white, soldier, western, america...   \n",
              "\n",
              "   Num_Documents  Perc_Documents  \n",
              "0           4446         0.08892  \n",
              "1           3099         0.06198  \n",
              "2           2881         0.05762  \n",
              "3           5499         0.10998  \n",
              "4           5406         0.10812  \n",
              "5           4478         0.08956  \n",
              "6          11967         0.23934  \n",
              "7           2640         0.05280  \n",
              "8           7068         0.14136  \n",
              "9           2516         0.05032  "
            ],
            "text/html": [
              "\n",
              "  <div id=\"df-5c7bab00-a68d-4ca9-b043-11b285f426d3\">\n",
              "    <div class=\"colab-df-container\">\n",
              "      <div>\n",
              "<style scoped>\n",
              "    .dataframe tbody tr th:only-of-type {\n",
              "        vertical-align: middle;\n",
              "    }\n",
              "\n",
              "    .dataframe tbody tr th {\n",
              "        vertical-align: top;\n",
              "    }\n",
              "\n",
              "    .dataframe thead th {\n",
              "        text-align: right;\n",
              "    }\n",
              "</style>\n",
              "<table border=\"1\" class=\"dataframe\">\n",
              "  <thead>\n",
              "    <tr style=\"text-align: right;\">\n",
              "      <th></th>\n",
              "      <th>Dominant_Topic</th>\n",
              "      <th>Topic_Keywords</th>\n",
              "      <th>Num_Documents</th>\n",
              "      <th>Perc_Documents</th>\n",
              "    </tr>\n",
              "  </thead>\n",
              "  <tbody>\n",
              "    <tr>\n",
              "      <th>0</th>\n",
              "      <td>0</td>\n",
              "      <td>horror, killer, blood, hous, dead, zombi, gore...</td>\n",
              "      <td>4446</td>\n",
              "      <td>0.08892</td>\n",
              "    </tr>\n",
              "    <tr>\n",
              "      <th>1</th>\n",
              "      <td>1</td>\n",
              "      <td>school, kid, child, famili, home, wife, jack, ...</td>\n",
              "      <td>3099</td>\n",
              "      <td>0.06198</td>\n",
              "    </tr>\n",
              "    <tr>\n",
              "      <th>2</th>\n",
              "      <td>2</td>\n",
              "      <td>game, space, human, team, earth, guy, alien, f...</td>\n",
              "      <td>2881</td>\n",
              "      <td>0.05762</td>\n",
              "    </tr>\n",
              "    <tr>\n",
              "      <th>3</th>\n",
              "      <td>3</td>\n",
              "      <td>famili, father, mother, wife, child, relations...</td>\n",
              "      <td>5499</td>\n",
              "      <td>0.10998</td>\n",
              "    </tr>\n",
              "    <tr>\n",
              "      <th>4</th>\n",
              "      <td>4</td>\n",
              "      <td>murder, mysteri, style, lead, thriller, viewer...</td>\n",
              "      <td>5406</td>\n",
              "      <td>0.10812</td>\n",
              "    </tr>\n",
              "    <tr>\n",
              "      <th>5</th>\n",
              "      <td>5</td>\n",
              "      <td>seri, book, anim, episod, version, laugh, read...</td>\n",
              "      <td>4478</td>\n",
              "      <td>0.08956</td>\n",
              "    </tr>\n",
              "    <tr>\n",
              "      <th>6</th>\n",
              "      <td>6</td>\n",
              "      <td>worst, wast, bore, poor, terribl, review, aw, ...</td>\n",
              "      <td>11967</td>\n",
              "      <td>0.23934</td>\n",
              "    </tr>\n",
              "    <tr>\n",
              "      <th>7</th>\n",
              "      <td>7</td>\n",
              "      <td>american, documentari, countri, polit, french,...</td>\n",
              "      <td>2640</td>\n",
              "      <td>0.05280</td>\n",
              "    </tr>\n",
              "    <tr>\n",
              "      <th>8</th>\n",
              "      <td>8</td>\n",
              "      <td>beauti, excel, perfect, song, danc, episod, sc...</td>\n",
              "      <td>7068</td>\n",
              "      <td>0.14136</td>\n",
              "    </tr>\n",
              "    <tr>\n",
              "      <th>9</th>\n",
              "      <td>9</td>\n",
              "      <td>black, fight, white, soldier, western, america...</td>\n",
              "      <td>2516</td>\n",
              "      <td>0.05032</td>\n",
              "    </tr>\n",
              "  </tbody>\n",
              "</table>\n",
              "</div>\n",
              "      <button class=\"colab-df-convert\" onclick=\"convertToInteractive('df-5c7bab00-a68d-4ca9-b043-11b285f426d3')\"\n",
              "              title=\"Convert this dataframe to an interactive table.\"\n",
              "              style=\"display:none;\">\n",
              "        \n",
              "  <svg xmlns=\"http://www.w3.org/2000/svg\" height=\"24px\"viewBox=\"0 0 24 24\"\n",
              "       width=\"24px\">\n",
              "    <path d=\"M0 0h24v24H0V0z\" fill=\"none\"/>\n",
              "    <path d=\"M18.56 5.44l.94 2.06.94-2.06 2.06-.94-2.06-.94-.94-2.06-.94 2.06-2.06.94zm-11 1L8.5 8.5l.94-2.06 2.06-.94-2.06-.94L8.5 2.5l-.94 2.06-2.06.94zm10 10l.94 2.06.94-2.06 2.06-.94-2.06-.94-.94-2.06-.94 2.06-2.06.94z\"/><path d=\"M17.41 7.96l-1.37-1.37c-.4-.4-.92-.59-1.43-.59-.52 0-1.04.2-1.43.59L10.3 9.45l-7.72 7.72c-.78.78-.78 2.05 0 2.83L4 21.41c.39.39.9.59 1.41.59.51 0 1.02-.2 1.41-.59l7.78-7.78 2.81-2.81c.8-.78.8-2.07 0-2.86zM5.41 20L4 18.59l7.72-7.72 1.47 1.35L5.41 20z\"/>\n",
              "  </svg>\n",
              "      </button>\n",
              "      \n",
              "  <style>\n",
              "    .colab-df-container {\n",
              "      display:flex;\n",
              "      flex-wrap:wrap;\n",
              "      gap: 12px;\n",
              "    }\n",
              "\n",
              "    .colab-df-convert {\n",
              "      background-color: #E8F0FE;\n",
              "      border: none;\n",
              "      border-radius: 50%;\n",
              "      cursor: pointer;\n",
              "      display: none;\n",
              "      fill: #1967D2;\n",
              "      height: 32px;\n",
              "      padding: 0 0 0 0;\n",
              "      width: 32px;\n",
              "    }\n",
              "\n",
              "    .colab-df-convert:hover {\n",
              "      background-color: #E2EBFA;\n",
              "      box-shadow: 0px 1px 2px rgba(60, 64, 67, 0.3), 0px 1px 3px 1px rgba(60, 64, 67, 0.15);\n",
              "      fill: #174EA6;\n",
              "    }\n",
              "\n",
              "    [theme=dark] .colab-df-convert {\n",
              "      background-color: #3B4455;\n",
              "      fill: #D2E3FC;\n",
              "    }\n",
              "\n",
              "    [theme=dark] .colab-df-convert:hover {\n",
              "      background-color: #434B5C;\n",
              "      box-shadow: 0px 1px 3px 1px rgba(0, 0, 0, 0.15);\n",
              "      filter: drop-shadow(0px 1px 2px rgba(0, 0, 0, 0.3));\n",
              "      fill: #FFFFFF;\n",
              "    }\n",
              "  </style>\n",
              "\n",
              "      <script>\n",
              "        const buttonEl =\n",
              "          document.querySelector('#df-5c7bab00-a68d-4ca9-b043-11b285f426d3 button.colab-df-convert');\n",
              "        buttonEl.style.display =\n",
              "          google.colab.kernel.accessAllowed ? 'block' : 'none';\n",
              "\n",
              "        async function convertToInteractive(key) {\n",
              "          const element = document.querySelector('#df-5c7bab00-a68d-4ca9-b043-11b285f426d3');\n",
              "          const dataTable =\n",
              "            await google.colab.kernel.invokeFunction('convertToInteractive',\n",
              "                                                     [key], {});\n",
              "          if (!dataTable) return;\n",
              "\n",
              "          const docLinkHtml = 'Like what you see? Visit the ' +\n",
              "            '<a target=\"_blank\" href=https://colab.research.google.com/notebooks/data_table.ipynb>data table notebook</a>'\n",
              "            + ' to learn more about interactive tables.';\n",
              "          element.innerHTML = '';\n",
              "          dataTable['output_type'] = 'display_data';\n",
              "          await google.colab.output.renderOutput(dataTable, element);\n",
              "          const docLink = document.createElement('div');\n",
              "          docLink.innerHTML = docLinkHtml;\n",
              "          element.appendChild(docLink);\n",
              "        }\n",
              "      </script>\n",
              "    </div>\n",
              "  </div>\n",
              "  "
            ]
          },
          "metadata": {},
          "execution_count": 83
        }
      ],
      "source": [
        "# 각 문서의 주요 토픽을 기반으로 한 토픽별 문서 비율 도출\n",
        "# 토픽별 문서의 개수 도출\n",
        "topic_counts = df_dominant_topic['Dominant_Topic'].value_counts()\n",
        "topic_counts = topic_counts.to_frame().sort_index()   # sort_index() 하면 index기준으로 소팅\n",
        "\n",
        "# 토픽별 문서 개수의 비율 도출\n",
        "topic_contribution = df_dominant_topic['Dominant_Topic'].value_counts(normalize=True)\n",
        "topic_contribution = topic_contribution.to_frame().sort_index()\n",
        "\n",
        "# 토픽별 키워드 도출\n",
        "topic_num_keywords = df_representative_doc[['Topic_Num', 'Keywords']]\n",
        "\n",
        "# 결과 정리\n",
        "df_dominant_topics = pd.concat([topic_num_keywords, topic_counts, topic_contribution], axis=1)\n",
        "df_dominant_topics.columns = ['Dominant_Topic', 'Topic_Keywords', 'Num_Documents', 'Perc_Documents']\n",
        "df_dominant_topics"
      ]
    },
    {
      "cell_type": "markdown",
      "metadata": {
        "id": "acTD61JYUWGS"
      },
      "source": [
        "---"
      ]
    }
  ],
  "metadata": {
    "colab": {
      "collapsed_sections": [],
      "name": "01_LDA.ipynb의 사본",
      "provenance": [],
      "toc_visible": true,
      "include_colab_link": true
    },
    "kernelspec": {
      "display_name": "Python3 (dsba)",
      "language": "python",
      "name": "dsba"
    },
    "language_info": {
      "codemirror_mode": {
        "name": "ipython",
        "version": 3
      },
      "file_extension": ".py",
      "mimetype": "text/x-python",
      "name": "python",
      "nbconvert_exporter": "python",
      "pygments_lexer": "ipython3",
      "version": "3.6.12"
    }
  },
  "nbformat": 4,
  "nbformat_minor": 0
}